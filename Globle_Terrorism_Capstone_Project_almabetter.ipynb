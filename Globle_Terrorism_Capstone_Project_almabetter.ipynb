{
  "cells": [
    {
      "cell_type": "markdown",
      "metadata": {
        "id": "AJdCReZyvuQv"
      },
      "source": [
        "# **Project Name - Global Terrorism Analysis**"
      ]
    },
    {
      "cell_type": "markdown",
      "metadata": {
        "id": "2yOW8R7VPWnS"
      },
      "source": [
        "##### **Project Type**    - EDA\n",
        "##### **Contribution**    - Individual"
      ]
    },
    {
      "attachments": {},
      "cell_type": "markdown",
      "metadata": {
        "id": "9NMF7IMowjZM"
      },
      "source": [
        "## **Summary**"
      ]
    },
    {
      "cell_type": "markdown",
      "metadata": {
        "id": "cuI3l01lvfUD"
      },
      "source": [
        "In this Capstone Project, we are going to perform Exploratory Data Analysis on terrorism dataset to find out the hot zone of terrorism. Exploratory data analysis is nothing but analyzing the given data and finding the trends, patterns and making some assumptions. In this dataset, there are many features including countries, states, regions, gang names, weapon types, target types, years, months, days, and many more features."
      ]
    },
    {
      "cell_type": "markdown",
      "metadata": {
        "id": "3wVqNC92v-u0"
      },
      "source": [
        "## **Main effects of terrorism on international business**"
      ]
    },
    {
      "cell_type": "markdown",
      "metadata": {
        "id": "mnxMxfo7v2g9"
      },
      "source": [
        "On a broader scale, terrorism hurts international trade. This may be due to imminent threats, such as compromised trade routes and distribution systems, or because of the psychological and physical reactions to terrorism. This also means less foreign direct investment (FDI), especially in unstable countries.\n",
        "\n"
      ]
    },
    {
      "cell_type": "markdown",
      "metadata": {
        "id": "GHSBogDuwafS"
      },
      "source": [
        "## **Importing libraries**"
      ]
    },
    {
      "cell_type": "code",
      "execution_count": 1,
      "metadata": {
        "id": "18dazmY2nWhX"
      },
      "outputs": [],
      "source": [
        "#Basic Dependencies\n",
        "import pandas as pd\n",
        "import numpy as np\n",
        "#For basic plotting graphs and charts\n",
        "import matplotlib.pyplot as plt\n",
        "%matplotlib inline\n",
        "# Using Plotly instance methods to plot your data on interactive maps and charts\n",
        "import plotly.express as px\n",
        "import plotly.graph_objects as go\n",
        "# For more plotting options\n",
        "import seaborn as sns\n",
        "# To just ignore all the warnings.\n",
        "import warnings\n",
        "warnings.filterwarnings(\"ignore\")"
      ]
    },
    {
      "cell_type": "markdown",
      "metadata": {
        "id": "khFr-hXOzM_X"
      },
      "source": [
        "## **Dataset Loading**"
      ]
    },
    {
      "cell_type": "code",
      "execution_count": 2,
      "metadata": {
        "colab": {
          "base_uri": "https://localhost:8080/"
        },
        "id": "aYIPVCDlnDhu",
        "outputId": "db414e19-fcc0-4ca6-d573-11a4dcca3b67"
      },
      "outputs": [
        {
          "name": "stdout",
          "output_type": "stream",
          "text": [
            "Mounted at /content/drive\n"
          ]
        }
      ],
      "source": [
        "# Mounting Google Drive\n",
        "from google.colab import drive\n",
        "drive.mount('/content/drive')"
      ]
    },
    {
      "cell_type": "code",
      "execution_count": 3,
      "metadata": {
        "id": "trl2iTd4nDfh"
      },
      "outputs": [],
      "source": [
        "# File Directory path from Google Drive \n",
        "File_Path= \"/content/drive/MyDrive/Copy of Global Terrorism Data.csv\""
      ]
    },
    {
      "cell_type": "code",
      "execution_count": 3,
      "metadata": {},
      "outputs": [],
      "source": [
        "File_Path= \"D:\\project\\GTD Analysis Almabetter\\Global Terrorism Data.csv\""
      ]
    },
    {
      "cell_type": "code",
      "execution_count": 4,
      "metadata": {
        "id": "rSn1_4itzQHr"
      },
      "outputs": [],
      "source": [
        "# Importing Global Terrorism File.\n",
        "df= pd.read_csv(File_Path,encoding='latin-1')"
      ]
    },
    {
      "cell_type": "markdown",
      "metadata": {
        "id": "EDWME_I104wT"
      },
      "source": [
        "### **Information of Data**"
      ]
    },
    {
      "cell_type": "code",
      "execution_count": 5,
      "metadata": {
        "colab": {
          "base_uri": "https://localhost:8080/"
        },
        "id": "7IImMG0vV_dM",
        "outputId": "ca815a14-0017-4289-9a66-7da08b02f245"
      },
      "outputs": [
        {
          "name": "stdout",
          "output_type": "stream",
          "text": [
            "<class 'pandas.core.frame.DataFrame'>\n",
            "RangeIndex: 181691 entries, 0 to 181690\n",
            "Columns: 135 entries, eventid to related\n",
            "dtypes: float64(55), int64(22), object(58)\n",
            "memory usage: 187.1+ MB\n"
          ]
        }
      ],
      "source": [
        "df.info()"
      ]
    },
    {
      "cell_type": "code",
      "execution_count": null,
      "metadata": {
        "colab": {
          "base_uri": "https://localhost:8080/"
        },
        "id": "yDqxu5Gxpk4Z",
        "outputId": "16fddd3a-bef9-4b1b-9aae-50aa4f7eed86"
      },
      "outputs": [
        {
          "data": {
            "text/plain": [
              "Index(['eventid', 'iyear', 'imonth', 'iday', 'approxdate', 'extended',\n",
              "       'resolution', 'country', 'country_txt', 'region',\n",
              "       ...\n",
              "       'addnotes', 'scite1', 'scite2', 'scite3', 'dbsource', 'INT_LOG',\n",
              "       'INT_IDEO', 'INT_MISC', 'INT_ANY', 'related'],\n",
              "      dtype='object', length=135)"
            ]
          },
          "execution_count": 6,
          "metadata": {},
          "output_type": "execute_result"
        }
      ],
      "source": [
        "df.columns"
      ]
    },
    {
      "cell_type": "markdown",
      "metadata": {
        "id": "BIkUsBv30JJs"
      },
      "source": [
        "### **Dataset First View**"
      ]
    },
    {
      "cell_type": "code",
      "execution_count": null,
      "metadata": {
        "colab": {
          "base_uri": "https://localhost:8080/",
          "height": 317
        },
        "id": "tvuXMm6xn0c1",
        "outputId": "a713c472-c1e1-4048-fbd1-85cc5dbe2c22"
      },
      "outputs": [
        {
          "data": {
            "text/html": [
              "\n",
              "  <div id=\"df-a38209d2-892a-4e7b-aaef-c5955a35122f\">\n",
              "    <div class=\"colab-df-container\">\n",
              "      <div>\n",
              "<style scoped>\n",
              "    .dataframe tbody tr th:only-of-type {\n",
              "        vertical-align: middle;\n",
              "    }\n",
              "\n",
              "    .dataframe tbody tr th {\n",
              "        vertical-align: top;\n",
              "    }\n",
              "\n",
              "    .dataframe thead th {\n",
              "        text-align: right;\n",
              "    }\n",
              "</style>\n",
              "<table border=\"1\" class=\"dataframe\">\n",
              "  <thead>\n",
              "    <tr style=\"text-align: right;\">\n",
              "      <th></th>\n",
              "      <th>eventid</th>\n",
              "      <th>iyear</th>\n",
              "      <th>imonth</th>\n",
              "      <th>iday</th>\n",
              "      <th>approxdate</th>\n",
              "      <th>extended</th>\n",
              "      <th>resolution</th>\n",
              "      <th>country</th>\n",
              "      <th>country_txt</th>\n",
              "      <th>region</th>\n",
              "      <th>...</th>\n",
              "      <th>addnotes</th>\n",
              "      <th>scite1</th>\n",
              "      <th>scite2</th>\n",
              "      <th>scite3</th>\n",
              "      <th>dbsource</th>\n",
              "      <th>INT_LOG</th>\n",
              "      <th>INT_IDEO</th>\n",
              "      <th>INT_MISC</th>\n",
              "      <th>INT_ANY</th>\n",
              "      <th>related</th>\n",
              "    </tr>\n",
              "  </thead>\n",
              "  <tbody>\n",
              "    <tr>\n",
              "      <th>0</th>\n",
              "      <td>197000000001</td>\n",
              "      <td>1970</td>\n",
              "      <td>7</td>\n",
              "      <td>2</td>\n",
              "      <td>NaN</td>\n",
              "      <td>0</td>\n",
              "      <td>NaN</td>\n",
              "      <td>58</td>\n",
              "      <td>Dominican Republic</td>\n",
              "      <td>2</td>\n",
              "      <td>...</td>\n",
              "      <td>NaN</td>\n",
              "      <td>NaN</td>\n",
              "      <td>NaN</td>\n",
              "      <td>NaN</td>\n",
              "      <td>PGIS</td>\n",
              "      <td>0</td>\n",
              "      <td>0</td>\n",
              "      <td>0</td>\n",
              "      <td>0</td>\n",
              "      <td>NaN</td>\n",
              "    </tr>\n",
              "    <tr>\n",
              "      <th>1</th>\n",
              "      <td>197000000002</td>\n",
              "      <td>1970</td>\n",
              "      <td>0</td>\n",
              "      <td>0</td>\n",
              "      <td>NaN</td>\n",
              "      <td>0</td>\n",
              "      <td>NaN</td>\n",
              "      <td>130</td>\n",
              "      <td>Mexico</td>\n",
              "      <td>1</td>\n",
              "      <td>...</td>\n",
              "      <td>NaN</td>\n",
              "      <td>NaN</td>\n",
              "      <td>NaN</td>\n",
              "      <td>NaN</td>\n",
              "      <td>PGIS</td>\n",
              "      <td>0</td>\n",
              "      <td>1</td>\n",
              "      <td>1</td>\n",
              "      <td>1</td>\n",
              "      <td>NaN</td>\n",
              "    </tr>\n",
              "    <tr>\n",
              "      <th>2</th>\n",
              "      <td>197001000001</td>\n",
              "      <td>1970</td>\n",
              "      <td>1</td>\n",
              "      <td>0</td>\n",
              "      <td>NaN</td>\n",
              "      <td>0</td>\n",
              "      <td>NaN</td>\n",
              "      <td>160</td>\n",
              "      <td>Philippines</td>\n",
              "      <td>5</td>\n",
              "      <td>...</td>\n",
              "      <td>NaN</td>\n",
              "      <td>NaN</td>\n",
              "      <td>NaN</td>\n",
              "      <td>NaN</td>\n",
              "      <td>PGIS</td>\n",
              "      <td>-9</td>\n",
              "      <td>-9</td>\n",
              "      <td>1</td>\n",
              "      <td>1</td>\n",
              "      <td>NaN</td>\n",
              "    </tr>\n",
              "    <tr>\n",
              "      <th>3</th>\n",
              "      <td>197001000002</td>\n",
              "      <td>1970</td>\n",
              "      <td>1</td>\n",
              "      <td>0</td>\n",
              "      <td>NaN</td>\n",
              "      <td>0</td>\n",
              "      <td>NaN</td>\n",
              "      <td>78</td>\n",
              "      <td>Greece</td>\n",
              "      <td>8</td>\n",
              "      <td>...</td>\n",
              "      <td>NaN</td>\n",
              "      <td>NaN</td>\n",
              "      <td>NaN</td>\n",
              "      <td>NaN</td>\n",
              "      <td>PGIS</td>\n",
              "      <td>-9</td>\n",
              "      <td>-9</td>\n",
              "      <td>1</td>\n",
              "      <td>1</td>\n",
              "      <td>NaN</td>\n",
              "    </tr>\n",
              "    <tr>\n",
              "      <th>4</th>\n",
              "      <td>197001000003</td>\n",
              "      <td>1970</td>\n",
              "      <td>1</td>\n",
              "      <td>0</td>\n",
              "      <td>NaN</td>\n",
              "      <td>0</td>\n",
              "      <td>NaN</td>\n",
              "      <td>101</td>\n",
              "      <td>Japan</td>\n",
              "      <td>4</td>\n",
              "      <td>...</td>\n",
              "      <td>NaN</td>\n",
              "      <td>NaN</td>\n",
              "      <td>NaN</td>\n",
              "      <td>NaN</td>\n",
              "      <td>PGIS</td>\n",
              "      <td>-9</td>\n",
              "      <td>-9</td>\n",
              "      <td>1</td>\n",
              "      <td>1</td>\n",
              "      <td>NaN</td>\n",
              "    </tr>\n",
              "  </tbody>\n",
              "</table>\n",
              "<p>5 rows × 135 columns</p>\n",
              "</div>\n",
              "      <button class=\"colab-df-convert\" onclick=\"convertToInteractive('df-a38209d2-892a-4e7b-aaef-c5955a35122f')\"\n",
              "              title=\"Convert this dataframe to an interactive table.\"\n",
              "              style=\"display:none;\">\n",
              "        \n",
              "  <svg xmlns=\"http://www.w3.org/2000/svg\" height=\"24px\"viewBox=\"0 0 24 24\"\n",
              "       width=\"24px\">\n",
              "    <path d=\"M0 0h24v24H0V0z\" fill=\"none\"/>\n",
              "    <path d=\"M18.56 5.44l.94 2.06.94-2.06 2.06-.94-2.06-.94-.94-2.06-.94 2.06-2.06.94zm-11 1L8.5 8.5l.94-2.06 2.06-.94-2.06-.94L8.5 2.5l-.94 2.06-2.06.94zm10 10l.94 2.06.94-2.06 2.06-.94-2.06-.94-.94-2.06-.94 2.06-2.06.94z\"/><path d=\"M17.41 7.96l-1.37-1.37c-.4-.4-.92-.59-1.43-.59-.52 0-1.04.2-1.43.59L10.3 9.45l-7.72 7.72c-.78.78-.78 2.05 0 2.83L4 21.41c.39.39.9.59 1.41.59.51 0 1.02-.2 1.41-.59l7.78-7.78 2.81-2.81c.8-.78.8-2.07 0-2.86zM5.41 20L4 18.59l7.72-7.72 1.47 1.35L5.41 20z\"/>\n",
              "  </svg>\n",
              "      </button>\n",
              "      \n",
              "  <style>\n",
              "    .colab-df-container {\n",
              "      display:flex;\n",
              "      flex-wrap:wrap;\n",
              "      gap: 12px;\n",
              "    }\n",
              "\n",
              "    .colab-df-convert {\n",
              "      background-color: #E8F0FE;\n",
              "      border: none;\n",
              "      border-radius: 50%;\n",
              "      cursor: pointer;\n",
              "      display: none;\n",
              "      fill: #1967D2;\n",
              "      height: 32px;\n",
              "      padding: 0 0 0 0;\n",
              "      width: 32px;\n",
              "    }\n",
              "\n",
              "    .colab-df-convert:hover {\n",
              "      background-color: #E2EBFA;\n",
              "      box-shadow: 0px 1px 2px rgba(60, 64, 67, 0.3), 0px 1px 3px 1px rgba(60, 64, 67, 0.15);\n",
              "      fill: #174EA6;\n",
              "    }\n",
              "\n",
              "    [theme=dark] .colab-df-convert {\n",
              "      background-color: #3B4455;\n",
              "      fill: #D2E3FC;\n",
              "    }\n",
              "\n",
              "    [theme=dark] .colab-df-convert:hover {\n",
              "      background-color: #434B5C;\n",
              "      box-shadow: 0px 1px 3px 1px rgba(0, 0, 0, 0.15);\n",
              "      filter: drop-shadow(0px 1px 2px rgba(0, 0, 0, 0.3));\n",
              "      fill: #FFFFFF;\n",
              "    }\n",
              "  </style>\n",
              "\n",
              "      <script>\n",
              "        const buttonEl =\n",
              "          document.querySelector('#df-a38209d2-892a-4e7b-aaef-c5955a35122f button.colab-df-convert');\n",
              "        buttonEl.style.display =\n",
              "          google.colab.kernel.accessAllowed ? 'block' : 'none';\n",
              "\n",
              "        async function convertToInteractive(key) {\n",
              "          const element = document.querySelector('#df-a38209d2-892a-4e7b-aaef-c5955a35122f');\n",
              "          const dataTable =\n",
              "            await google.colab.kernel.invokeFunction('convertToInteractive',\n",
              "                                                     [key], {});\n",
              "          if (!dataTable) return;\n",
              "\n",
              "          const docLinkHtml = 'Like what you see? Visit the ' +\n",
              "            '<a target=\"_blank\" href=https://colab.research.google.com/notebooks/data_table.ipynb>data table notebook</a>'\n",
              "            + ' to learn more about interactive tables.';\n",
              "          element.innerHTML = '';\n",
              "          dataTable['output_type'] = 'display_data';\n",
              "          await google.colab.output.renderOutput(dataTable, element);\n",
              "          const docLink = document.createElement('div');\n",
              "          docLink.innerHTML = docLinkHtml;\n",
              "          element.appendChild(docLink);\n",
              "        }\n",
              "      </script>\n",
              "    </div>\n",
              "  </div>\n",
              "  "
            ],
            "text/plain": [
              "        eventid  iyear  imonth  iday approxdate  extended resolution  country  \\\n",
              "0  197000000001   1970       7     2        NaN         0        NaN       58   \n",
              "1  197000000002   1970       0     0        NaN         0        NaN      130   \n",
              "2  197001000001   1970       1     0        NaN         0        NaN      160   \n",
              "3  197001000002   1970       1     0        NaN         0        NaN       78   \n",
              "4  197001000003   1970       1     0        NaN         0        NaN      101   \n",
              "\n",
              "          country_txt  region  ... addnotes scite1 scite2  scite3  dbsource  \\\n",
              "0  Dominican Republic       2  ...      NaN    NaN    NaN     NaN      PGIS   \n",
              "1              Mexico       1  ...      NaN    NaN    NaN     NaN      PGIS   \n",
              "2         Philippines       5  ...      NaN    NaN    NaN     NaN      PGIS   \n",
              "3              Greece       8  ...      NaN    NaN    NaN     NaN      PGIS   \n",
              "4               Japan       4  ...      NaN    NaN    NaN     NaN      PGIS   \n",
              "\n",
              "   INT_LOG  INT_IDEO INT_MISC INT_ANY  related  \n",
              "0        0         0        0       0      NaN  \n",
              "1        0         1        1       1      NaN  \n",
              "2       -9        -9        1       1      NaN  \n",
              "3       -9        -9        1       1      NaN  \n",
              "4       -9        -9        1       1      NaN  \n",
              "\n",
              "[5 rows x 135 columns]"
            ]
          },
          "execution_count": 6,
          "metadata": {},
          "output_type": "execute_result"
        }
      ],
      "source": [
        "df.head()"
      ]
    },
    {
      "cell_type": "markdown",
      "metadata": {
        "id": "_IM2WBTd0NwD"
      },
      "source": [
        "## Fixing structural errors and Filtering unwanted elements"
      ]
    },
    {
      "cell_type": "markdown",
      "metadata": {
        "id": "jmkiRSYI0XeD"
      },
      "source": [
        "Data preprocessing is the first step to be done after collecting data. It is a set of operations performed on the START (Study of Terrorism and Response to Terrorism) dataset to modify ambiguous data which can be a bottleneck to analytical results. Data preprocessing methodology helps in converting this raw data into a more meaningful, focused, interpretable and readable format."
      ]
    },
    {
      "cell_type": "code",
      "execution_count": null,
      "metadata": {
        "colab": {
          "base_uri": "https://localhost:8080/"
        },
        "id": "9bcEXCkEn8Zp",
        "outputId": "acc1d9d9-7963-4f99-8c67-52f5d55f5c81"
      },
      "outputs": [
        {
          "data": {
            "text/plain": [
              "Index(['eventid', 'iyear', 'imonth', 'iday', 'approxdate', 'extended',\n",
              "       'resolution', 'country', 'country_txt', 'region',\n",
              "       ...\n",
              "       'addnotes', 'scite1', 'scite2', 'scite3', 'dbsource', 'INT_LOG',\n",
              "       'INT_IDEO', 'INT_MISC', 'INT_ANY', 'related'],\n",
              "      dtype='object', length=135)"
            ]
          },
          "execution_count": 7,
          "metadata": {},
          "output_type": "execute_result"
        }
      ],
      "source": [
        "# Columns Present in Dataset\n",
        "df.columns"
      ]
    },
    {
      "cell_type": "code",
      "execution_count": 6,
      "metadata": {
        "colab": {
          "base_uri": "https://localhost:8080/",
          "height": 317
        },
        "id": "XYm9zVoooD6g",
        "outputId": "d8f337be-4903-4da9-da1a-aed030497cc5"
      },
      "outputs": [
        {
          "data": {
            "text/html": [
              "<div>\n",
              "<style scoped>\n",
              "    .dataframe tbody tr th:only-of-type {\n",
              "        vertical-align: middle;\n",
              "    }\n",
              "\n",
              "    .dataframe tbody tr th {\n",
              "        vertical-align: top;\n",
              "    }\n",
              "\n",
              "    .dataframe thead th {\n",
              "        text-align: right;\n",
              "    }\n",
              "</style>\n",
              "<table border=\"1\" class=\"dataframe\">\n",
              "  <thead>\n",
              "    <tr style=\"text-align: right;\">\n",
              "      <th></th>\n",
              "      <th>eventid</th>\n",
              "      <th>Year</th>\n",
              "      <th>Month</th>\n",
              "      <th>Day</th>\n",
              "      <th>approxdate</th>\n",
              "      <th>extended</th>\n",
              "      <th>resolution</th>\n",
              "      <th>country</th>\n",
              "      <th>Country</th>\n",
              "      <th>region</th>\n",
              "      <th>...</th>\n",
              "      <th>addnotes</th>\n",
              "      <th>scite1</th>\n",
              "      <th>scite2</th>\n",
              "      <th>scite3</th>\n",
              "      <th>dbsource</th>\n",
              "      <th>INT_LOG</th>\n",
              "      <th>INT_IDEO</th>\n",
              "      <th>INT_MISC</th>\n",
              "      <th>INT_ANY</th>\n",
              "      <th>related</th>\n",
              "    </tr>\n",
              "  </thead>\n",
              "  <tbody>\n",
              "    <tr>\n",
              "      <th>0</th>\n",
              "      <td>197000000001</td>\n",
              "      <td>1970</td>\n",
              "      <td>7</td>\n",
              "      <td>2</td>\n",
              "      <td>NaN</td>\n",
              "      <td>0</td>\n",
              "      <td>NaN</td>\n",
              "      <td>58</td>\n",
              "      <td>Dominican Republic</td>\n",
              "      <td>2</td>\n",
              "      <td>...</td>\n",
              "      <td>NaN</td>\n",
              "      <td>NaN</td>\n",
              "      <td>NaN</td>\n",
              "      <td>NaN</td>\n",
              "      <td>PGIS</td>\n",
              "      <td>0</td>\n",
              "      <td>0</td>\n",
              "      <td>0</td>\n",
              "      <td>0</td>\n",
              "      <td>NaN</td>\n",
              "    </tr>\n",
              "    <tr>\n",
              "      <th>1</th>\n",
              "      <td>197000000002</td>\n",
              "      <td>1970</td>\n",
              "      <td>0</td>\n",
              "      <td>0</td>\n",
              "      <td>NaN</td>\n",
              "      <td>0</td>\n",
              "      <td>NaN</td>\n",
              "      <td>130</td>\n",
              "      <td>Mexico</td>\n",
              "      <td>1</td>\n",
              "      <td>...</td>\n",
              "      <td>NaN</td>\n",
              "      <td>NaN</td>\n",
              "      <td>NaN</td>\n",
              "      <td>NaN</td>\n",
              "      <td>PGIS</td>\n",
              "      <td>0</td>\n",
              "      <td>1</td>\n",
              "      <td>1</td>\n",
              "      <td>1</td>\n",
              "      <td>NaN</td>\n",
              "    </tr>\n",
              "    <tr>\n",
              "      <th>2</th>\n",
              "      <td>197001000001</td>\n",
              "      <td>1970</td>\n",
              "      <td>1</td>\n",
              "      <td>0</td>\n",
              "      <td>NaN</td>\n",
              "      <td>0</td>\n",
              "      <td>NaN</td>\n",
              "      <td>160</td>\n",
              "      <td>Philippines</td>\n",
              "      <td>5</td>\n",
              "      <td>...</td>\n",
              "      <td>NaN</td>\n",
              "      <td>NaN</td>\n",
              "      <td>NaN</td>\n",
              "      <td>NaN</td>\n",
              "      <td>PGIS</td>\n",
              "      <td>-9</td>\n",
              "      <td>-9</td>\n",
              "      <td>1</td>\n",
              "      <td>1</td>\n",
              "      <td>NaN</td>\n",
              "    </tr>\n",
              "    <tr>\n",
              "      <th>3</th>\n",
              "      <td>197001000002</td>\n",
              "      <td>1970</td>\n",
              "      <td>1</td>\n",
              "      <td>0</td>\n",
              "      <td>NaN</td>\n",
              "      <td>0</td>\n",
              "      <td>NaN</td>\n",
              "      <td>78</td>\n",
              "      <td>Greece</td>\n",
              "      <td>8</td>\n",
              "      <td>...</td>\n",
              "      <td>NaN</td>\n",
              "      <td>NaN</td>\n",
              "      <td>NaN</td>\n",
              "      <td>NaN</td>\n",
              "      <td>PGIS</td>\n",
              "      <td>-9</td>\n",
              "      <td>-9</td>\n",
              "      <td>1</td>\n",
              "      <td>1</td>\n",
              "      <td>NaN</td>\n",
              "    </tr>\n",
              "    <tr>\n",
              "      <th>4</th>\n",
              "      <td>197001000003</td>\n",
              "      <td>1970</td>\n",
              "      <td>1</td>\n",
              "      <td>0</td>\n",
              "      <td>NaN</td>\n",
              "      <td>0</td>\n",
              "      <td>NaN</td>\n",
              "      <td>101</td>\n",
              "      <td>Japan</td>\n",
              "      <td>4</td>\n",
              "      <td>...</td>\n",
              "      <td>NaN</td>\n",
              "      <td>NaN</td>\n",
              "      <td>NaN</td>\n",
              "      <td>NaN</td>\n",
              "      <td>PGIS</td>\n",
              "      <td>-9</td>\n",
              "      <td>-9</td>\n",
              "      <td>1</td>\n",
              "      <td>1</td>\n",
              "      <td>NaN</td>\n",
              "    </tr>\n",
              "  </tbody>\n",
              "</table>\n",
              "<p>5 rows × 135 columns</p>\n",
              "</div>"
            ],
            "text/plain": [
              "        eventid  Year  Month  Day approxdate  extended resolution  country  \\\n",
              "0  197000000001  1970      7    2        NaN         0        NaN       58   \n",
              "1  197000000002  1970      0    0        NaN         0        NaN      130   \n",
              "2  197001000001  1970      1    0        NaN         0        NaN      160   \n",
              "3  197001000002  1970      1    0        NaN         0        NaN       78   \n",
              "4  197001000003  1970      1    0        NaN         0        NaN      101   \n",
              "\n",
              "              Country  region  ... addnotes scite1 scite2  scite3  dbsource  \\\n",
              "0  Dominican Republic       2  ...      NaN    NaN    NaN     NaN      PGIS   \n",
              "1              Mexico       1  ...      NaN    NaN    NaN     NaN      PGIS   \n",
              "2         Philippines       5  ...      NaN    NaN    NaN     NaN      PGIS   \n",
              "3              Greece       8  ...      NaN    NaN    NaN     NaN      PGIS   \n",
              "4               Japan       4  ...      NaN    NaN    NaN     NaN      PGIS   \n",
              "\n",
              "   INT_LOG  INT_IDEO INT_MISC INT_ANY  related  \n",
              "0        0         0        0       0      NaN  \n",
              "1        0         1        1       1      NaN  \n",
              "2       -9        -9        1       1      NaN  \n",
              "3       -9        -9        1       1      NaN  \n",
              "4       -9        -9        1       1      NaN  \n",
              "\n",
              "[5 rows x 135 columns]"
            ]
          },
          "execution_count": 6,
          "metadata": {},
          "output_type": "execute_result"
        }
      ],
      "source": [
        "# Renaming the columns which contains important values for analysis\n",
        "df.rename(columns={'iyear':'Year','imonth':'Month','iday':'Day','country_txt':'Country','provstate':'State','region_txt':'Region','attacktype1_txt':'AttackType','target1':'Target','nkill':'Killed','nwound':'Wounded','summary':'Summary','gname':'Group','targtype1_txt':'Target_type','weaptype1_txt':'Weapon_type','motive':'Motive'},inplace=True)\n",
        "df.head()"
      ]
    },
    {
      "cell_type": "code",
      "execution_count": 7,
      "metadata": {
        "id": "NaNYzNOkrmD2"
      },
      "outputs": [],
      "source": [
        "# Using important columns in dataframe\n",
        "df=df[['Year','Month','Day','Country','State','Region','city','latitude','longitude','AttackType','Killed','Wounded','Target','Summary','Group','Target_type','Weapon_type','Motive']]"
      ]
    },
    {
      "cell_type": "code",
      "execution_count": null,
      "metadata": {
        "colab": {
          "base_uri": "https://localhost:8080/",
          "height": 300
        },
        "id": "qvk_qablz7KD",
        "outputId": "6059de65-997b-4924-8458-4c513b93f049"
      },
      "outputs": [
        {
          "data": {
            "text/html": [
              "\n",
              "  <div id=\"df-2fb191f2-c69c-40c9-8cc0-94a0b6b26665\">\n",
              "    <div class=\"colab-df-container\">\n",
              "      <div>\n",
              "<style scoped>\n",
              "    .dataframe tbody tr th:only-of-type {\n",
              "        vertical-align: middle;\n",
              "    }\n",
              "\n",
              "    .dataframe tbody tr th {\n",
              "        vertical-align: top;\n",
              "    }\n",
              "\n",
              "    .dataframe thead th {\n",
              "        text-align: right;\n",
              "    }\n",
              "</style>\n",
              "<table border=\"1\" class=\"dataframe\">\n",
              "  <thead>\n",
              "    <tr style=\"text-align: right;\">\n",
              "      <th></th>\n",
              "      <th>Year</th>\n",
              "      <th>Month</th>\n",
              "      <th>Day</th>\n",
              "      <th>latitude</th>\n",
              "      <th>longitude</th>\n",
              "      <th>Killed</th>\n",
              "      <th>Wounded</th>\n",
              "    </tr>\n",
              "  </thead>\n",
              "  <tbody>\n",
              "    <tr>\n",
              "      <th>count</th>\n",
              "      <td>181691.000000</td>\n",
              "      <td>181691.000000</td>\n",
              "      <td>181691.000000</td>\n",
              "      <td>177135.000000</td>\n",
              "      <td>1.771340e+05</td>\n",
              "      <td>171378.000000</td>\n",
              "      <td>165380.000000</td>\n",
              "    </tr>\n",
              "    <tr>\n",
              "      <th>mean</th>\n",
              "      <td>2002.638997</td>\n",
              "      <td>6.467277</td>\n",
              "      <td>15.505644</td>\n",
              "      <td>23.498343</td>\n",
              "      <td>-4.586957e+02</td>\n",
              "      <td>2.403272</td>\n",
              "      <td>3.167668</td>\n",
              "    </tr>\n",
              "    <tr>\n",
              "      <th>std</th>\n",
              "      <td>13.259430</td>\n",
              "      <td>3.388303</td>\n",
              "      <td>8.814045</td>\n",
              "      <td>18.569242</td>\n",
              "      <td>2.047790e+05</td>\n",
              "      <td>11.545741</td>\n",
              "      <td>35.949392</td>\n",
              "    </tr>\n",
              "    <tr>\n",
              "      <th>min</th>\n",
              "      <td>1970.000000</td>\n",
              "      <td>0.000000</td>\n",
              "      <td>0.000000</td>\n",
              "      <td>-53.154613</td>\n",
              "      <td>-8.618590e+07</td>\n",
              "      <td>0.000000</td>\n",
              "      <td>0.000000</td>\n",
              "    </tr>\n",
              "    <tr>\n",
              "      <th>25%</th>\n",
              "      <td>1991.000000</td>\n",
              "      <td>4.000000</td>\n",
              "      <td>8.000000</td>\n",
              "      <td>11.510046</td>\n",
              "      <td>4.545640e+00</td>\n",
              "      <td>0.000000</td>\n",
              "      <td>0.000000</td>\n",
              "    </tr>\n",
              "    <tr>\n",
              "      <th>50%</th>\n",
              "      <td>2009.000000</td>\n",
              "      <td>6.000000</td>\n",
              "      <td>15.000000</td>\n",
              "      <td>31.467463</td>\n",
              "      <td>4.324651e+01</td>\n",
              "      <td>0.000000</td>\n",
              "      <td>0.000000</td>\n",
              "    </tr>\n",
              "    <tr>\n",
              "      <th>75%</th>\n",
              "      <td>2014.000000</td>\n",
              "      <td>9.000000</td>\n",
              "      <td>23.000000</td>\n",
              "      <td>34.685087</td>\n",
              "      <td>6.871033e+01</td>\n",
              "      <td>2.000000</td>\n",
              "      <td>2.000000</td>\n",
              "    </tr>\n",
              "    <tr>\n",
              "      <th>max</th>\n",
              "      <td>2017.000000</td>\n",
              "      <td>12.000000</td>\n",
              "      <td>31.000000</td>\n",
              "      <td>74.633553</td>\n",
              "      <td>1.793667e+02</td>\n",
              "      <td>1570.000000</td>\n",
              "      <td>8191.000000</td>\n",
              "    </tr>\n",
              "  </tbody>\n",
              "</table>\n",
              "</div>\n",
              "      <button class=\"colab-df-convert\" onclick=\"convertToInteractive('df-2fb191f2-c69c-40c9-8cc0-94a0b6b26665')\"\n",
              "              title=\"Convert this dataframe to an interactive table.\"\n",
              "              style=\"display:none;\">\n",
              "        \n",
              "  <svg xmlns=\"http://www.w3.org/2000/svg\" height=\"24px\"viewBox=\"0 0 24 24\"\n",
              "       width=\"24px\">\n",
              "    <path d=\"M0 0h24v24H0V0z\" fill=\"none\"/>\n",
              "    <path d=\"M18.56 5.44l.94 2.06.94-2.06 2.06-.94-2.06-.94-.94-2.06-.94 2.06-2.06.94zm-11 1L8.5 8.5l.94-2.06 2.06-.94-2.06-.94L8.5 2.5l-.94 2.06-2.06.94zm10 10l.94 2.06.94-2.06 2.06-.94-2.06-.94-.94-2.06-.94 2.06-2.06.94z\"/><path d=\"M17.41 7.96l-1.37-1.37c-.4-.4-.92-.59-1.43-.59-.52 0-1.04.2-1.43.59L10.3 9.45l-7.72 7.72c-.78.78-.78 2.05 0 2.83L4 21.41c.39.39.9.59 1.41.59.51 0 1.02-.2 1.41-.59l7.78-7.78 2.81-2.81c.8-.78.8-2.07 0-2.86zM5.41 20L4 18.59l7.72-7.72 1.47 1.35L5.41 20z\"/>\n",
              "  </svg>\n",
              "      </button>\n",
              "      \n",
              "  <style>\n",
              "    .colab-df-container {\n",
              "      display:flex;\n",
              "      flex-wrap:wrap;\n",
              "      gap: 12px;\n",
              "    }\n",
              "\n",
              "    .colab-df-convert {\n",
              "      background-color: #E8F0FE;\n",
              "      border: none;\n",
              "      border-radius: 50%;\n",
              "      cursor: pointer;\n",
              "      display: none;\n",
              "      fill: #1967D2;\n",
              "      height: 32px;\n",
              "      padding: 0 0 0 0;\n",
              "      width: 32px;\n",
              "    }\n",
              "\n",
              "    .colab-df-convert:hover {\n",
              "      background-color: #E2EBFA;\n",
              "      box-shadow: 0px 1px 2px rgba(60, 64, 67, 0.3), 0px 1px 3px 1px rgba(60, 64, 67, 0.15);\n",
              "      fill: #174EA6;\n",
              "    }\n",
              "\n",
              "    [theme=dark] .colab-df-convert {\n",
              "      background-color: #3B4455;\n",
              "      fill: #D2E3FC;\n",
              "    }\n",
              "\n",
              "    [theme=dark] .colab-df-convert:hover {\n",
              "      background-color: #434B5C;\n",
              "      box-shadow: 0px 1px 3px 1px rgba(0, 0, 0, 0.15);\n",
              "      filter: drop-shadow(0px 1px 2px rgba(0, 0, 0, 0.3));\n",
              "      fill: #FFFFFF;\n",
              "    }\n",
              "  </style>\n",
              "\n",
              "      <script>\n",
              "        const buttonEl =\n",
              "          document.querySelector('#df-2fb191f2-c69c-40c9-8cc0-94a0b6b26665 button.colab-df-convert');\n",
              "        buttonEl.style.display =\n",
              "          google.colab.kernel.accessAllowed ? 'block' : 'none';\n",
              "\n",
              "        async function convertToInteractive(key) {\n",
              "          const element = document.querySelector('#df-2fb191f2-c69c-40c9-8cc0-94a0b6b26665');\n",
              "          const dataTable =\n",
              "            await google.colab.kernel.invokeFunction('convertToInteractive',\n",
              "                                                     [key], {});\n",
              "          if (!dataTable) return;\n",
              "\n",
              "          const docLinkHtml = 'Like what you see? Visit the ' +\n",
              "            '<a target=\"_blank\" href=https://colab.research.google.com/notebooks/data_table.ipynb>data table notebook</a>'\n",
              "            + ' to learn more about interactive tables.';\n",
              "          element.innerHTML = '';\n",
              "          dataTable['output_type'] = 'display_data';\n",
              "          await google.colab.output.renderOutput(dataTable, element);\n",
              "          const docLink = document.createElement('div');\n",
              "          docLink.innerHTML = docLinkHtml;\n",
              "          element.appendChild(docLink);\n",
              "        }\n",
              "      </script>\n",
              "    </div>\n",
              "  </div>\n",
              "  "
            ],
            "text/plain": [
              "                Year          Month            Day       latitude  \\\n",
              "count  181691.000000  181691.000000  181691.000000  177135.000000   \n",
              "mean     2002.638997       6.467277      15.505644      23.498343   \n",
              "std        13.259430       3.388303       8.814045      18.569242   \n",
              "min      1970.000000       0.000000       0.000000     -53.154613   \n",
              "25%      1991.000000       4.000000       8.000000      11.510046   \n",
              "50%      2009.000000       6.000000      15.000000      31.467463   \n",
              "75%      2014.000000       9.000000      23.000000      34.685087   \n",
              "max      2017.000000      12.000000      31.000000      74.633553   \n",
              "\n",
              "          longitude         Killed        Wounded  \n",
              "count  1.771340e+05  171378.000000  165380.000000  \n",
              "mean  -4.586957e+02       2.403272       3.167668  \n",
              "std    2.047790e+05      11.545741      35.949392  \n",
              "min   -8.618590e+07       0.000000       0.000000  \n",
              "25%    4.545640e+00       0.000000       0.000000  \n",
              "50%    4.324651e+01       0.000000       0.000000  \n",
              "75%    6.871033e+01       2.000000       2.000000  \n",
              "max    1.793667e+02    1570.000000    8191.000000  "
            ]
          },
          "execution_count": 14,
          "metadata": {},
          "output_type": "execute_result"
        }
      ],
      "source": [
        "# Statistial Value of the Dataset\n",
        "df.describe()"
      ]
    },
    {
      "cell_type": "markdown",
      "metadata": {
        "id": "H56MI-QD0Tav"
      },
      "source": [
        "### **Null Value Present On Dataset**"
      ]
    },
    {
      "cell_type": "code",
      "execution_count": null,
      "metadata": {
        "colab": {
          "base_uri": "https://localhost:8080/"
        },
        "id": "NcRE_P760AFC",
        "outputId": "2f8e3773-54b4-4a90-aed9-86c813f5f072"
      },
      "outputs": [
        {
          "name": "stdout",
          "output_type": "stream",
          "text": [
            "(181691, 18)\n",
            "Year                0\n",
            "Month               0\n",
            "Day                 0\n",
            "Country             0\n",
            "State             421\n",
            "Region              0\n",
            "city              434\n",
            "latitude         4556\n",
            "longitude        4557\n",
            "AttackType          0\n",
            "Killed          10313\n",
            "Wounded         16311\n",
            "Target            636\n",
            "Summary         66129\n",
            "Group               0\n",
            "Target_type         0\n",
            "Weapon_type         0\n",
            "Motive         131130\n",
            "dtype: int64\n"
          ]
        }
      ],
      "source": [
        "print(df.shape) # Shape of the dataframe after filttering unwanted columns\n",
        "\n",
        "print(df.isnull().sum()) # Number of Null elements in dataframe"
      ]
    },
    {
      "cell_type": "markdown",
      "metadata": {
        "id": "MWijYOZyznub"
      },
      "source": [
        "### **Heatmap to Visualise the Null Presence**"
      ]
    },
    {
      "cell_type": "code",
      "execution_count": null,
      "metadata": {
        "colab": {
          "base_uri": "https://localhost:8080/",
          "height": 412
        },
        "id": "RQPS8wyuxh_M",
        "outputId": "d77f4fda-5945-437b-957e-f45c70bf35f5"
      },
      "outputs": [
        {
          "data": {
            "text/plain": [
              "<matplotlib.axes._subplots.AxesSubplot at 0x7f4e6639b910>"
            ]
          },
          "execution_count": 8,
          "metadata": {},
          "output_type": "execute_result"
        },
        {
          "data": {
            "text/plain": [
              "<Figure size 432x360 with 0 Axes>"
            ]
          },
          "metadata": {},
          "output_type": "display_data"
        },
        {
          "data": {
            "image/png": "[encoded data removed]",
            "text/plain": [
              "<Figure size 720x360 with 1 Axes>"
            ]
          },
          "metadata": {
            "needs_background": "light"
          },
          "output_type": "display_data"
        }
      ],
      "source": [
        "plt.figure(figsize=(6,5))\n",
        "plt.figure(figsize=(10,5))\n",
        "sns.heatmap(df.isnull(),yticklabels=False,cbar=False,cmap='viridis')"
      ]
    },
    {
      "cell_type": "markdown",
      "metadata": {
        "id": "zPqrkw7g2ZY8"
      },
      "source": [
        "### ***Data Wrangling***"
      ]
    },
    {
      "cell_type": "markdown",
      "metadata": {
        "id": "Cylox6HT3Ri7"
      },
      "source": [
        "## **Filling out the missing values**"
      ]
    },
    {
      "cell_type": "markdown",
      "metadata": {
        "id": "mBHcD-Xr3WOT"
      },
      "source": [
        "Above we can see that most of the important column contains alot of NaN or missing values Thus to make a sense out of all that we will start re-placing those values with 'UNKNOWN' value to make it is when we visualize the data via Plots and Graphs. Also You can’t ignore missing data because many algorithms will not accept missing values."
      ]
    },
    {
      "cell_type": "code",
      "execution_count": 8,
      "metadata": {
        "id": "0IdRxOIP3dUg"
      },
      "outputs": [],
      "source": [
        "# State Columns\n",
        "df['State'].fillna('Unknown',inplace=True)\n",
        "\n",
        "# City Columns\n",
        "df['city'].fillna('Unknown',inplace=True)\n",
        "\n",
        "# Target Columns\n",
        "df['Target'].fillna('Unknown',inplace=True)\n",
        "\n",
        "# Total killed Columns\n",
        "df['Killed'] = df['Killed'].fillna(df['Killed'].mode()[0]) \n",
        "\n",
        "# Total_Wounded Column\n",
        "df['Wounded'] = df['Wounded'].fillna(df['Wounded'].mode()[0])\n",
        "\n",
        "# Summery column\n",
        "df['Summary'].fillna('Undocumented', inplace = True)\n",
        "\n",
        "# Motive column\n",
        "df['Motive'].fillna('Unknown',inplace=True)\n",
        "\n",
        "# Creating a new Column to show total_Casualities which is just a total number of people who got wounded and \n",
        "# killed in that incident including all Attackers, Defenders and Civilians\n",
        "\n",
        "df['Total_Casualities'] = df['Killed'] + df['Wounded']"
      ]
    },
    {
      "cell_type": "code",
      "execution_count": null,
      "metadata": {
        "colab": {
          "base_uri": "https://localhost:8080/"
        },
        "id": "lryE0xgE81UN",
        "outputId": "0f95e6a3-77c7-451e-d7fa-b66e662923da"
      },
      "outputs": [
        {
          "name": "stdout",
          "output_type": "stream",
          "text": [
            "<class 'pandas.core.frame.DataFrame'>\n",
            "RangeIndex: 181691 entries, 0 to 181690\n",
            "Data columns (total 19 columns):\n",
            " #   Column             Non-Null Count   Dtype  \n",
            "---  ------             --------------   -----  \n",
            " 0   Year               181691 non-null  int64  \n",
            " 1   Month              181691 non-null  int64  \n",
            " 2   Day                181691 non-null  int64  \n",
            " 3   Country            181691 non-null  object \n",
            " 4   State              181691 non-null  object \n",
            " 5   Region             181691 non-null  object \n",
            " 6   city               181691 non-null  object \n",
            " 7   latitude           177135 non-null  float64\n",
            " 8   longitude          177134 non-null  float64\n",
            " 9   AttackType         181691 non-null  object \n",
            " 10  Killed             181691 non-null  float64\n",
            " 11  Wounded            181691 non-null  float64\n",
            " 12  Target             181691 non-null  object \n",
            " 13  Summary            181691 non-null  object \n",
            " 14  Group              181691 non-null  object \n",
            " 15  Target_type        181691 non-null  object \n",
            " 16  Weapon_type        181691 non-null  object \n",
            " 17  Motive             181691 non-null  object \n",
            " 18  Total_Casualities  181691 non-null  float64\n",
            "dtypes: float64(5), int64(3), object(11)\n",
            "memory usage: 26.3+ MB\n"
          ]
        }
      ],
      "source": [
        "df.info()"
      ]
    },
    {
      "cell_type": "markdown",
      "metadata": {
        "id": "-jIbL5Iy9fOw"
      },
      "source": [
        "Now as the data cleaning and sorting as been done. Let`s dive deep into the elements to provide meaningful insights and virtualizations"
      ]
    },
    {
      "cell_type": "markdown",
      "metadata": {
        "id": "bABWHbLg9oOk"
      },
      "source": [
        "## **Data Analysis**"
      ]
    },
    {
      "cell_type": "markdown",
      "metadata": {
        "id": "xS_232aJ92Xc"
      },
      "source": [
        "This section consists of details regarding the visual results and insights."
      ]
    },
    {
      "cell_type": "markdown",
      "metadata": {
        "id": "UdGMmQaj0nxa"
      },
      "source": [
        "### **Chart - 1**\n",
        "#**Terrorist Activities in each Year**"
      ]
    },
    {
      "cell_type": "code",
      "execution_count": null,
      "metadata": {
        "colab": {
          "base_uri": "https://localhost:8080/",
          "height": 427
        },
        "id": "Q0_btYc9uyFX",
        "outputId": "aab5609e-85f3-42fa-b104-9a940a36a775"
      },
      "outputs": [
        {
          "name": "stderr",
          "output_type": "stream",
          "text": [
            "/usr/local/lib/python3.8/dist-packages/seaborn/_decorators.py:36: FutureWarning: Pass the following variables as keyword args: x, y. From version 0.12, the only valid positional argument will be `data`, and passing other arguments without an explicit keyword will result in an error or misinterpretation.\n",
            "  warnings.warn(\n"
          ]
        },
        {
          "data": {
            "text/plain": [
              "Text(0.5, 1.0, 'Terrorist Activities in each Year')"
            ]
          },
          "execution_count": 15,
          "metadata": {},
          "output_type": "execute_result"
        },
        {
          "data": {
            "image/png": "[encoded data removed]",
            "text/plain": [
              "<Figure size 1080x360 with 1 Axes>"
            ]
          },
          "metadata": {
            "needs_background": "light"
          },
          "output_type": "display_data"
        }
      ],
      "source": [
        "#a=df.groupby(\"Year\")[\"Killed\"].count()\n",
        "plt.subplots(figsize=(15,5))\n",
        "sns.barplot(df['Year'].value_counts().index, df['Year'].value_counts().values)\n",
        "plt.xticks(rotation=90)\n",
        "#a.plot(kind=\"bar\",figsize=(20,5))\n",
        "plt.ylabel('Number of Attacks')\n",
        "plt.title('Terrorist Activities in each Year',fontsize=18)"
      ]
    },
    {
      "cell_type": "markdown",
      "metadata": {
        "id": "mhxOtcPp2CC7"
      },
      "source": [
        "Attacks were more during 2014 and then in 2015. When compared to attacks from 1970 onwards, the last 6 years scored a maximum. But from 2014 onwards count started decreasing."
      ]
    },
    {
      "cell_type": "markdown",
      "metadata": {
        "id": "oSvMqlg2YHKK"
      },
      "source": [
        "### **Chart- 2**\n",
        "## **Number of Total Attack in each Region in Between 1970 to 2017**"
      ]
    },
    {
      "cell_type": "code",
      "execution_count": null,
      "metadata": {
        "colab": {
          "base_uri": "https://localhost:8080/"
        },
        "id": "DiPnpsYqX9tY",
        "outputId": "35b71b0a-c242-421a-bf8b-02145a350865"
      },
      "outputs": [
        {
          "data": {
            "text/plain": [
              "Middle East & North Africa     50474\n",
              "South Asia                     44974\n",
              "South America                  18978\n",
              "Sub-Saharan Africa             17550\n",
              "Western Europe                 16639\n",
              "Southeast Asia                 12485\n",
              "Central America & Caribbean    10344\n",
              "Eastern Europe                  5144\n",
              "North America                   3456\n",
              "East Asia                        802\n",
              "Central Asia                     563\n",
              "Australasia & Oceania            282\n",
              "Name: Region, dtype: int64"
            ]
          },
          "execution_count": 16,
          "metadata": {},
          "output_type": "execute_result"
        }
      ],
      "source": [
        "df['Region'].value_counts()"
      ]
    },
    {
      "cell_type": "code",
      "execution_count": null,
      "metadata": {
        "colab": {
          "base_uri": "https://localhost:8080/",
          "height": 423
        },
        "id": "-r8PoeK8y8Tg",
        "outputId": "f12a54eb-52ad-4c3e-e4d6-dadd8e4647c9"
      },
      "outputs": [
        {
          "data": {
            "text/plain": [
              "Text(0.5, 1.0, 'Number of Total Attack in each Region')"
            ]
          },
          "execution_count": 20,
          "metadata": {},
          "output_type": "execute_result"
        },
        {
          "data": {
            "image/png": "[encoded data removed]",
            "text/plain": [
              "<Figure size 1080x432 with 1 Axes>"
            ]
          },
          "metadata": {
            "needs_background": "light"
          },
          "output_type": "display_data"
        }
      ],
      "source": [
        "b=df.groupby([\"Year\",\"Region\"])[\"Year\"].count().unstack()\n",
        "b.plot(kind=\"area\",figsize=(15,6))\n",
        "plt.title(\"Number of Total Attack in each Region\",fontsize=15)"
      ]
    },
    {
      "cell_type": "markdown",
      "metadata": {
        "id": "1vlaEoN460o1"
      },
      "source": [
        " From 1970 to 2017, the Middle East and North Africa suffered from the most terrorist attacks and leads 1st among all the regions and then South Asia takes 2nd place. "
      ]
    },
    {
      "cell_type": "code",
      "execution_count": null,
      "metadata": {
        "colab": {
          "base_uri": "https://localhost:8080/",
          "height": 426
        },
        "id": "-HYa-DwFBe9d",
        "outputId": "ab40a179-44c0-4b47-e9bb-ae4208416f65"
      },
      "outputs": [
        {
          "data": {
            "text/html": [
              "\n",
              "  <div id=\"df-1e2b06bd-01bf-4f6f-8c47-c4a4c1883659\">\n",
              "    <div class=\"colab-df-container\">\n",
              "      <div>\n",
              "<style scoped>\n",
              "    .dataframe tbody tr th:only-of-type {\n",
              "        vertical-align: middle;\n",
              "    }\n",
              "\n",
              "    .dataframe tbody tr th {\n",
              "        vertical-align: top;\n",
              "    }\n",
              "\n",
              "    .dataframe thead th {\n",
              "        text-align: right;\n",
              "    }\n",
              "</style>\n",
              "<table border=\"1\" class=\"dataframe\">\n",
              "  <thead>\n",
              "    <tr style=\"text-align: right;\">\n",
              "      <th></th>\n",
              "      <th>Region</th>\n",
              "      <th>Total_Casualities</th>\n",
              "      <th>%per</th>\n",
              "    </tr>\n",
              "  </thead>\n",
              "  <tbody>\n",
              "    <tr>\n",
              "      <th>0</th>\n",
              "      <td>Australasia &amp; Oceania</td>\n",
              "      <td>410.0</td>\n",
              "      <td>0.043816</td>\n",
              "    </tr>\n",
              "    <tr>\n",
              "      <th>1</th>\n",
              "      <td>Central America &amp; Caribbean</td>\n",
              "      <td>37699.0</td>\n",
              "      <td>4.028803</td>\n",
              "    </tr>\n",
              "    <tr>\n",
              "      <th>2</th>\n",
              "      <td>Central Asia</td>\n",
              "      <td>3009.0</td>\n",
              "      <td>0.321565</td>\n",
              "    </tr>\n",
              "    <tr>\n",
              "      <th>3</th>\n",
              "      <td>East Asia</td>\n",
              "      <td>10365.0</td>\n",
              "      <td>1.107683</td>\n",
              "    </tr>\n",
              "    <tr>\n",
              "      <th>4</th>\n",
              "      <td>Eastern Europe</td>\n",
              "      <td>19460.0</td>\n",
              "      <td>2.079644</td>\n",
              "    </tr>\n",
              "    <tr>\n",
              "      <th>5</th>\n",
              "      <td>Middle East &amp; North Africa</td>\n",
              "      <td>351950.0</td>\n",
              "      <td>37.612064</td>\n",
              "    </tr>\n",
              "    <tr>\n",
              "      <th>6</th>\n",
              "      <td>North America</td>\n",
              "      <td>26447.0</td>\n",
              "      <td>2.826328</td>\n",
              "    </tr>\n",
              "    <tr>\n",
              "      <th>7</th>\n",
              "      <td>South America</td>\n",
              "      <td>45553.0</td>\n",
              "      <td>4.868141</td>\n",
              "    </tr>\n",
              "    <tr>\n",
              "      <th>8</th>\n",
              "      <td>South Asia</td>\n",
              "      <td>242679.0</td>\n",
              "      <td>25.934531</td>\n",
              "    </tr>\n",
              "    <tr>\n",
              "      <th>9</th>\n",
              "      <td>Southeast Asia</td>\n",
              "      <td>41896.0</td>\n",
              "      <td>4.477326</td>\n",
              "    </tr>\n",
              "    <tr>\n",
              "      <th>10</th>\n",
              "      <td>Sub-Saharan Africa</td>\n",
              "      <td>131243.0</td>\n",
              "      <td>14.025629</td>\n",
              "    </tr>\n",
              "    <tr>\n",
              "      <th>11</th>\n",
              "      <td>Western Europe</td>\n",
              "      <td>25026.0</td>\n",
              "      <td>2.674469</td>\n",
              "    </tr>\n",
              "  </tbody>\n",
              "</table>\n",
              "</div>\n",
              "      <button class=\"colab-df-convert\" onclick=\"convertToInteractive('df-1e2b06bd-01bf-4f6f-8c47-c4a4c1883659')\"\n",
              "              title=\"Convert this dataframe to an interactive table.\"\n",
              "              style=\"display:none;\">\n",
              "        \n",
              "  <svg xmlns=\"http://www.w3.org/2000/svg\" height=\"24px\"viewBox=\"0 0 24 24\"\n",
              "       width=\"24px\">\n",
              "    <path d=\"M0 0h24v24H0V0z\" fill=\"none\"/>\n",
              "    <path d=\"M18.56 5.44l.94 2.06.94-2.06 2.06-.94-2.06-.94-.94-2.06-.94 2.06-2.06.94zm-11 1L8.5 8.5l.94-2.06 2.06-.94-2.06-.94L8.5 2.5l-.94 2.06-2.06.94zm10 10l.94 2.06.94-2.06 2.06-.94-2.06-.94-.94-2.06-.94 2.06-2.06.94z\"/><path d=\"M17.41 7.96l-1.37-1.37c-.4-.4-.92-.59-1.43-.59-.52 0-1.04.2-1.43.59L10.3 9.45l-7.72 7.72c-.78.78-.78 2.05 0 2.83L4 21.41c.39.39.9.59 1.41.59.51 0 1.02-.2 1.41-.59l7.78-7.78 2.81-2.81c.8-.78.8-2.07 0-2.86zM5.41 20L4 18.59l7.72-7.72 1.47 1.35L5.41 20z\"/>\n",
              "  </svg>\n",
              "      </button>\n",
              "      \n",
              "  <style>\n",
              "    .colab-df-container {\n",
              "      display:flex;\n",
              "      flex-wrap:wrap;\n",
              "      gap: 12px;\n",
              "    }\n",
              "\n",
              "    .colab-df-convert {\n",
              "      background-color: #E8F0FE;\n",
              "      border: none;\n",
              "      border-radius: 50%;\n",
              "      cursor: pointer;\n",
              "      display: none;\n",
              "      fill: #1967D2;\n",
              "      height: 32px;\n",
              "      padding: 0 0 0 0;\n",
              "      width: 32px;\n",
              "    }\n",
              "\n",
              "    .colab-df-convert:hover {\n",
              "      background-color: #E2EBFA;\n",
              "      box-shadow: 0px 1px 2px rgba(60, 64, 67, 0.3), 0px 1px 3px 1px rgba(60, 64, 67, 0.15);\n",
              "      fill: #174EA6;\n",
              "    }\n",
              "\n",
              "    [theme=dark] .colab-df-convert {\n",
              "      background-color: #3B4455;\n",
              "      fill: #D2E3FC;\n",
              "    }\n",
              "\n",
              "    [theme=dark] .colab-df-convert:hover {\n",
              "      background-color: #434B5C;\n",
              "      box-shadow: 0px 1px 3px 1px rgba(0, 0, 0, 0.15);\n",
              "      filter: drop-shadow(0px 1px 2px rgba(0, 0, 0, 0.3));\n",
              "      fill: #FFFFFF;\n",
              "    }\n",
              "  </style>\n",
              "\n",
              "      <script>\n",
              "        const buttonEl =\n",
              "          document.querySelector('#df-1e2b06bd-01bf-4f6f-8c47-c4a4c1883659 button.colab-df-convert');\n",
              "        buttonEl.style.display =\n",
              "          google.colab.kernel.accessAllowed ? 'block' : 'none';\n",
              "\n",
              "        async function convertToInteractive(key) {\n",
              "          const element = document.querySelector('#df-1e2b06bd-01bf-4f6f-8c47-c4a4c1883659');\n",
              "          const dataTable =\n",
              "            await google.colab.kernel.invokeFunction('convertToInteractive',\n",
              "                                                     [key], {});\n",
              "          if (!dataTable) return;\n",
              "\n",
              "          const docLinkHtml = 'Like what you see? Visit the ' +\n",
              "            '<a target=\"_blank\" href=https://colab.research.google.com/notebooks/data_table.ipynb>data table notebook</a>'\n",
              "            + ' to learn more about interactive tables.';\n",
              "          element.innerHTML = '';\n",
              "          dataTable['output_type'] = 'display_data';\n",
              "          await google.colab.output.renderOutput(dataTable, element);\n",
              "          const docLink = document.createElement('div');\n",
              "          docLink.innerHTML = docLinkHtml;\n",
              "          element.appendChild(docLink);\n",
              "        }\n",
              "      </script>\n",
              "    </div>\n",
              "  </div>\n",
              "  "
            ],
            "text/plain": [
              "                         Region  Total_Casualities       %per\n",
              "0         Australasia & Oceania              410.0   0.043816\n",
              "1   Central America & Caribbean            37699.0   4.028803\n",
              "2                  Central Asia             3009.0   0.321565\n",
              "3                     East Asia            10365.0   1.107683\n",
              "4                Eastern Europe            19460.0   2.079644\n",
              "5    Middle East & North Africa           351950.0  37.612064\n",
              "6                 North America            26447.0   2.826328\n",
              "7                 South America            45553.0   4.868141\n",
              "8                    South Asia           242679.0  25.934531\n",
              "9                Southeast Asia            41896.0   4.477326\n",
              "10           Sub-Saharan Africa           131243.0  14.025629\n",
              "11               Western Europe            25026.0   2.674469"
            ]
          },
          "execution_count": 30,
          "metadata": {},
          "output_type": "execute_result"
        }
      ],
      "source": [
        "# Death Count and it`s distribution accros the region\n",
        "total_casualities_con = df.groupby(['Region'])['Total_Casualities'].sum().reset_index()\n",
        "\n",
        "total_casualities_con['%per'] = (total_casualities_con['Total_Casualities']/total_casualities_con['Total_Casualities'].sum())*100\n",
        "total_casualities_con"
      ]
    },
    {
      "cell_type": "markdown",
      "metadata": {
        "id": "C1kM_ZOyCMuC"
      },
      "source": [
        "In this chart, we see the number of deaths from terrorism by region. Out of Total deaths till now from terrorism included in the Global Terrorism Database 3,51,950 which is roughly 37.61% occurred in the Middle East and North Africa. As when we move to South Asia, the situation doesn`t feel good either as on-paper about 2,42,679 confirmed deaths has been recorded which contribute 25.93% of the total death mark compared to the world.\n",
        "\n",
        "Australasia & Oceania has the lowest confirmed death count of 0.04% from terrorism by region."
      ]
    },
    {
      "cell_type": "markdown",
      "metadata": {
        "id": "K7aPqj9mDP1E"
      },
      "source": [
        "**Chart- 3**\n",
        "## **Most Targeted Cities in the world by Terrorism**"
      ]
    },
    {
      "cell_type": "code",
      "execution_count": null,
      "metadata": {
        "colab": {
          "base_uri": "https://localhost:8080/",
          "height": 419
        },
        "id": "VlwZN3D8DNwf",
        "outputId": "b54d0dfd-add8-42ff-93ad-b11ec78f122b"
      },
      "outputs": [
        {
          "data": {
            "image/png": "[encoded data removed]",
            "text/plain": [
              "<Figure size 720x432 with 1 Axes>"
            ]
          },
          "metadata": {
            "needs_background": "light"
          },
          "output_type": "display_data"
        }
      ],
      "source": [
        "# Ploting a bar chart with seaborn\n",
        "total_casualities_city = df['city'].value_counts().reset_index().rename(columns={'index':'city','city':'Count'})\n",
        "\n",
        "# Using matplotlib to plot a line chart to vitualize the data above \n",
        "sns.barplot(y = total_casualities_city['city'][1:16], x= total_casualities_city['Count'][1:16], palette=('inferno'))\n",
        "plt.xticks(rotation=90)\n",
        "fig = plt.gcf()\n",
        "fig.set_size_inches(10,6)\n",
        "plt.title('Most Targeted City in the world by Terrorism')\n",
        "plt.show()"
      ]
    },
    {
      "cell_type": "markdown",
      "metadata": {
        "id": "OG9llnW7RXvQ"
      },
      "source": [
        "Here is the bar graph of number of attacks for top 15 countries for year 1970-2017. Looking at the graph it seems that Baghdad is the most dangerous city to live in, then comes Karachi, Lima,Mosul, Belfast and rest."
      ]
    },
    {
      "cell_type": "markdown",
      "metadata": {
        "id": "FkPeqAOsUwXs"
      },
      "source": [
        "**Chart- 4**\n",
        "## **Attacking Methods By** **Terrorists**"
      ]
    },
    {
      "cell_type": "code",
      "execution_count": null,
      "metadata": {
        "colab": {
          "base_uri": "https://localhost:8080/",
          "height": 517
        },
        "id": "dqFJ4wrhR1OH",
        "outputId": "b6e50bc9-e6eb-4ef9-e6bd-aacbf4f1636b"
      },
      "outputs": [
        {
          "data": {
            "text/html": [
              "<html>\n",
              "<head><meta charset=\"utf-8\" /></head>\n",
              "<body>\n",
              "    <div>            <script src=\"https://cdnjs.cloudflare.com/ajax/libs/mathjax/2.7.5/MathJax.js?config=TeX-AMS-MML_SVG\"></script><script type=\"text/javascript\">if (window.MathJax) {MathJax.Hub.Config({SVG: {font: \"STIX-Web\"}});}</script>                <script type=\"text/javascript\">window.PlotlyConfig = {MathJaxConfig: 'local'};</script>\n",
              "        <script src=\"https://cdn.plot.ly/plotly-2.8.3.min.js\"></script>                <div id=\"b42124a6-27e4-4c6a-88d6-93ab98fdaff1\" class=\"plotly-graph-div\" style=\"height:500px; width:800px;\"></div>            <script type=\"text/javascript\">                                    window.PLOTLYENV=window.PLOTLYENV || {};                                    if (document.getElementById(\"b42124a6-27e4-4c6a-88d6-93ab98fdaff1\")) {                    Plotly.newPlot(                        \"b42124a6-27e4-4c6a-88d6-93ab98fdaff1\",                        [{\"domain\":{\"x\":[0.0,1.0],\"y\":[0.0,1.0]},\"hovertemplate\":\"AttackType=%{label}<br>Count=%{value}<extra></extra>\",\"labels\":[\"Bombing/Explosion\",\"Armed Assault\",\"Assassination\",\"Hostage Taking (Kidnapping)\",\"Facility/Infrastructure Attack\",\"Unknown\",\"Unarmed Assault\",\"Hostage Taking (Barricade Incident)\",\"Hijacking\"],\"legendgroup\":\"\",\"name\":\"\",\"showlegend\":true,\"values\":[88255,42669,19312,11158,10356,7276,1015,991,659],\"type\":\"pie\"}],                        {\"template\":{\"data\":{\"bar\":[{\"error_x\":{\"color\":\"#2a3f5f\"},\"error_y\":{\"color\":\"#2a3f5f\"},\"marker\":{\"line\":{\"color\":\"#E5ECF6\",\"width\":0.5},\"pattern\":{\"fillmode\":\"overlay\",\"size\":10,\"solidity\":0.2}},\"type\":\"bar\"}],\"barpolar\":[{\"marker\":{\"line\":{\"color\":\"#E5ECF6\",\"width\":0.5},\"pattern\":{\"fillmode\":\"overlay\",\"size\":10,\"solidity\":0.2}},\"type\":\"barpolar\"}],\"carpet\":[{\"aaxis\":{\"endlinecolor\":\"#2a3f5f\",\"gridcolor\":\"white\",\"linecolor\":\"white\",\"minorgridcolor\":\"white\",\"startlinecolor\":\"#2a3f5f\"},\"baxis\":{\"endlinecolor\":\"#2a3f5f\",\"gridcolor\":\"white\",\"linecolor\":\"white\",\"minorgridcolor\":\"white\",\"startlinecolor\":\"#2a3f5f\"},\"type\":\"carpet\"}],\"choropleth\":[{\"colorbar\":{\"outlinewidth\":0,\"ticks\":\"\"},\"type\":\"choropleth\"}],\"contour\":[{\"colorbar\":{\"outlinewidth\":0,\"ticks\":\"\"},\"colorscale\":[[0.0,\"#0d0887\"],[0.1111111111111111,\"#46039f\"],[0.2222222222222222,\"#7201a8\"],[0.3333333333333333,\"#9c179e\"],[0.4444444444444444,\"#bd3786\"],[0.5555555555555556,\"#d8576b\"],[0.6666666666666666,\"#ed7953\"],[0.7777777777777778,\"#fb9f3a\"],[0.8888888888888888,\"#fdca26\"],[1.0,\"#f0f921\"]],\"type\":\"contour\"}],\"contourcarpet\":[{\"colorbar\":{\"outlinewidth\":0,\"ticks\":\"\"},\"type\":\"contourcarpet\"}],\"heatmap\":[{\"colorbar\":{\"outlinewidth\":0,\"ticks\":\"\"},\"colorscale\":[[0.0,\"#0d0887\"],[0.1111111111111111,\"#46039f\"],[0.2222222222222222,\"#7201a8\"],[0.3333333333333333,\"#9c179e\"],[0.4444444444444444,\"#bd3786\"],[0.5555555555555556,\"#d8576b\"],[0.6666666666666666,\"#ed7953\"],[0.7777777777777778,\"#fb9f3a\"],[0.8888888888888888,\"#fdca26\"],[1.0,\"#f0f921\"]],\"type\":\"heatmap\"}],\"heatmapgl\":[{\"colorbar\":{\"outlinewidth\":0,\"ticks\":\"\"},\"colorscale\":[[0.0,\"#0d0887\"],[0.1111111111111111,\"#46039f\"],[0.2222222222222222,\"#7201a8\"],[0.3333333333333333,\"#9c179e\"],[0.4444444444444444,\"#bd3786\"],[0.5555555555555556,\"#d8576b\"],[0.6666666666666666,\"#ed7953\"],[0.7777777777777778,\"#fb9f3a\"],[0.8888888888888888,\"#fdca26\"],[1.0,\"#f0f921\"]],\"type\":\"heatmapgl\"}],\"histogram\":[{\"marker\":{\"pattern\":{\"fillmode\":\"overlay\",\"size\":10,\"solidity\":0.2}},\"type\":\"histogram\"}],\"histogram2d\":[{\"colorbar\":{\"outlinewidth\":0,\"ticks\":\"\"},\"colorscale\":[[0.0,\"#0d0887\"],[0.1111111111111111,\"#46039f\"],[0.2222222222222222,\"#7201a8\"],[0.3333333333333333,\"#9c179e\"],[0.4444444444444444,\"#bd3786\"],[0.5555555555555556,\"#d8576b\"],[0.6666666666666666,\"#ed7953\"],[0.7777777777777778,\"#fb9f3a\"],[0.8888888888888888,\"#fdca26\"],[1.0,\"#f0f921\"]],\"type\":\"histogram2d\"}],\"histogram2dcontour\":[{\"colorbar\":{\"outlinewidth\":0,\"ticks\":\"\"},\"colorscale\":[[0.0,\"#0d0887\"],[0.1111111111111111,\"#46039f\"],[0.2222222222222222,\"#7201a8\"],[0.3333333333333333,\"#9c179e\"],[0.4444444444444444,\"#bd3786\"],[0.5555555555555556,\"#d8576b\"],[0.6666666666666666,\"#ed7953\"],[0.7777777777777778,\"#fb9f3a\"],[0.8888888888888888,\"#fdca26\"],[1.0,\"#f0f921\"]],\"type\":\"histogram2dcontour\"}],\"mesh3d\":[{\"colorbar\":{\"outlinewidth\":0,\"ticks\":\"\"},\"type\":\"mesh3d\"}],\"parcoords\":[{\"line\":{\"colorbar\":{\"outlinewidth\":0,\"ticks\":\"\"}},\"type\":\"parcoords\"}],\"pie\":[{\"automargin\":true,\"type\":\"pie\"}],\"scatter\":[{\"marker\":{\"colorbar\":{\"outlinewidth\":0,\"ticks\":\"\"}},\"type\":\"scatter\"}],\"scatter3d\":[{\"line\":{\"colorbar\":{\"outlinewidth\":0,\"ticks\":\"\"}},\"marker\":{\"colorbar\":{\"outlinewidth\":0,\"ticks\":\"\"}},\"type\":\"scatter3d\"}],\"scattercarpet\":[{\"marker\":{\"colorbar\":{\"outlinewidth\":0,\"ticks\":\"\"}},\"type\":\"scattercarpet\"}],\"scattergeo\":[{\"marker\":{\"colorbar\":{\"outlinewidth\":0,\"ticks\":\"\"}},\"type\":\"scattergeo\"}],\"scattergl\":[{\"marker\":{\"colorbar\":{\"outlinewidth\":0,\"ticks\":\"\"}},\"type\":\"scattergl\"}],\"scattermapbox\":[{\"marker\":{\"colorbar\":{\"outlinewidth\":0,\"ticks\":\"\"}},\"type\":\"scattermapbox\"}],\"scatterpolar\":[{\"marker\":{\"colorbar\":{\"outlinewidth\":0,\"ticks\":\"\"}},\"type\":\"scatterpolar\"}],\"scatterpolargl\":[{\"marker\":{\"colorbar\":{\"outlinewidth\":0,\"ticks\":\"\"}},\"type\":\"scatterpolargl\"}],\"scatterternary\":[{\"marker\":{\"colorbar\":{\"outlinewidth\":0,\"ticks\":\"\"}},\"type\":\"scatterternary\"}],\"surface\":[{\"colorbar\":{\"outlinewidth\":0,\"ticks\":\"\"},\"colorscale\":[[0.0,\"#0d0887\"],[0.1111111111111111,\"#46039f\"],[0.2222222222222222,\"#7201a8\"],[0.3333333333333333,\"#9c179e\"],[0.4444444444444444,\"#bd3786\"],[0.5555555555555556,\"#d8576b\"],[0.6666666666666666,\"#ed7953\"],[0.7777777777777778,\"#fb9f3a\"],[0.8888888888888888,\"#fdca26\"],[1.0,\"#f0f921\"]],\"type\":\"surface\"}],\"table\":[{\"cells\":{\"fill\":{\"color\":\"#EBF0F8\"},\"line\":{\"color\":\"white\"}},\"header\":{\"fill\":{\"color\":\"#C8D4E3\"},\"line\":{\"color\":\"white\"}},\"type\":\"table\"}]},\"layout\":{\"annotationdefaults\":{\"arrowcolor\":\"#2a3f5f\",\"arrowhead\":0,\"arrowwidth\":1},\"autotypenumbers\":\"strict\",\"coloraxis\":{\"colorbar\":{\"outlinewidth\":0,\"ticks\":\"\"}},\"colorscale\":{\"diverging\":[[0,\"#8e0152\"],[0.1,\"#c51b7d\"],[0.2,\"#de77ae\"],[0.3,\"#f1b6da\"],[0.4,\"#fde0ef\"],[0.5,\"#f7f7f7\"],[0.6,\"#e6f5d0\"],[0.7,\"#b8e186\"],[0.8,\"#7fbc41\"],[0.9,\"#4d9221\"],[1,\"#276419\"]],\"sequential\":[[0.0,\"#0d0887\"],[0.1111111111111111,\"#46039f\"],[0.2222222222222222,\"#7201a8\"],[0.3333333333333333,\"#9c179e\"],[0.4444444444444444,\"#bd3786\"],[0.5555555555555556,\"#d8576b\"],[0.6666666666666666,\"#ed7953\"],[0.7777777777777778,\"#fb9f3a\"],[0.8888888888888888,\"#fdca26\"],[1.0,\"#f0f921\"]],\"sequentialminus\":[[0.0,\"#0d0887\"],[0.1111111111111111,\"#46039f\"],[0.2222222222222222,\"#7201a8\"],[0.3333333333333333,\"#9c179e\"],[0.4444444444444444,\"#bd3786\"],[0.5555555555555556,\"#d8576b\"],[0.6666666666666666,\"#ed7953\"],[0.7777777777777778,\"#fb9f3a\"],[0.8888888888888888,\"#fdca26\"],[1.0,\"#f0f921\"]]},\"colorway\":[\"#636efa\",\"#EF553B\",\"#00cc96\",\"#ab63fa\",\"#FFA15A\",\"#19d3f3\",\"#FF6692\",\"#B6E880\",\"#FF97FF\",\"#FECB52\"],\"font\":{\"color\":\"#2a3f5f\"},\"geo\":{\"bgcolor\":\"white\",\"lakecolor\":\"white\",\"landcolor\":\"#E5ECF6\",\"showlakes\":true,\"showland\":true,\"subunitcolor\":\"white\"},\"hoverlabel\":{\"align\":\"left\"},\"hovermode\":\"closest\",\"mapbox\":{\"style\":\"light\"},\"paper_bgcolor\":\"white\",\"plot_bgcolor\":\"#E5ECF6\",\"polar\":{\"angularaxis\":{\"gridcolor\":\"white\",\"linecolor\":\"white\",\"ticks\":\"\"},\"bgcolor\":\"#E5ECF6\",\"radialaxis\":{\"gridcolor\":\"white\",\"linecolor\":\"white\",\"ticks\":\"\"}},\"scene\":{\"xaxis\":{\"backgroundcolor\":\"#E5ECF6\",\"gridcolor\":\"white\",\"gridwidth\":2,\"linecolor\":\"white\",\"showbackground\":true,\"ticks\":\"\",\"zerolinecolor\":\"white\"},\"yaxis\":{\"backgroundcolor\":\"#E5ECF6\",\"gridcolor\":\"white\",\"gridwidth\":2,\"linecolor\":\"white\",\"showbackground\":true,\"ticks\":\"\",\"zerolinecolor\":\"white\"},\"zaxis\":{\"backgroundcolor\":\"#E5ECF6\",\"gridcolor\":\"white\",\"gridwidth\":2,\"linecolor\":\"white\",\"showbackground\":true,\"ticks\":\"\",\"zerolinecolor\":\"white\"}},\"shapedefaults\":{\"line\":{\"color\":\"#2a3f5f\"}},\"ternary\":{\"aaxis\":{\"gridcolor\":\"white\",\"linecolor\":\"white\",\"ticks\":\"\"},\"baxis\":{\"gridcolor\":\"white\",\"linecolor\":\"white\",\"ticks\":\"\"},\"bgcolor\":\"#E5ECF6\",\"caxis\":{\"gridcolor\":\"white\",\"linecolor\":\"white\",\"ticks\":\"\"}},\"title\":{\"x\":0.05},\"xaxis\":{\"automargin\":true,\"gridcolor\":\"white\",\"linecolor\":\"white\",\"ticks\":\"\",\"title\":{\"standoff\":15},\"zerolinecolor\":\"white\",\"zerolinewidth\":2},\"yaxis\":{\"automargin\":true,\"gridcolor\":\"white\",\"linecolor\":\"white\",\"ticks\":\"\",\"title\":{\"standoff\":15},\"zerolinecolor\":\"white\",\"zerolinewidth\":2}}},\"legend\":{\"tracegroupgap\":0},\"margin\":{\"t\":60},\"height\":500,\"width\":800,\"title\":{\"text\":\"Attacking Methods By Terrorists\"}},                        {\"responsive\": true}                    ).then(function(){\n",
              "                            \n",
              "var gd = document.getElementById('b42124a6-27e4-4c6a-88d6-93ab98fdaff1');\n",
              "var x = new MutationObserver(function (mutations, observer) {{\n",
              "        var display = window.getComputedStyle(gd).display;\n",
              "        if (!display || display === 'none') {{\n",
              "            console.log([gd, 'removed!']);\n",
              "            Plotly.purge(gd);\n",
              "            observer.disconnect();\n",
              "        }}\n",
              "}});\n",
              "\n",
              "// Listen for the removal of the full notebook cells\n",
              "var notebookContainer = gd.closest('#notebook-container');\n",
              "if (notebookContainer) {{\n",
              "    x.observe(notebookContainer, {childList: true});\n",
              "}}\n",
              "\n",
              "// Listen for the clearing of the current output cell\n",
              "var outputEl = gd.closest('.output');\n",
              "if (outputEl) {{\n",
              "    x.observe(outputEl, {childList: true});\n",
              "}}\n",
              "\n",
              "                        })                };                            </script>        </div>\n",
              "</body>\n",
              "</html>"
            ]
          },
          "metadata": {},
          "output_type": "display_data"
        }
      ],
      "source": [
        "top_attack_tac = df['AttackType'].value_counts().reset_index().rename(columns={'index':'AttackType','AttackType':'Count'})\n",
        "\n",
        "fig = px.pie(top_attack_tac, values='Count', names='AttackType',  height = 500, width = 800)\n",
        "fig.update_layout(title=\"Attacking Methods By Terrorists\")\n",
        "fig.show()"
      ]
    },
    {
      "cell_type": "markdown",
      "metadata": {
        "id": "O3MhE_W7kT3p"
      },
      "source": [
        "Most of the attacks were through either Bombing or Explosion."
      ]
    },
    {
      "cell_type": "markdown",
      "metadata": {
        "id": "SseNrNKBYqLY"
      },
      "source": [
        "**Chart- 5**\n",
        "## **Number Of Total Attack In Each Country**"
      ]
    },
    {
      "cell_type": "code",
      "execution_count": null,
      "metadata": {
        "colab": {
          "base_uri": "https://localhost:8080/"
        },
        "id": "JRhsgYdsV0LG",
        "outputId": "9db8bfb6-7716-4649-bdc2-c4d7bcc41379"
      },
      "outputs": [
        {
          "data": {
            "text/plain": [
              "Iraq                   24636\n",
              "Pakistan               14368\n",
              "Afghanistan            12731\n",
              "India                  11960\n",
              "Colombia                8306\n",
              "                       ...  \n",
              "International              1\n",
              "Wallis and Futuna          1\n",
              "South Vietnam              1\n",
              "Andorra                    1\n",
              "Antigua and Barbuda        1\n",
              "Name: Country, Length: 205, dtype: int64"
            ]
          },
          "execution_count": 28,
          "metadata": {},
          "output_type": "execute_result"
        }
      ],
      "source": [
        "df['Country'].value_counts()"
      ]
    },
    {
      "cell_type": "code",
      "execution_count": null,
      "metadata": {
        "colab": {
          "base_uri": "https://localhost:8080/",
          "height": 445
        },
        "id": "_V83TVwKY2Sr",
        "outputId": "087372df-370c-4835-d116-ea7fcf2ba6be"
      },
      "outputs": [
        {
          "name": "stderr",
          "output_type": "stream",
          "text": [
            "/usr/local/lib/python3.8/dist-packages/seaborn/_decorators.py:36: FutureWarning: Pass the following variables as keyword args: x, y. From version 0.12, the only valid positional argument will be `data`, and passing other arguments without an explicit keyword will result in an error or misinterpretation.\n",
            "  warnings.warn(\n"
          ]
        },
        {
          "data": {
            "image/png": "[encoded data removed]",
            "text/plain": [
              "<Figure size 1296x432 with 1 Axes>"
            ]
          },
          "metadata": {
            "needs_background": "light"
          },
          "output_type": "display_data"
        }
      ],
      "source": [
        "plt.subplots(figsize=(18,6))\n",
        "sns.barplot(df['Country'].value_counts()[:10].index, df['Country'].value_counts()[:10].values)\n",
        "plt.title('Top 10 Affected Countries')\n",
        "plt.show()"
      ]
    },
    {
      "cell_type": "markdown",
      "metadata": {
        "id": "9-9-Kt0qkq3J"
      },
      "source": [
        "Iraq dominates all the countries and it has the highest number of attacks and then Pakistan, Afghanistan, and India follow it. Government should increase safety measures in these countries."
      ]
    },
    {
      "cell_type": "markdown",
      "metadata": {
        "id": "QpC0SG9FafWn"
      },
      "source": [
        "**Chart- 6**\n",
        "## **Terrotist Group with Highest Terror Attack**"
      ]
    },
    {
      "cell_type": "code",
      "execution_count": null,
      "metadata": {
        "colab": {
          "base_uri": "https://localhost:8080/"
        },
        "id": "CPQZ_PW9ZMu5",
        "outputId": "40d82a53-4389-40e1-a071-b07dadbdcb24"
      },
      "outputs": [
        {
          "data": {
            "text/plain": [
              "Unknown                                             82782\n",
              "Taliban                                              7478\n",
              "Islamic State of Iraq and the Levant (ISIL)          5613\n",
              "Shining Path (SL)                                    4555\n",
              "Farabundo Marti National Liberation Front (FMLN)     3351\n",
              "                                                    ...  \n",
              "Ansar Sarallah                                          1\n",
              "Sword of Islam                                          1\n",
              "Support of Ocalan-The Hawks of Thrace                   1\n",
              "Arab Revolutionary Front                                1\n",
              "MANO-D                                                  1\n",
              "Name: Group, Length: 3537, dtype: int64"
            ]
          },
          "execution_count": 38,
          "metadata": {},
          "output_type": "execute_result"
        }
      ],
      "source": [
        "df['Group'].value_counts()"
      ]
    },
    {
      "cell_type": "code",
      "execution_count": null,
      "metadata": {
        "colab": {
          "base_uri": "https://localhost:8080/",
          "height": 499
        },
        "id": "41A2oLWIavEz",
        "outputId": "3c6e5602-2655-423c-c93a-5f9f01f09ab5"
      },
      "outputs": [
        {
          "data": {
            "image/png": "[encoded data removed]",
            "text/plain": [
              "<Figure size 720x576 with 1 Axes>"
            ]
          },
          "metadata": {
            "needs_background": "light"
          },
          "output_type": "display_data"
        }
      ],
      "source": [
        "plt.subplots(figsize=(10,8))\n",
        "sns.barplot(df['Group'].value_counts()[1:11].values,df['Group'].value_counts()[1:11].index,palette=('inferno'))\n",
        "plt.title(\"Terrotist Group with Highest Terror Attack\")\n",
        "plt.show()"
      ]
    },
    {
      "cell_type": "markdown",
      "metadata": {
        "id": "EdWnsf-EnIhD"
      },
      "source": [
        "On the above chart  number of terror attacks done by a group since 1970, 'Taliban' tops the chart with more attacks. while 'Islamic State of Iraq & the Levant (ISIL)' hold the second place"
      ]
    },
    {
      "cell_type": "markdown",
      "metadata": {
        "id": "KhEecvZS27as"
      },
      "source": [
        "**Chart- 7**\n",
        "##**Number of kill by each terrorist Organisation**"
      ]
    },
    {
      "cell_type": "code",
      "execution_count": null,
      "metadata": {
        "colab": {
          "base_uri": "https://localhost:8080/",
          "height": 418
        },
        "id": "4N0jlWFW26ny",
        "outputId": "195705cd-f355-4a4a-855d-067a95dd58b1"
      },
      "outputs": [
        {
          "name": "stderr",
          "output_type": "stream",
          "text": [
            "/usr/local/lib/python3.8/dist-packages/pandas/core/generic.py:4150: PerformanceWarning: dropping on a non-lexsorted multi-index without a level parameter may impact performance.\n",
            "  obj = obj._drop_axis(labels, axis, level=level, errors=errors)\n"
          ]
        },
        {
          "data": {
            "text/html": [
              "\n",
              "  <div id=\"df-7a3c967f-d78f-4d6e-8faf-8b1fec4ab3a3\">\n",
              "    <div class=\"colab-df-container\">\n",
              "      <div>\n",
              "<style scoped>\n",
              "    .dataframe tbody tr th:only-of-type {\n",
              "        vertical-align: middle;\n",
              "    }\n",
              "\n",
              "    .dataframe tbody tr th {\n",
              "        vertical-align: top;\n",
              "    }\n",
              "\n",
              "    .dataframe thead th {\n",
              "        text-align: right;\n",
              "    }\n",
              "</style>\n",
              "<table border=\"1\" class=\"dataframe\">\n",
              "  <thead>\n",
              "    <tr style=\"text-align: right;\">\n",
              "      <th></th>\n",
              "      <th>Group</th>\n",
              "      <th>Country</th>\n",
              "      <th>Killed</th>\n",
              "    </tr>\n",
              "  </thead>\n",
              "  <tbody>\n",
              "    <tr>\n",
              "      <th>0</th>\n",
              "      <td>Islamic State of Iraq and the Levant (ISIL)</td>\n",
              "      <td>Iraq</td>\n",
              "      <td>31058.0</td>\n",
              "    </tr>\n",
              "    <tr>\n",
              "      <th>1</th>\n",
              "      <td>Taliban</td>\n",
              "      <td>Afghanistan</td>\n",
              "      <td>29269.0</td>\n",
              "    </tr>\n",
              "    <tr>\n",
              "      <th>2</th>\n",
              "      <td>Boko Haram</td>\n",
              "      <td>Nigeria</td>\n",
              "      <td>16917.0</td>\n",
              "    </tr>\n",
              "    <tr>\n",
              "      <th>3</th>\n",
              "      <td>Shining Path (SL)</td>\n",
              "      <td>Peru</td>\n",
              "      <td>11595.0</td>\n",
              "    </tr>\n",
              "    <tr>\n",
              "      <th>4</th>\n",
              "      <td>Liberation Tigers of Tamil Eelam (LTTE)</td>\n",
              "      <td>Sri Lanka</td>\n",
              "      <td>10928.0</td>\n",
              "    </tr>\n",
              "    <tr>\n",
              "      <th>5</th>\n",
              "      <td>Al-Shabaab</td>\n",
              "      <td>Somalia</td>\n",
              "      <td>8176.0</td>\n",
              "    </tr>\n",
              "    <tr>\n",
              "      <th>6</th>\n",
              "      <td>Farabundo Marti National Liberation Front (FMLN)</td>\n",
              "      <td>El Salvador</td>\n",
              "      <td>8019.0</td>\n",
              "    </tr>\n",
              "    <tr>\n",
              "      <th>7</th>\n",
              "      <td>Islamic State of Iraq and the Levant (ISIL)</td>\n",
              "      <td>Syria</td>\n",
              "      <td>6883.0</td>\n",
              "    </tr>\n",
              "    <tr>\n",
              "      <th>8</th>\n",
              "      <td>Nicaraguan Democratic Force (FDN)</td>\n",
              "      <td>Nicaragua</td>\n",
              "      <td>6630.0</td>\n",
              "    </tr>\n",
              "    <tr>\n",
              "      <th>9</th>\n",
              "      <td>Tehrik-i-Taliban Pakistan (TTP)</td>\n",
              "      <td>Pakistan</td>\n",
              "      <td>6014.0</td>\n",
              "    </tr>\n",
              "  </tbody>\n",
              "</table>\n",
              "</div>\n",
              "      <button class=\"colab-df-convert\" onclick=\"convertToInteractive('df-7a3c967f-d78f-4d6e-8faf-8b1fec4ab3a3')\"\n",
              "              title=\"Convert this dataframe to an interactive table.\"\n",
              "              style=\"display:none;\">\n",
              "        \n",
              "  <svg xmlns=\"http://www.w3.org/2000/svg\" height=\"24px\"viewBox=\"0 0 24 24\"\n",
              "       width=\"24px\">\n",
              "    <path d=\"M0 0h24v24H0V0z\" fill=\"none\"/>\n",
              "    <path d=\"M18.56 5.44l.94 2.06.94-2.06 2.06-.94-2.06-.94-.94-2.06-.94 2.06-2.06.94zm-11 1L8.5 8.5l.94-2.06 2.06-.94-2.06-.94L8.5 2.5l-.94 2.06-2.06.94zm10 10l.94 2.06.94-2.06 2.06-.94-2.06-.94-.94-2.06-.94 2.06-2.06.94z\"/><path d=\"M17.41 7.96l-1.37-1.37c-.4-.4-.92-.59-1.43-.59-.52 0-1.04.2-1.43.59L10.3 9.45l-7.72 7.72c-.78.78-.78 2.05 0 2.83L4 21.41c.39.39.9.59 1.41.59.51 0 1.02-.2 1.41-.59l7.78-7.78 2.81-2.81c.8-.78.8-2.07 0-2.86zM5.41 20L4 18.59l7.72-7.72 1.47 1.35L5.41 20z\"/>\n",
              "  </svg>\n",
              "      </button>\n",
              "      \n",
              "  <style>\n",
              "    .colab-df-container {\n",
              "      display:flex;\n",
              "      flex-wrap:wrap;\n",
              "      gap: 12px;\n",
              "    }\n",
              "\n",
              "    .colab-df-convert {\n",
              "      background-color: #E8F0FE;\n",
              "      border: none;\n",
              "      border-radius: 50%;\n",
              "      cursor: pointer;\n",
              "      display: none;\n",
              "      fill: #1967D2;\n",
              "      height: 32px;\n",
              "      padding: 0 0 0 0;\n",
              "      width: 32px;\n",
              "    }\n",
              "\n",
              "    .colab-df-convert:hover {\n",
              "      background-color: #E2EBFA;\n",
              "      box-shadow: 0px 1px 2px rgba(60, 64, 67, 0.3), 0px 1px 3px 1px rgba(60, 64, 67, 0.15);\n",
              "      fill: #174EA6;\n",
              "    }\n",
              "\n",
              "    [theme=dark] .colab-df-convert {\n",
              "      background-color: #3B4455;\n",
              "      fill: #D2E3FC;\n",
              "    }\n",
              "\n",
              "    [theme=dark] .colab-df-convert:hover {\n",
              "      background-color: #434B5C;\n",
              "      box-shadow: 0px 1px 3px 1px rgba(0, 0, 0, 0.15);\n",
              "      filter: drop-shadow(0px 1px 2px rgba(0, 0, 0, 0.3));\n",
              "      fill: #FFFFFF;\n",
              "    }\n",
              "  </style>\n",
              "\n",
              "      <script>\n",
              "        const buttonEl =\n",
              "          document.querySelector('#df-7a3c967f-d78f-4d6e-8faf-8b1fec4ab3a3 button.colab-df-convert');\n",
              "        buttonEl.style.display =\n",
              "          google.colab.kernel.accessAllowed ? 'block' : 'none';\n",
              "\n",
              "        async function convertToInteractive(key) {\n",
              "          const element = document.querySelector('#df-7a3c967f-d78f-4d6e-8faf-8b1fec4ab3a3');\n",
              "          const dataTable =\n",
              "            await google.colab.kernel.invokeFunction('convertToInteractive',\n",
              "                                                     [key], {});\n",
              "          if (!dataTable) return;\n",
              "\n",
              "          const docLinkHtml = 'Like what you see? Visit the ' +\n",
              "            '<a target=\"_blank\" href=https://colab.research.google.com/notebooks/data_table.ipynb>data table notebook</a>'\n",
              "            + ' to learn more about interactive tables.';\n",
              "          element.innerHTML = '';\n",
              "          dataTable['output_type'] = 'display_data';\n",
              "          await google.colab.output.renderOutput(dataTable, element);\n",
              "          const docLink = document.createElement('div');\n",
              "          docLink.innerHTML = docLinkHtml;\n",
              "          element.appendChild(docLink);\n",
              "        }\n",
              "      </script>\n",
              "    </div>\n",
              "  </div>\n",
              "  "
            ],
            "text/plain": [
              "                                              Group      Country   Killed\n",
              "0       Islamic State of Iraq and the Levant (ISIL)         Iraq  31058.0\n",
              "1                                           Taliban  Afghanistan  29269.0\n",
              "2                                        Boko Haram      Nigeria  16917.0\n",
              "3                                 Shining Path (SL)         Peru  11595.0\n",
              "4           Liberation Tigers of Tamil Eelam (LTTE)    Sri Lanka  10928.0\n",
              "5                                        Al-Shabaab      Somalia   8176.0\n",
              "6  Farabundo Marti National Liberation Front (FMLN)  El Salvador   8019.0\n",
              "7       Islamic State of Iraq and the Levant (ISIL)        Syria   6883.0\n",
              "8                 Nicaraguan Democratic Force (FDN)    Nicaragua   6630.0\n",
              "9                   Tehrik-i-Taliban Pakistan (TTP)     Pakistan   6014.0"
            ]
          },
          "execution_count": 27,
          "metadata": {},
          "output_type": "execute_result"
        }
      ],
      "source": [
        "group=df[['Group','Country','Killed']]\n",
        "group=group.groupby(['Group','Country'],axis=0).sum().sort_values('Killed',ascending=False).drop('Unknown').reset_index().head(10)\n",
        "group"
      ]
    },
    {
      "cell_type": "markdown",
      "metadata": {
        "id": "Y3K_v6BUmK6T"
      },
      "source": [
        "**Chart- 8**\n",
        "## **Terrorist Targeted places**"
      ]
    },
    {
      "cell_type": "code",
      "execution_count": null,
      "metadata": {
        "colab": {
          "base_uri": "https://localhost:8080/",
          "height": 484
        },
        "id": "Ctl1Kx3cico7",
        "outputId": "e3add023-e8b1-45e6-d1be-252fbac8206d"
      },
      "outputs": [
        {
          "data": {
            "image/png": "[encoded data removed]",
            "text/plain": [
              "<Figure size 1440x360 with 1 Axes>"
            ]
          },
          "metadata": {
            "needs_background": "light"
          },
          "output_type": "display_data"
        }
      ],
      "source": [
        "plt.figure(figsize=(20,5));\n",
        "plt.rcParams.update({'font.size':10});\n",
        "plt.xticks(rotation = 90)\n",
        "plt.title('Based on Target type')\n",
        "sns.countplot(x=df.Target_type);"
      ]
    },
    {
      "cell_type": "markdown",
      "metadata": {
        "id": "yIpxm622jKFy"
      },
      "source": [
        "For most of the attacks, the target is Private Citizens& property and the next Military leads."
      ]
    },
    {
      "cell_type": "markdown",
      "metadata": {
        "id": "Tee_5fl8fKpR"
      },
      "source": [
        "### **Chart- 9**\n",
        "## **Terrorist Activities on World map**"
      ]
    },
    {
      "cell_type": "code",
      "execution_count": 9,
      "metadata": {
        "id": "6uM-SsIebWi5"
      },
      "outputs": [],
      "source": [
        "terror=df.groupby(['Country'],as_index=False).count()"
      ]
    },
    {
      "cell_type": "code",
      "execution_count": 10,
      "metadata": {
        "colab": {
          "base_uri": "https://localhost:8080/",
          "height": 542
        },
        "id": "2idsJATrqXPc",
        "outputId": "263efb59-8bdc-402b-bb5d-b3e1d108d18e"
      },
      "outputs": [
        {
          "data": {
            "application/vnd.plotly.v1+json": {
              "config": {
                "plotlyServerURL": "https://plot.ly"
              },
              "data": [
                {
                  "coloraxis": "coloraxis",
                  "geo": "geo",
                  "hovertemplate": "<b>%{hovertext}</b><br><br>Country=%{location}<br>Attacks=%{z}<extra></extra>",
                  "hovertext": [
                    "Afghanistan",
                    "Albania",
                    "Algeria",
                    "Andorra",
                    "Angola",
                    "Antigua and Barbuda",
                    "Argentina",
                    "Armenia",
                    "Australia",
                    "Austria",
                    "Azerbaijan",
                    "Bahamas",
                    "Bahrain",
                    "Bangladesh",
                    "Barbados",
                    "Belarus",
                    "Belgium",
                    "Belize",
                    "Benin",
                    "Bhutan",
                    "Bolivia",
                    "Bosnia-Herzegovina",
                    "Botswana",
                    "Brazil",
                    "Brunei",
                    "Bulgaria",
                    "Burkina Faso",
                    "Burundi",
                    "Cambodia",
                    "Cameroon",
                    "Canada",
                    "Central African Republic",
                    "Chad",
                    "Chile",
                    "China",
                    "Colombia",
                    "Comoros",
                    "Costa Rica",
                    "Croatia",
                    "Cuba",
                    "Cyprus",
                    "Czech Republic",
                    "Czechoslovakia",
                    "Democratic Republic of the Congo",
                    "Denmark",
                    "Djibouti",
                    "Dominica",
                    "Dominican Republic",
                    "East Germany (GDR)",
                    "East Timor",
                    "Ecuador",
                    "Egypt",
                    "El Salvador",
                    "Equatorial Guinea",
                    "Eritrea",
                    "Estonia",
                    "Ethiopia",
                    "Falkland Islands",
                    "Fiji",
                    "Finland",
                    "France",
                    "French Guiana",
                    "French Polynesia",
                    "Gabon",
                    "Gambia",
                    "Georgia",
                    "Germany",
                    "Ghana",
                    "Greece",
                    "Grenada",
                    "Guadeloupe",
                    "Guatemala",
                    "Guinea",
                    "Guinea-Bissau",
                    "Guyana",
                    "Haiti",
                    "Honduras",
                    "Hong Kong",
                    "Hungary",
                    "Iceland",
                    "India",
                    "Indonesia",
                    "International",
                    "Iran",
                    "Iraq",
                    "Ireland",
                    "Israel",
                    "Italy",
                    "Ivory Coast",
                    "Jamaica",
                    "Japan",
                    "Jordan",
                    "Kazakhstan",
                    "Kenya",
                    "Kosovo",
                    "Kuwait",
                    "Kyrgyzstan",
                    "Laos",
                    "Latvia",
                    "Lebanon",
                    "Lesotho",
                    "Liberia",
                    "Libya",
                    "Lithuania",
                    "Luxembourg",
                    "Macau",
                    "Macedonia",
                    "Madagascar",
                    "Malawi",
                    "Malaysia",
                    "Maldives",
                    "Mali",
                    "Malta",
                    "Martinique",
                    "Mauritania",
                    "Mauritius",
                    "Mexico",
                    "Moldova",
                    "Montenegro",
                    "Morocco",
                    "Mozambique",
                    "Myanmar",
                    "Namibia",
                    "Nepal",
                    "Netherlands",
                    "New Caledonia",
                    "New Hebrides",
                    "New Zealand",
                    "Nicaragua",
                    "Niger",
                    "Nigeria",
                    "North Korea",
                    "North Yemen",
                    "Norway",
                    "Pakistan",
                    "Panama",
                    "Papua New Guinea",
                    "Paraguay",
                    "People's Republic of the Congo",
                    "Peru",
                    "Philippines",
                    "Poland",
                    "Portugal",
                    "Qatar",
                    "Republic of the Congo",
                    "Rhodesia",
                    "Romania",
                    "Russia",
                    "Rwanda",
                    "Saudi Arabia",
                    "Senegal",
                    "Serbia",
                    "Serbia-Montenegro",
                    "Seychelles",
                    "Sierra Leone",
                    "Singapore",
                    "Slovak Republic",
                    "Slovenia",
                    "Solomon Islands",
                    "Somalia",
                    "South Africa",
                    "South Korea",
                    "South Sudan",
                    "South Vietnam",
                    "South Yemen",
                    "Soviet Union",
                    "Spain",
                    "Sri Lanka",
                    "St. Kitts and Nevis",
                    "St. Lucia",
                    "Sudan",
                    "Suriname",
                    "Swaziland",
                    "Sweden",
                    "Switzerland",
                    "Syria",
                    "Taiwan",
                    "Tajikistan",
                    "Tanzania",
                    "Thailand",
                    "Togo",
                    "Trinidad and Tobago",
                    "Tunisia",
                    "Turkey",
                    "Turkmenistan",
                    "Uganda",
                    "Ukraine",
                    "United Arab Emirates",
                    "United Kingdom",
                    "United States",
                    "Uruguay",
                    "Uzbekistan",
                    "Vanuatu",
                    "Vatican City",
                    "Venezuela",
                    "Vietnam",
                    "Wallis and Futuna",
                    "West Bank and Gaza Strip",
                    "West Germany (FRG)",
                    "Western Sahara",
                    "Yemen",
                    "Yugoslavia",
                    "Zaire",
                    "Zambia",
                    "Zimbabwe"
                  ],
                  "locationmode": "country names",
                  "locations": [
                    "Afghanistan",
                    "Albania",
                    "Algeria",
                    "Andorra",
                    "Angola",
                    "Antigua and Barbuda",
                    "Argentina",
                    "Armenia",
                    "Australia",
                    "Austria",
                    "Azerbaijan",
                    "Bahamas",
                    "Bahrain",
                    "Bangladesh",
                    "Barbados",
                    "Belarus",
                    "Belgium",
                    "Belize",
                    "Benin",
                    "Bhutan",
                    "Bolivia",
                    "Bosnia-Herzegovina",
                    "Botswana",
                    "Brazil",
                    "Brunei",
                    "Bulgaria",
                    "Burkina Faso",
                    "Burundi",
                    "Cambodia",
                    "Cameroon",
                    "Canada",
                    "Central African Republic",
                    "Chad",
                    "Chile",
                    "China",
                    "Colombia",
                    "Comoros",
                    "Costa Rica",
                    "Croatia",
                    "Cuba",
                    "Cyprus",
                    "Czech Republic",
                    "Czechoslovakia",
                    "Democratic Republic of the Congo",
                    "Denmark",
                    "Djibouti",
                    "Dominica",
                    "Dominican Republic",
                    "East Germany (GDR)",
                    "East Timor",
                    "Ecuador",
                    "Egypt",
                    "El Salvador",
                    "Equatorial Guinea",
                    "Eritrea",
                    "Estonia",
                    "Ethiopia",
                    "Falkland Islands",
                    "Fiji",
                    "Finland",
                    "France",
                    "French Guiana",
                    "French Polynesia",
                    "Gabon",
                    "Gambia",
                    "Georgia",
                    "Germany",
                    "Ghana",
                    "Greece",
                    "Grenada",
                    "Guadeloupe",
                    "Guatemala",
                    "Guinea",
                    "Guinea-Bissau",
                    "Guyana",
                    "Haiti",
                    "Honduras",
                    "Hong Kong",
                    "Hungary",
                    "Iceland",
                    "India",
                    "Indonesia",
                    "International",
                    "Iran",
                    "Iraq",
                    "Ireland",
                    "Israel",
                    "Italy",
                    "Ivory Coast",
                    "Jamaica",
                    "Japan",
                    "Jordan",
                    "Kazakhstan",
                    "Kenya",
                    "Kosovo",
                    "Kuwait",
                    "Kyrgyzstan",
                    "Laos",
                    "Latvia",
                    "Lebanon",
                    "Lesotho",
                    "Liberia",
                    "Libya",
                    "Lithuania",
                    "Luxembourg",
                    "Macau",
                    "Macedonia",
                    "Madagascar",
                    "Malawi",
                    "Malaysia",
                    "Maldives",
                    "Mali",
                    "Malta",
                    "Martinique",
                    "Mauritania",
                    "Mauritius",
                    "Mexico",
                    "Moldova",
                    "Montenegro",
                    "Morocco",
                    "Mozambique",
                    "Myanmar",
                    "Namibia",
                    "Nepal",
                    "Netherlands",
                    "New Caledonia",
                    "New Hebrides",
                    "New Zealand",
                    "Nicaragua",
                    "Niger",
                    "Nigeria",
                    "North Korea",
                    "North Yemen",
                    "Norway",
                    "Pakistan",
                    "Panama",
                    "Papua New Guinea",
                    "Paraguay",
                    "People's Republic of the Congo",
                    "Peru",
                    "Philippines",
                    "Poland",
                    "Portugal",
                    "Qatar",
                    "Republic of the Congo",
                    "Rhodesia",
                    "Romania",
                    "Russia",
                    "Rwanda",
                    "Saudi Arabia",
                    "Senegal",
                    "Serbia",
                    "Serbia-Montenegro",
                    "Seychelles",
                    "Sierra Leone",
                    "Singapore",
                    "Slovak Republic",
                    "Slovenia",
                    "Solomon Islands",
                    "Somalia",
                    "South Africa",
                    "South Korea",
                    "South Sudan",
                    "South Vietnam",
                    "South Yemen",
                    "Soviet Union",
                    "Spain",
                    "Sri Lanka",
                    "St. Kitts and Nevis",
                    "St. Lucia",
                    "Sudan",
                    "Suriname",
                    "Swaziland",
                    "Sweden",
                    "Switzerland",
                    "Syria",
                    "Taiwan",
                    "Tajikistan",
                    "Tanzania",
                    "Thailand",
                    "Togo",
                    "Trinidad and Tobago",
                    "Tunisia",
                    "Turkey",
                    "Turkmenistan",
                    "Uganda",
                    "Ukraine",
                    "United Arab Emirates",
                    "United Kingdom",
                    "United States",
                    "Uruguay",
                    "Uzbekistan",
                    "Vanuatu",
                    "Vatican City",
                    "Venezuela",
                    "Vietnam",
                    "Wallis and Futuna",
                    "West Bank and Gaza Strip",
                    "West Germany (FRG)",
                    "Western Sahara",
                    "Yemen",
                    "Yugoslavia",
                    "Zaire",
                    "Zambia",
                    "Zimbabwe"
                  ],
                  "name": "",
                  "type": "choropleth",
                  "z": [
                    12731,
                    80,
                    2743,
                    1,
                    499,
                    1,
                    815,
                    24,
                    114,
                    115,
                    49,
                    5,
                    207,
                    1648,
                    3,
                    13,
                    154,
                    8,
                    8,
                    6,
                    314,
                    159,
                    10,
                    273,
                    6,
                    52,
                    52,
                    613,
                    259,
                    332,
                    96,
                    283,
                    91,
                    2365,
                    252,
                    8306,
                    5,
                    67,
                    57,
                    30,
                    132,
                    32,
                    10,
                    775,
                    41,
                    22,
                    3,
                    90,
                    38,
                    10,
                    220,
                    2479,
                    5320,
                    2,
                    10,
                    16,
                    190,
                    1,
                    17,
                    20,
                    2693,
                    7,
                    3,
                    8,
                    3,
                    217,
                    735,
                    19,
                    1275,
                    5,
                    56,
                    2050,
                    25,
                    9,
                    26,
                    213,
                    323,
                    26,
                    46,
                    4,
                    11960,
                    761,
                    1,
                    684,
                    24636,
                    307,
                    2183,
                    1565,
                    74,
                    36,
                    402,
                    113,
                    27,
                    683,
                    196,
                    76,
                    35,
                    27,
                    17,
                    2478,
                    29,
                    34,
                    2249,
                    8,
                    16,
                    33,
                    118,
                    27,
                    5,
                    99,
                    22,
                    566,
                    23,
                    12,
                    18,
                    2,
                    524,
                    21,
                    5,
                    36,
                    363,
                    546,
                    151,
                    1215,
                    130,
                    31,
                    1,
                    20,
                    1970,
                    154,
                    3907,
                    1,
                    6,
                    19,
                    14368,
                    127,
                    89,
                    114,
                    4,
                    6096,
                    6908,
                    39,
                    140,
                    7,
                    36,
                    83,
                    6,
                    2194,
                    159,
                    371,
                    118,
                    12,
                    11,
                    2,
                    101,
                    7,
                    18,
                    6,
                    4,
                    4142,
                    2016,
                    38,
                    225,
                    1,
                    2,
                    78,
                    3249,
                    3022,
                    2,
                    1,
                    967,
                    66,
                    16,
                    132,
                    111,
                    2201,
                    50,
                    188,
                    59,
                    3849,
                    48,
                    22,
                    109,
                    4292,
                    2,
                    394,
                    1709,
                    22,
                    5235,
                    2836,
                    82,
                    21,
                    2,
                    1,
                    293,
                    12,
                    1,
                    2227,
                    541,
                    5,
                    3347,
                    203,
                    50,
                    62,
                    101
                  ]
                }
              ],
              "layout": {
                "coloraxis": {
                  "colorbar": {
                    "title": {
                      "text": "Attacks"
                    }
                  },
                  "colorscale": [
                    [
                      0,
                      "#0d0887"
                    ],
                    [
                      0.1111111111111111,
                      "#46039f"
                    ],
                    [
                      0.2222222222222222,
                      "#7201a8"
                    ],
                    [
                      0.3333333333333333,
                      "#9c179e"
                    ],
                    [
                      0.4444444444444444,
                      "#bd3786"
                    ],
                    [
                      0.5555555555555556,
                      "#d8576b"
                    ],
                    [
                      0.6666666666666666,
                      "#ed7953"
                    ],
                    [
                      0.7777777777777778,
                      "#fb9f3a"
                    ],
                    [
                      0.8888888888888888,
                      "#fdca26"
                    ],
                    [
                      1,
                      "#f0f921"
                    ]
                  ]
                },
                "geo": {
                  "center": {},
                  "domain": {
                    "x": [
                      0,
                      1
                    ],
                    "y": [
                      0,
                      1
                    ]
                  },
                  "projection": {
                    "type": "orthographic"
                  }
                },
                "legend": {
                  "tracegroupgap": 0
                },
                "template": {
                  "data": {
                    "bar": [
                      {
                        "error_x": {
                          "color": "#2a3f5f"
                        },
                        "error_y": {
                          "color": "#2a3f5f"
                        },
                        "marker": {
                          "line": {
                            "color": "#E5ECF6",
                            "width": 0.5
                          },
                          "pattern": {
                            "fillmode": "overlay",
                            "size": 10,
                            "solidity": 0.2
                          }
                        },
                        "type": "bar"
                      }
                    ],
                    "barpolar": [
                      {
                        "marker": {
                          "line": {
                            "color": "#E5ECF6",
                            "width": 0.5
                          },
                          "pattern": {
                            "fillmode": "overlay",
                            "size": 10,
                            "solidity": 0.2
                          }
                        },
                        "type": "barpolar"
                      }
                    ],
                    "carpet": [
                      {
                        "aaxis": {
                          "endlinecolor": "#2a3f5f",
                          "gridcolor": "white",
                          "linecolor": "white",
                          "minorgridcolor": "white",
                          "startlinecolor": "#2a3f5f"
                        },
                        "baxis": {
                          "endlinecolor": "#2a3f5f",
                          "gridcolor": "white",
                          "linecolor": "white",
                          "minorgridcolor": "white",
                          "startlinecolor": "#2a3f5f"
                        },
                        "type": "carpet"
                      }
                    ],
                    "choropleth": [
                      {
                        "colorbar": {
                          "outlinewidth": 0,
                          "ticks": ""
                        },
                        "type": "choropleth"
                      }
                    ],
                    "contour": [
                      {
                        "colorbar": {
                          "outlinewidth": 0,
                          "ticks": ""
                        },
                        "colorscale": [
                          [
                            0,
                            "#0d0887"
                          ],
                          [
                            0.1111111111111111,
                            "#46039f"
                          ],
                          [
                            0.2222222222222222,
                            "#7201a8"
                          ],
                          [
                            0.3333333333333333,
                            "#9c179e"
                          ],
                          [
                            0.4444444444444444,
                            "#bd3786"
                          ],
                          [
                            0.5555555555555556,
                            "#d8576b"
                          ],
                          [
                            0.6666666666666666,
                            "#ed7953"
                          ],
                          [
                            0.7777777777777778,
                            "#fb9f3a"
                          ],
                          [
                            0.8888888888888888,
                            "#fdca26"
                          ],
                          [
                            1,
                            "#f0f921"
                          ]
                        ],
                        "type": "contour"
                      }
                    ],
                    "contourcarpet": [
                      {
                        "colorbar": {
                          "outlinewidth": 0,
                          "ticks": ""
                        },
                        "type": "contourcarpet"
                      }
                    ],
                    "heatmap": [
                      {
                        "colorbar": {
                          "outlinewidth": 0,
                          "ticks": ""
                        },
                        "colorscale": [
                          [
                            0,
                            "#0d0887"
                          ],
                          [
                            0.1111111111111111,
                            "#46039f"
                          ],
                          [
                            0.2222222222222222,
                            "#7201a8"
                          ],
                          [
                            0.3333333333333333,
                            "#9c179e"
                          ],
                          [
                            0.4444444444444444,
                            "#bd3786"
                          ],
                          [
                            0.5555555555555556,
                            "#d8576b"
                          ],
                          [
                            0.6666666666666666,
                            "#ed7953"
                          ],
                          [
                            0.7777777777777778,
                            "#fb9f3a"
                          ],
                          [
                            0.8888888888888888,
                            "#fdca26"
                          ],
                          [
                            1,
                            "#f0f921"
                          ]
                        ],
                        "type": "heatmap"
                      }
                    ],
                    "heatmapgl": [
                      {
                        "colorbar": {
                          "outlinewidth": 0,
                          "ticks": ""
                        },
                        "colorscale": [
                          [
                            0,
                            "#0d0887"
                          ],
                          [
                            0.1111111111111111,
                            "#46039f"
                          ],
                          [
                            0.2222222222222222,
                            "#7201a8"
                          ],
                          [
                            0.3333333333333333,
                            "#9c179e"
                          ],
                          [
                            0.4444444444444444,
                            "#bd3786"
                          ],
                          [
                            0.5555555555555556,
                            "#d8576b"
                          ],
                          [
                            0.6666666666666666,
                            "#ed7953"
                          ],
                          [
                            0.7777777777777778,
                            "#fb9f3a"
                          ],
                          [
                            0.8888888888888888,
                            "#fdca26"
                          ],
                          [
                            1,
                            "#f0f921"
                          ]
                        ],
                        "type": "heatmapgl"
                      }
                    ],
                    "histogram": [
                      {
                        "marker": {
                          "pattern": {
                            "fillmode": "overlay",
                            "size": 10,
                            "solidity": 0.2
                          }
                        },
                        "type": "histogram"
                      }
                    ],
                    "histogram2d": [
                      {
                        "colorbar": {
                          "outlinewidth": 0,
                          "ticks": ""
                        },
                        "colorscale": [
                          [
                            0,
                            "#0d0887"
                          ],
                          [
                            0.1111111111111111,
                            "#46039f"
                          ],
                          [
                            0.2222222222222222,
                            "#7201a8"
                          ],
                          [
                            0.3333333333333333,
                            "#9c179e"
                          ],
                          [
                            0.4444444444444444,
                            "#bd3786"
                          ],
                          [
                            0.5555555555555556,
                            "#d8576b"
                          ],
                          [
                            0.6666666666666666,
                            "#ed7953"
                          ],
                          [
                            0.7777777777777778,
                            "#fb9f3a"
                          ],
                          [
                            0.8888888888888888,
                            "#fdca26"
                          ],
                          [
                            1,
                            "#f0f921"
                          ]
                        ],
                        "type": "histogram2d"
                      }
                    ],
                    "histogram2dcontour": [
                      {
                        "colorbar": {
                          "outlinewidth": 0,
                          "ticks": ""
                        },
                        "colorscale": [
                          [
                            0,
                            "#0d0887"
                          ],
                          [
                            0.1111111111111111,
                            "#46039f"
                          ],
                          [
                            0.2222222222222222,
                            "#7201a8"
                          ],
                          [
                            0.3333333333333333,
                            "#9c179e"
                          ],
                          [
                            0.4444444444444444,
                            "#bd3786"
                          ],
                          [
                            0.5555555555555556,
                            "#d8576b"
                          ],
                          [
                            0.6666666666666666,
                            "#ed7953"
                          ],
                          [
                            0.7777777777777778,
                            "#fb9f3a"
                          ],
                          [
                            0.8888888888888888,
                            "#fdca26"
                          ],
                          [
                            1,
                            "#f0f921"
                          ]
                        ],
                        "type": "histogram2dcontour"
                      }
                    ],
                    "mesh3d": [
                      {
                        "colorbar": {
                          "outlinewidth": 0,
                          "ticks": ""
                        },
                        "type": "mesh3d"
                      }
                    ],
                    "parcoords": [
                      {
                        "line": {
                          "colorbar": {
                            "outlinewidth": 0,
                            "ticks": ""
                          }
                        },
                        "type": "parcoords"
                      }
                    ],
                    "pie": [
                      {
                        "automargin": true,
                        "type": "pie"
                      }
                    ],
                    "scatter": [
                      {
                        "fillpattern": {
                          "fillmode": "overlay",
                          "size": 10,
                          "solidity": 0.2
                        },
                        "type": "scatter"
                      }
                    ],
                    "scatter3d": [
                      {
                        "line": {
                          "colorbar": {
                            "outlinewidth": 0,
                            "ticks": ""
                          }
                        },
                        "marker": {
                          "colorbar": {
                            "outlinewidth": 0,
                            "ticks": ""
                          }
                        },
                        "type": "scatter3d"
                      }
                    ],
                    "scattercarpet": [
                      {
                        "marker": {
                          "colorbar": {
                            "outlinewidth": 0,
                            "ticks": ""
                          }
                        },
                        "type": "scattercarpet"
                      }
                    ],
                    "scattergeo": [
                      {
                        "marker": {
                          "colorbar": {
                            "outlinewidth": 0,
                            "ticks": ""
                          }
                        },
                        "type": "scattergeo"
                      }
                    ],
                    "scattergl": [
                      {
                        "marker": {
                          "colorbar": {
                            "outlinewidth": 0,
                            "ticks": ""
                          }
                        },
                        "type": "scattergl"
                      }
                    ],
                    "scattermapbox": [
                      {
                        "marker": {
                          "colorbar": {
                            "outlinewidth": 0,
                            "ticks": ""
                          }
                        },
                        "type": "scattermapbox"
                      }
                    ],
                    "scatterpolar": [
                      {
                        "marker": {
                          "colorbar": {
                            "outlinewidth": 0,
                            "ticks": ""
                          }
                        },
                        "type": "scatterpolar"
                      }
                    ],
                    "scatterpolargl": [
                      {
                        "marker": {
                          "colorbar": {
                            "outlinewidth": 0,
                            "ticks": ""
                          }
                        },
                        "type": "scatterpolargl"
                      }
                    ],
                    "scatterternary": [
                      {
                        "marker": {
                          "colorbar": {
                            "outlinewidth": 0,
                            "ticks": ""
                          }
                        },
                        "type": "scatterternary"
                      }
                    ],
                    "surface": [
                      {
                        "colorbar": {
                          "outlinewidth": 0,
                          "ticks": ""
                        },
                        "colorscale": [
                          [
                            0,
                            "#0d0887"
                          ],
                          [
                            0.1111111111111111,
                            "#46039f"
                          ],
                          [
                            0.2222222222222222,
                            "#7201a8"
                          ],
                          [
                            0.3333333333333333,
                            "#9c179e"
                          ],
                          [
                            0.4444444444444444,
                            "#bd3786"
                          ],
                          [
                            0.5555555555555556,
                            "#d8576b"
                          ],
                          [
                            0.6666666666666666,
                            "#ed7953"
                          ],
                          [
                            0.7777777777777778,
                            "#fb9f3a"
                          ],
                          [
                            0.8888888888888888,
                            "#fdca26"
                          ],
                          [
                            1,
                            "#f0f921"
                          ]
                        ],
                        "type": "surface"
                      }
                    ],
                    "table": [
                      {
                        "cells": {
                          "fill": {
                            "color": "#EBF0F8"
                          },
                          "line": {
                            "color": "white"
                          }
                        },
                        "header": {
                          "fill": {
                            "color": "#C8D4E3"
                          },
                          "line": {
                            "color": "white"
                          }
                        },
                        "type": "table"
                      }
                    ]
                  },
                  "layout": {
                    "annotationdefaults": {
                      "arrowcolor": "#2a3f5f",
                      "arrowhead": 0,
                      "arrowwidth": 1
                    },
                    "autotypenumbers": "strict",
                    "coloraxis": {
                      "colorbar": {
                        "outlinewidth": 0,
                        "ticks": ""
                      }
                    },
                    "colorscale": {
                      "diverging": [
                        [
                          0,
                          "#8e0152"
                        ],
                        [
                          0.1,
                          "#c51b7d"
                        ],
                        [
                          0.2,
                          "#de77ae"
                        ],
                        [
                          0.3,
                          "#f1b6da"
                        ],
                        [
                          0.4,
                          "#fde0ef"
                        ],
                        [
                          0.5,
                          "#f7f7f7"
                        ],
                        [
                          0.6,
                          "#e6f5d0"
                        ],
                        [
                          0.7,
                          "#b8e186"
                        ],
                        [
                          0.8,
                          "#7fbc41"
                        ],
                        [
                          0.9,
                          "#4d9221"
                        ],
                        [
                          1,
                          "#276419"
                        ]
                      ],
                      "sequential": [
                        [
                          0,
                          "#0d0887"
                        ],
                        [
                          0.1111111111111111,
                          "#46039f"
                        ],
                        [
                          0.2222222222222222,
                          "#7201a8"
                        ],
                        [
                          0.3333333333333333,
                          "#9c179e"
                        ],
                        [
                          0.4444444444444444,
                          "#bd3786"
                        ],
                        [
                          0.5555555555555556,
                          "#d8576b"
                        ],
                        [
                          0.6666666666666666,
                          "#ed7953"
                        ],
                        [
                          0.7777777777777778,
                          "#fb9f3a"
                        ],
                        [
                          0.8888888888888888,
                          "#fdca26"
                        ],
                        [
                          1,
                          "#f0f921"
                        ]
                      ],
                      "sequentialminus": [
                        [
                          0,
                          "#0d0887"
                        ],
                        [
                          0.1111111111111111,
                          "#46039f"
                        ],
                        [
                          0.2222222222222222,
                          "#7201a8"
                        ],
                        [
                          0.3333333333333333,
                          "#9c179e"
                        ],
                        [
                          0.4444444444444444,
                          "#bd3786"
                        ],
                        [
                          0.5555555555555556,
                          "#d8576b"
                        ],
                        [
                          0.6666666666666666,
                          "#ed7953"
                        ],
                        [
                          0.7777777777777778,
                          "#fb9f3a"
                        ],
                        [
                          0.8888888888888888,
                          "#fdca26"
                        ],
                        [
                          1,
                          "#f0f921"
                        ]
                      ]
                    },
                    "colorway": [
                      "#636efa",
                      "#EF553B",
                      "#00cc96",
                      "#ab63fa",
                      "#FFA15A",
                      "#19d3f3",
                      "#FF6692",
                      "#B6E880",
                      "#FF97FF",
                      "#FECB52"
                    ],
                    "font": {
                      "color": "#2a3f5f"
                    },
                    "geo": {
                      "bgcolor": "white",
                      "lakecolor": "white",
                      "landcolor": "#E5ECF6",
                      "showlakes": true,
                      "showland": true,
                      "subunitcolor": "white"
                    },
                    "hoverlabel": {
                      "align": "left"
                    },
                    "hovermode": "closest",
                    "mapbox": {
                      "style": "light"
                    },
                    "paper_bgcolor": "white",
                    "plot_bgcolor": "#E5ECF6",
                    "polar": {
                      "angularaxis": {
                        "gridcolor": "white",
                        "linecolor": "white",
                        "ticks": ""
                      },
                      "bgcolor": "#E5ECF6",
                      "radialaxis": {
                        "gridcolor": "white",
                        "linecolor": "white",
                        "ticks": ""
                      }
                    },
                    "scene": {
                      "xaxis": {
                        "backgroundcolor": "#E5ECF6",
                        "gridcolor": "white",
                        "gridwidth": 2,
                        "linecolor": "white",
                        "showbackground": true,
                        "ticks": "",
                        "zerolinecolor": "white"
                      },
                      "yaxis": {
                        "backgroundcolor": "#E5ECF6",
                        "gridcolor": "white",
                        "gridwidth": 2,
                        "linecolor": "white",
                        "showbackground": true,
                        "ticks": "",
                        "zerolinecolor": "white"
                      },
                      "zaxis": {
                        "backgroundcolor": "#E5ECF6",
                        "gridcolor": "white",
                        "gridwidth": 2,
                        "linecolor": "white",
                        "showbackground": true,
                        "ticks": "",
                        "zerolinecolor": "white"
                      }
                    },
                    "shapedefaults": {
                      "line": {
                        "color": "#2a3f5f"
                      }
                    },
                    "ternary": {
                      "aaxis": {
                        "gridcolor": "white",
                        "linecolor": "white",
                        "ticks": ""
                      },
                      "baxis": {
                        "gridcolor": "white",
                        "linecolor": "white",
                        "ticks": ""
                      },
                      "bgcolor": "#E5ECF6",
                      "caxis": {
                        "gridcolor": "white",
                        "linecolor": "white",
                        "ticks": ""
                      }
                    },
                    "title": {
                      "x": 0.05
                    },
                    "xaxis": {
                      "automargin": true,
                      "gridcolor": "white",
                      "linecolor": "white",
                      "ticks": "",
                      "title": {
                        "standoff": 15
                      },
                      "zerolinecolor": "white",
                      "zerolinewidth": 2
                    },
                    "yaxis": {
                      "automargin": true,
                      "gridcolor": "white",
                      "linecolor": "white",
                      "ticks": "",
                      "title": {
                        "standoff": 15
                      },
                      "zerolinecolor": "white",
                      "zerolinewidth": 2
                    }
                  }
                },
                "title": {
                  "text": "Total number of attacks (1970-2017)"
                }
              }
            }
          },
          "metadata": {},
          "output_type": "display_data"
        }
      ],
      "source": [
        "fig=px.choropleth(terror,locations='Country',locationmode='country names',\n",
        "                  color='Year',hover_name='Country',projection='orthographic',\n",
        "                  title='Total number of attacks (1970-2017)',labels={'Year':'Attacks'})\n",
        "fig.show()"
      ]
    },
    {
      "cell_type": "markdown",
      "metadata": {
        "id": "V_Q3S1vIUhxR"
      },
      "source": [
        "### **Chart- 10**\n",
        "## **Terrorism Activity Trend in India**"
      ]
    },
    {
      "cell_type": "code",
      "execution_count": null,
      "metadata": {
        "id": "dBdIAxSTUnVA"
      },
      "outputs": [],
      "source": [
        "# Filtering data with India only row values at country column\n",
        "Ind_data=df.loc[df.Country=='India']"
      ]
    },
    {
      "cell_type": "code",
      "execution_count": null,
      "metadata": {
        "colab": {
          "base_uri": "https://localhost:8080/",
          "height": 420
        },
        "id": "BKuJy7akU85q",
        "outputId": "8e7c0b7f-c6a4-4e34-f4e6-1b3481dac0c2"
      },
      "outputs": [
        {
          "data": {
            "image/png": "[encoded data removed]",
            "text/plain": [
              "<Figure size 1080x432 with 1 Axes>"
            ]
          },
          "metadata": {
            "needs_background": "light"
          },
          "output_type": "display_data"
        }
      ],
      "source": [
        "# Using matplotlib to plot a line chart to vitualize the data above\n",
        "\n",
        "plt.subplots(figsize=(15,6))\n",
        "sns.countplot('Year',data= Ind_data, palette='icefire', edgecolor = sns.dark_palette(\"seagreen\",7))\n",
        "plt.xticks(rotation = 90)\n",
        "plt.title('Number of terror incidents suffered by India (1970-2017)')\n",
        "plt.show()"
      ]
    },
    {
      "cell_type": "markdown",
      "metadata": {
        "id": "QikVgSGAVYpM"
      },
      "source": [
        "## **Number of Attacks & Causalities by City since 1970**"
      ]
    },
    {
      "cell_type": "code",
      "execution_count": null,
      "metadata": {
        "colab": {
          "base_uri": "https://localhost:8080/",
          "height": 363
        },
        "id": "y1Ey3qIiVb9i",
        "outputId": "4990fc32-c4c8-48a7-8c52-3201077b4dcf"
      },
      "outputs": [
        {
          "data": {
            "text/html": [
              "\n",
              "  <div id=\"df-b332986c-dd0e-4548-971e-d98448a9dad2\">\n",
              "    <div class=\"colab-df-container\">\n",
              "      <div>\n",
              "<style scoped>\n",
              "    .dataframe tbody tr th:only-of-type {\n",
              "        vertical-align: middle;\n",
              "    }\n",
              "\n",
              "    .dataframe tbody tr th {\n",
              "        vertical-align: top;\n",
              "    }\n",
              "\n",
              "    .dataframe thead th {\n",
              "        text-align: right;\n",
              "    }\n",
              "</style>\n",
              "<table border=\"1\" class=\"dataframe\">\n",
              "  <thead>\n",
              "    <tr style=\"text-align: right;\">\n",
              "      <th></th>\n",
              "      <th>city</th>\n",
              "      <th>No_of_Attacks</th>\n",
              "      <th>Total_Casualities</th>\n",
              "    </tr>\n",
              "  </thead>\n",
              "  <tbody>\n",
              "    <tr>\n",
              "      <th>0</th>\n",
              "      <td>Srinagar</td>\n",
              "      <td>658</td>\n",
              "      <td>3134.0</td>\n",
              "    </tr>\n",
              "    <tr>\n",
              "      <th>1</th>\n",
              "      <td>Unknown</td>\n",
              "      <td>624</td>\n",
              "      <td>2527.0</td>\n",
              "    </tr>\n",
              "    <tr>\n",
              "      <th>2</th>\n",
              "      <td>Imphal</td>\n",
              "      <td>426</td>\n",
              "      <td>603.0</td>\n",
              "    </tr>\n",
              "    <tr>\n",
              "      <th>3</th>\n",
              "      <td>New Delhi</td>\n",
              "      <td>157</td>\n",
              "      <td>2095.0</td>\n",
              "    </tr>\n",
              "    <tr>\n",
              "      <th>4</th>\n",
              "      <td>Amritsar</td>\n",
              "      <td>138</td>\n",
              "      <td>768.0</td>\n",
              "    </tr>\n",
              "    <tr>\n",
              "      <th>5</th>\n",
              "      <td>Sopore</td>\n",
              "      <td>102</td>\n",
              "      <td>389.0</td>\n",
              "    </tr>\n",
              "    <tr>\n",
              "      <th>6</th>\n",
              "      <td>Ludhiana</td>\n",
              "      <td>77</td>\n",
              "      <td>386.0</td>\n",
              "    </tr>\n",
              "    <tr>\n",
              "      <th>7</th>\n",
              "      <td>Guwahati</td>\n",
              "      <td>77</td>\n",
              "      <td>822.0</td>\n",
              "    </tr>\n",
              "    <tr>\n",
              "      <th>8</th>\n",
              "      <td>Anantnag</td>\n",
              "      <td>76</td>\n",
              "      <td>506.0</td>\n",
              "    </tr>\n",
              "    <tr>\n",
              "      <th>9</th>\n",
              "      <td>Jammu</td>\n",
              "      <td>57</td>\n",
              "      <td>1119.0</td>\n",
              "    </tr>\n",
              "  </tbody>\n",
              "</table>\n",
              "</div>\n",
              "      <button class=\"colab-df-convert\" onclick=\"convertToInteractive('df-b332986c-dd0e-4548-971e-d98448a9dad2')\"\n",
              "              title=\"Convert this dataframe to an interactive table.\"\n",
              "              style=\"display:none;\">\n",
              "        \n",
              "  <svg xmlns=\"http://www.w3.org/2000/svg\" height=\"24px\"viewBox=\"0 0 24 24\"\n",
              "       width=\"24px\">\n",
              "    <path d=\"M0 0h24v24H0V0z\" fill=\"none\"/>\n",
              "    <path d=\"M18.56 5.44l.94 2.06.94-2.06 2.06-.94-2.06-.94-.94-2.06-.94 2.06-2.06.94zm-11 1L8.5 8.5l.94-2.06 2.06-.94-2.06-.94L8.5 2.5l-.94 2.06-2.06.94zm10 10l.94 2.06.94-2.06 2.06-.94-2.06-.94-.94-2.06-.94 2.06-2.06.94z\"/><path d=\"M17.41 7.96l-1.37-1.37c-.4-.4-.92-.59-1.43-.59-.52 0-1.04.2-1.43.59L10.3 9.45l-7.72 7.72c-.78.78-.78 2.05 0 2.83L4 21.41c.39.39.9.59 1.41.59.51 0 1.02-.2 1.41-.59l7.78-7.78 2.81-2.81c.8-.78.8-2.07 0-2.86zM5.41 20L4 18.59l7.72-7.72 1.47 1.35L5.41 20z\"/>\n",
              "  </svg>\n",
              "      </button>\n",
              "      \n",
              "  <style>\n",
              "    .colab-df-container {\n",
              "      display:flex;\n",
              "      flex-wrap:wrap;\n",
              "      gap: 12px;\n",
              "    }\n",
              "\n",
              "    .colab-df-convert {\n",
              "      background-color: #E8F0FE;\n",
              "      border: none;\n",
              "      border-radius: 50%;\n",
              "      cursor: pointer;\n",
              "      display: none;\n",
              "      fill: #1967D2;\n",
              "      height: 32px;\n",
              "      padding: 0 0 0 0;\n",
              "      width: 32px;\n",
              "    }\n",
              "\n",
              "    .colab-df-convert:hover {\n",
              "      background-color: #E2EBFA;\n",
              "      box-shadow: 0px 1px 2px rgba(60, 64, 67, 0.3), 0px 1px 3px 1px rgba(60, 64, 67, 0.15);\n",
              "      fill: #174EA6;\n",
              "    }\n",
              "\n",
              "    [theme=dark] .colab-df-convert {\n",
              "      background-color: #3B4455;\n",
              "      fill: #D2E3FC;\n",
              "    }\n",
              "\n",
              "    [theme=dark] .colab-df-convert:hover {\n",
              "      background-color: #434B5C;\n",
              "      box-shadow: 0px 1px 3px 1px rgba(0, 0, 0, 0.15);\n",
              "      filter: drop-shadow(0px 1px 2px rgba(0, 0, 0, 0.3));\n",
              "      fill: #FFFFFF;\n",
              "    }\n",
              "  </style>\n",
              "\n",
              "      <script>\n",
              "        const buttonEl =\n",
              "          document.querySelector('#df-b332986c-dd0e-4548-971e-d98448a9dad2 button.colab-df-convert');\n",
              "        buttonEl.style.display =\n",
              "          google.colab.kernel.accessAllowed ? 'block' : 'none';\n",
              "\n",
              "        async function convertToInteractive(key) {\n",
              "          const element = document.querySelector('#df-b332986c-dd0e-4548-971e-d98448a9dad2');\n",
              "          const dataTable =\n",
              "            await google.colab.kernel.invokeFunction('convertToInteractive',\n",
              "                                                     [key], {});\n",
              "          if (!dataTable) return;\n",
              "\n",
              "          const docLinkHtml = 'Like what you see? Visit the ' +\n",
              "            '<a target=\"_blank\" href=https://colab.research.google.com/notebooks/data_table.ipynb>data table notebook</a>'\n",
              "            + ' to learn more about interactive tables.';\n",
              "          element.innerHTML = '';\n",
              "          dataTable['output_type'] = 'display_data';\n",
              "          await google.colab.output.renderOutput(dataTable, element);\n",
              "          const docLink = document.createElement('div');\n",
              "          docLink.innerHTML = docLinkHtml;\n",
              "          element.appendChild(docLink);\n",
              "        }\n",
              "      </script>\n",
              "    </div>\n",
              "  </div>\n",
              "  "
            ],
            "text/plain": [
              "        city  No_of_Attacks  Total_Casualities\n",
              "0   Srinagar            658             3134.0\n",
              "1    Unknown            624             2527.0\n",
              "2     Imphal            426              603.0\n",
              "3  New Delhi            157             2095.0\n",
              "4   Amritsar            138              768.0\n",
              "5     Sopore            102              389.0\n",
              "6   Ludhiana             77              386.0\n",
              "7   Guwahati             77              822.0\n",
              "8   Anantnag             76              506.0\n",
              "9      Jammu             57             1119.0"
            ]
          },
          "execution_count": 25,
          "metadata": {},
          "output_type": "execute_result"
        }
      ],
      "source": [
        "# Grouping the city column with total number of confirmed kills and wounded counts to get an idea of the situation \n",
        "attack_loc = Ind_data['city'].value_counts().reset_index().rename(columns={'index':'city','city':'No_of_Attacks'})\n",
        "death_count = Ind_data.groupby(['city'])['Total_Casualities'].sum().reset_index()\n",
        "\n",
        "death_count_per_loc = attack_loc.merge(death_count, how='inner', on='city')\n",
        "death_count_per_loc[:10]"
      ]
    },
    {
      "cell_type": "code",
      "execution_count": null,
      "metadata": {
        "colab": {
          "base_uri": "https://localhost:8080/"
        },
        "id": "RgwmAHMJV7n5",
        "outputId": "de6e6db3-1677-41de-a665-2e36e384cd06"
      },
      "outputs": [
        {
          "data": {
            "text/plain": [
              "Unknown                               306\n",
              "Muslim Separatists                     55\n",
              "Jammu and Kashmir Liberation Front     45\n",
              "Kashmiri extremists                    37\n",
              "Muslim Militants                       35\n",
              "Hizbul Mujahideen (HM)                 31\n",
              "Lashkar-e-Taiba (LeT)                  21\n",
              "Separatists                            21\n",
              "Jaish-e-Mohammad (JeM)                 12\n",
              "Al-Mansoorian                          12\n",
              "Name: Group, dtype: int64"
            ]
          },
          "execution_count": 29,
          "metadata": {},
          "output_type": "execute_result"
        }
      ],
      "source": [
        "# Exploring the most attacked City in India i.e Srinagar\n",
        "srinagar_data = Ind_data.loc[Ind_data.city == 'Srinagar']\n",
        "srinagar_terror_log = srinagar_data['Group'].value_counts()\n",
        "srinagar_terror_log.head(10)"
      ]
    },
    {
      "cell_type": "markdown",
      "metadata": {
        "id": "Ml-G0UDsWp4h"
      },
      "source": [
        "Since 1972, Srinagar which is in Jammu and Kashmir has been the center of the dispute and terror attacks in india. Srinagar has been under attacks record 658 times on which 3134 poeple have lost there lives. Almost half of those number of attacks has been done by Unknown groups. On the second place, Srinagar has been terrorised 55 times by 'Muslim Separatists' and 45 times by 'Jammu and Kashmir Liberation Front'.\n"
      ]
    },
    {
      "cell_type": "markdown",
      "metadata": {
        "id": "D_J9beNHXYnw"
      },
      "source": [
        "### **Chart- 11**\n",
        "## **Top 10 Terrorist Group activities and there most used Attack Type agaist India Since 1970**"
      ]
    },
    {
      "cell_type": "code",
      "execution_count": null,
      "metadata": {
        "colab": {
          "base_uri": "https://localhost:8080/",
          "height": 518
        },
        "id": "1rZYDU_RWW7s",
        "outputId": "5fb11341-a9fa-420a-cda1-ff4e214f48cf"
      },
      "outputs": [
        {
          "data": {
            "image/png": "[encoded data removed]",
            "text/plain": [
              "<Figure size 864x576 with 2 Axes>"
            ]
          },
          "metadata": {
            "needs_background": "light"
          },
          "output_type": "display_data"
        }
      ],
      "source": [
        "# Setting up the subplot\n",
        "fig,ax = plt.subplots(2, 1, figsize = (12,8))\n",
        "# Creating a filttered daata with respect to top 10 active Terror_Groups\n",
        "top_groups_ind = Ind_data[Ind_data['Group'].isin(Ind_data['Group'].value_counts()[1:10].index)]\n",
        "\n",
        "sns.countplot(y = 'Group', data = top_groups_ind, ax = ax[0])\n",
        "ax[0].set_title('Top 10 Terrorist Group activities in India Since 1970')\n",
        "\n",
        "# And Most used attack tactic used\n",
        "sns.countplot(y='AttackType', data = top_groups_ind, ax=ax[1])\n",
        "ax[1].set_title('Different types of Attack Tactic used by Terrorists againts India')\n",
        "\n",
        "plt.subplots_adjust(hspace=0.4, wspace=0.6)\n",
        "ax[0].tick_params(labelsize=15)\n",
        "ax[1].tick_params(labelsize=15)\n",
        "plt.show()"
      ]
    },
    {
      "cell_type": "markdown",
      "metadata": {
        "id": "iIjXN_B28F7B"
      },
      "source": [
        "## **Terrorist Attack on Five Main Continent on Map Visualisation**"
      ]
    },
    {
      "cell_type": "markdown",
      "metadata": {
        "id": "BigfTxpEDI18"
      },
      "source": [
        "### **Chart- 12**\n",
        "## **Terrorist Attack on Asia**"
      ]
    },
    {
      "cell_type": "code",
      "execution_count": 11,
      "metadata": {
        "colab": {
          "base_uri": "https://localhost:8080/",
          "height": 542
        },
        "id": "9HB_RkIA13bi",
        "outputId": "b4bd4134-b433-4a4c-d696-1951b9eb057b"
      },
      "outputs": [
        {
          "data": {
            "application/vnd.plotly.v1+json": {
              "config": {
                "plotlyServerURL": "https://plot.ly"
              },
              "data": [
                {
                  "coloraxis": "coloraxis",
                  "geo": "geo",
                  "hovertemplate": "<b>%{hovertext}</b><br><br>Country=%{location}<br>Number_of_Attacks=%{z}<extra></extra>",
                  "hovertext": [
                    "Iraq",
                    "Pakistan",
                    "Afghanistan",
                    "India",
                    "Colombia",
                    "Philippines",
                    "Peru",
                    "El Salvador",
                    "United Kingdom",
                    "Turkey",
                    "Somalia",
                    "Nigeria",
                    "Thailand",
                    "Yemen",
                    "Spain",
                    "Sri Lanka",
                    "United States",
                    "Algeria",
                    "France",
                    "Egypt",
                    "Lebanon",
                    "Chile",
                    "Libya",
                    "West Bank and Gaza Strip",
                    "Syria",
                    "Russia",
                    "Israel",
                    "Guatemala",
                    "South Africa",
                    "Nicaragua",
                    "Ukraine",
                    "Bangladesh",
                    "Italy",
                    "Greece",
                    "Nepal",
                    "Sudan",
                    "Argentina",
                    "Democratic Republic of the Congo",
                    "Indonesia",
                    "Germany",
                    "Iran",
                    "Kenya",
                    "Burundi",
                    "Mali",
                    "Myanmar",
                    "West Germany (FRG)",
                    "Mexico",
                    "Angola",
                    "Japan",
                    "Uganda",
                    "Saudi Arabia",
                    "Mozambique",
                    "Cameroon",
                    "Honduras",
                    "Bolivia",
                    "Ireland",
                    "Venezuela",
                    "Central African Republic",
                    "Brazil",
                    "Cambodia",
                    "China",
                    "South Sudan",
                    "Ecuador",
                    "Georgia",
                    "Haiti",
                    "Bahrain",
                    "Yugoslavia",
                    "Kosovo",
                    "Ethiopia",
                    "Tajikistan",
                    "Bosnia-Herzegovina",
                    "Rwanda",
                    "Niger",
                    "Belgium",
                    "Namibia",
                    "Portugal",
                    "Sweden",
                    "Cyprus",
                    "Netherlands",
                    "Panama",
                    "Senegal",
                    "Macedonia",
                    "Austria",
                    "Australia",
                    "Paraguay",
                    "Jordan",
                    "Switzerland",
                    "Tunisia",
                    "Zimbabwe",
                    "Sierra Leone",
                    "Malaysia",
                    "Canada",
                    "Chad",
                    "Dominican Republic",
                    "Papua New Guinea",
                    "Rhodesia",
                    "Uruguay",
                    "Albania",
                    "Soviet Union",
                    "Kuwait",
                    "Ivory Coast",
                    "Costa Rica",
                    "Suriname",
                    "Zambia",
                    "Tanzania",
                    "Croatia",
                    "Guadeloupe",
                    "Bulgaria",
                    "Burkina Faso",
                    "Zaire",
                    "Taiwan",
                    "Azerbaijan",
                    "Togo",
                    "Hungary",
                    "Denmark",
                    "Poland",
                    "South Korea",
                    "East Germany (GDR)",
                    "Morocco",
                    "Jamaica",
                    "Republic of the Congo",
                    "Kyrgyzstan",
                    "Liberia",
                    "Macau",
                    "Czech Republic",
                    "New Caledonia",
                    "Cuba",
                    "Lesotho",
                    "Kazakhstan",
                    "Madagascar",
                    "Laos",
                    "Guyana",
                    "Hong Kong",
                    "Guinea",
                    "Armenia",
                    "Malta",
                    "Maldives",
                    "United Arab Emirates",
                    "Trinidad and Tobago",
                    "Djibouti",
                    "Uzbekistan",
                    "Moldova",
                    "Finland",
                    "New Zealand",
                    "Ghana",
                    "Norway",
                    "Mauritania",
                    "Slovak Republic",
                    "Fiji",
                    "Latvia",
                    "Swaziland",
                    "Estonia",
                    "Luxembourg",
                    "Belarus",
                    "Vietnam",
                    "Martinique",
                    "Serbia",
                    "Serbia-Montenegro",
                    "East Timor",
                    "Botswana",
                    "Eritrea",
                    "Czechoslovakia",
                    "Guinea-Bissau",
                    "Gabon",
                    "Lithuania",
                    "Benin",
                    "Belize",
                    "Qatar",
                    "Singapore",
                    "French Guiana",
                    "Romania",
                    "Bhutan",
                    "North Yemen",
                    "Slovenia",
                    "Brunei",
                    "Grenada",
                    "Bahamas",
                    "Montenegro",
                    "Western Sahara",
                    "Comoros",
                    "Malawi",
                    "People's Republic of the Congo",
                    "Iceland",
                    "Solomon Islands",
                    "Gambia",
                    "Dominica",
                    "French Polynesia",
                    "Barbados",
                    "Vanuatu",
                    "Turkmenistan",
                    "Seychelles",
                    "Mauritius",
                    "St. Kitts and Nevis",
                    "Equatorial Guinea",
                    "South Yemen",
                    "Vatican City",
                    "Falkland Islands",
                    "St. Lucia",
                    "North Korea",
                    "New Hebrides",
                    "International",
                    "Wallis and Futuna",
                    "South Vietnam",
                    "Andorra",
                    "Antigua and Barbuda"
                  ],
                  "locationmode": "country names",
                  "locations": [
                    "Iraq",
                    "Pakistan",
                    "Afghanistan",
                    "India",
                    "Colombia",
                    "Philippines",
                    "Peru",
                    "El Salvador",
                    "United Kingdom",
                    "Turkey",
                    "Somalia",
                    "Nigeria",
                    "Thailand",
                    "Yemen",
                    "Spain",
                    "Sri Lanka",
                    "United States",
                    "Algeria",
                    "France",
                    "Egypt",
                    "Lebanon",
                    "Chile",
                    "Libya",
                    "West Bank and Gaza Strip",
                    "Syria",
                    "Russia",
                    "Israel",
                    "Guatemala",
                    "South Africa",
                    "Nicaragua",
                    "Ukraine",
                    "Bangladesh",
                    "Italy",
                    "Greece",
                    "Nepal",
                    "Sudan",
                    "Argentina",
                    "Democratic Republic of the Congo",
                    "Indonesia",
                    "Germany",
                    "Iran",
                    "Kenya",
                    "Burundi",
                    "Mali",
                    "Myanmar",
                    "West Germany (FRG)",
                    "Mexico",
                    "Angola",
                    "Japan",
                    "Uganda",
                    "Saudi Arabia",
                    "Mozambique",
                    "Cameroon",
                    "Honduras",
                    "Bolivia",
                    "Ireland",
                    "Venezuela",
                    "Central African Republic",
                    "Brazil",
                    "Cambodia",
                    "China",
                    "South Sudan",
                    "Ecuador",
                    "Georgia",
                    "Haiti",
                    "Bahrain",
                    "Yugoslavia",
                    "Kosovo",
                    "Ethiopia",
                    "Tajikistan",
                    "Bosnia-Herzegovina",
                    "Rwanda",
                    "Niger",
                    "Belgium",
                    "Namibia",
                    "Portugal",
                    "Sweden",
                    "Cyprus",
                    "Netherlands",
                    "Panama",
                    "Senegal",
                    "Macedonia",
                    "Austria",
                    "Australia",
                    "Paraguay",
                    "Jordan",
                    "Switzerland",
                    "Tunisia",
                    "Zimbabwe",
                    "Sierra Leone",
                    "Malaysia",
                    "Canada",
                    "Chad",
                    "Dominican Republic",
                    "Papua New Guinea",
                    "Rhodesia",
                    "Uruguay",
                    "Albania",
                    "Soviet Union",
                    "Kuwait",
                    "Ivory Coast",
                    "Costa Rica",
                    "Suriname",
                    "Zambia",
                    "Tanzania",
                    "Croatia",
                    "Guadeloupe",
                    "Bulgaria",
                    "Burkina Faso",
                    "Zaire",
                    "Taiwan",
                    "Azerbaijan",
                    "Togo",
                    "Hungary",
                    "Denmark",
                    "Poland",
                    "South Korea",
                    "East Germany (GDR)",
                    "Morocco",
                    "Jamaica",
                    "Republic of the Congo",
                    "Kyrgyzstan",
                    "Liberia",
                    "Macau",
                    "Czech Republic",
                    "New Caledonia",
                    "Cuba",
                    "Lesotho",
                    "Kazakhstan",
                    "Madagascar",
                    "Laos",
                    "Guyana",
                    "Hong Kong",
                    "Guinea",
                    "Armenia",
                    "Malta",
                    "Maldives",
                    "United Arab Emirates",
                    "Trinidad and Tobago",
                    "Djibouti",
                    "Uzbekistan",
                    "Moldova",
                    "Finland",
                    "New Zealand",
                    "Ghana",
                    "Norway",
                    "Mauritania",
                    "Slovak Republic",
                    "Fiji",
                    "Latvia",
                    "Swaziland",
                    "Estonia",
                    "Luxembourg",
                    "Belarus",
                    "Vietnam",
                    "Martinique",
                    "Serbia",
                    "Serbia-Montenegro",
                    "East Timor",
                    "Botswana",
                    "Eritrea",
                    "Czechoslovakia",
                    "Guinea-Bissau",
                    "Gabon",
                    "Lithuania",
                    "Benin",
                    "Belize",
                    "Qatar",
                    "Singapore",
                    "French Guiana",
                    "Romania",
                    "Bhutan",
                    "North Yemen",
                    "Slovenia",
                    "Brunei",
                    "Grenada",
                    "Bahamas",
                    "Montenegro",
                    "Western Sahara",
                    "Comoros",
                    "Malawi",
                    "People's Republic of the Congo",
                    "Iceland",
                    "Solomon Islands",
                    "Gambia",
                    "Dominica",
                    "French Polynesia",
                    "Barbados",
                    "Vanuatu",
                    "Turkmenistan",
                    "Seychelles",
                    "Mauritius",
                    "St. Kitts and Nevis",
                    "Equatorial Guinea",
                    "South Yemen",
                    "Vatican City",
                    "Falkland Islands",
                    "St. Lucia",
                    "North Korea",
                    "New Hebrides",
                    "International",
                    "Wallis and Futuna",
                    "South Vietnam",
                    "Andorra",
                    "Antigua and Barbuda"
                  ],
                  "name": "",
                  "type": "choropleth",
                  "z": [
                    24636,
                    14368,
                    12731,
                    11960,
                    8306,
                    6908,
                    6096,
                    5320,
                    5235,
                    4292,
                    4142,
                    3907,
                    3849,
                    3347,
                    3249,
                    3022,
                    2836,
                    2743,
                    2693,
                    2479,
                    2478,
                    2365,
                    2249,
                    2227,
                    2201,
                    2194,
                    2183,
                    2050,
                    2016,
                    1970,
                    1709,
                    1648,
                    1565,
                    1275,
                    1215,
                    967,
                    815,
                    775,
                    761,
                    735,
                    684,
                    683,
                    613,
                    566,
                    546,
                    541,
                    524,
                    499,
                    402,
                    394,
                    371,
                    363,
                    332,
                    323,
                    314,
                    307,
                    293,
                    283,
                    273,
                    259,
                    252,
                    225,
                    220,
                    217,
                    213,
                    207,
                    203,
                    196,
                    190,
                    188,
                    159,
                    159,
                    154,
                    154,
                    151,
                    140,
                    132,
                    132,
                    130,
                    127,
                    118,
                    118,
                    115,
                    114,
                    114,
                    113,
                    111,
                    109,
                    101,
                    101,
                    99,
                    96,
                    91,
                    90,
                    89,
                    83,
                    82,
                    80,
                    78,
                    76,
                    74,
                    67,
                    66,
                    62,
                    59,
                    57,
                    56,
                    52,
                    52,
                    50,
                    50,
                    49,
                    48,
                    46,
                    41,
                    39,
                    38,
                    38,
                    36,
                    36,
                    36,
                    35,
                    34,
                    33,
                    32,
                    31,
                    30,
                    29,
                    27,
                    27,
                    27,
                    26,
                    26,
                    25,
                    24,
                    23,
                    22,
                    22,
                    22,
                    22,
                    21,
                    21,
                    20,
                    20,
                    19,
                    19,
                    18,
                    18,
                    17,
                    17,
                    16,
                    16,
                    16,
                    13,
                    12,
                    12,
                    12,
                    11,
                    10,
                    10,
                    10,
                    10,
                    9,
                    8,
                    8,
                    8,
                    8,
                    7,
                    7,
                    7,
                    6,
                    6,
                    6,
                    6,
                    6,
                    5,
                    5,
                    5,
                    5,
                    5,
                    5,
                    4,
                    4,
                    4,
                    3,
                    3,
                    3,
                    3,
                    2,
                    2,
                    2,
                    2,
                    2,
                    2,
                    2,
                    1,
                    1,
                    1,
                    1,
                    1,
                    1,
                    1,
                    1,
                    1,
                    1
                  ]
                }
              ],
              "layout": {
                "coloraxis": {
                  "cmax": 1000,
                  "cmin": 1,
                  "colorbar": {
                    "title": {
                      "text": "Number_of_Attacks"
                    }
                  },
                  "colorscale": [
                    [
                      0,
                      "#00224e"
                    ],
                    [
                      0.1111111111111111,
                      "#123570"
                    ],
                    [
                      0.2222222222222222,
                      "#3b496c"
                    ],
                    [
                      0.3333333333333333,
                      "#575d6d"
                    ],
                    [
                      0.4444444444444444,
                      "#707173"
                    ],
                    [
                      0.5555555555555556,
                      "#8a8678"
                    ],
                    [
                      0.6666666666666666,
                      "#a59c74"
                    ],
                    [
                      0.7777777777777778,
                      "#c3b369"
                    ],
                    [
                      0.8888888888888888,
                      "#e1cc55"
                    ],
                    [
                      1,
                      "#fee838"
                    ]
                  ],
                  "showscale": true
                },
                "geo": {
                  "center": {},
                  "domain": {
                    "x": [
                      0,
                      1
                    ],
                    "y": [
                      0,
                      1
                    ]
                  },
                  "scope": "asia"
                },
                "legend": {
                  "tracegroupgap": 0
                },
                "template": {
                  "data": {
                    "bar": [
                      {
                        "error_x": {
                          "color": "#2a3f5f"
                        },
                        "error_y": {
                          "color": "#2a3f5f"
                        },
                        "marker": {
                          "line": {
                            "color": "#E5ECF6",
                            "width": 0.5
                          },
                          "pattern": {
                            "fillmode": "overlay",
                            "size": 10,
                            "solidity": 0.2
                          }
                        },
                        "type": "bar"
                      }
                    ],
                    "barpolar": [
                      {
                        "marker": {
                          "line": {
                            "color": "#E5ECF6",
                            "width": 0.5
                          },
                          "pattern": {
                            "fillmode": "overlay",
                            "size": 10,
                            "solidity": 0.2
                          }
                        },
                        "type": "barpolar"
                      }
                    ],
                    "carpet": [
                      {
                        "aaxis": {
                          "endlinecolor": "#2a3f5f",
                          "gridcolor": "white",
                          "linecolor": "white",
                          "minorgridcolor": "white",
                          "startlinecolor": "#2a3f5f"
                        },
                        "baxis": {
                          "endlinecolor": "#2a3f5f",
                          "gridcolor": "white",
                          "linecolor": "white",
                          "minorgridcolor": "white",
                          "startlinecolor": "#2a3f5f"
                        },
                        "type": "carpet"
                      }
                    ],
                    "choropleth": [
                      {
                        "colorbar": {
                          "outlinewidth": 0,
                          "ticks": ""
                        },
                        "type": "choropleth"
                      }
                    ],
                    "contour": [
                      {
                        "colorbar": {
                          "outlinewidth": 0,
                          "ticks": ""
                        },
                        "colorscale": [
                          [
                            0,
                            "#0d0887"
                          ],
                          [
                            0.1111111111111111,
                            "#46039f"
                          ],
                          [
                            0.2222222222222222,
                            "#7201a8"
                          ],
                          [
                            0.3333333333333333,
                            "#9c179e"
                          ],
                          [
                            0.4444444444444444,
                            "#bd3786"
                          ],
                          [
                            0.5555555555555556,
                            "#d8576b"
                          ],
                          [
                            0.6666666666666666,
                            "#ed7953"
                          ],
                          [
                            0.7777777777777778,
                            "#fb9f3a"
                          ],
                          [
                            0.8888888888888888,
                            "#fdca26"
                          ],
                          [
                            1,
                            "#f0f921"
                          ]
                        ],
                        "type": "contour"
                      }
                    ],
                    "contourcarpet": [
                      {
                        "colorbar": {
                          "outlinewidth": 0,
                          "ticks": ""
                        },
                        "type": "contourcarpet"
                      }
                    ],
                    "heatmap": [
                      {
                        "colorbar": {
                          "outlinewidth": 0,
                          "ticks": ""
                        },
                        "colorscale": [
                          [
                            0,
                            "#0d0887"
                          ],
                          [
                            0.1111111111111111,
                            "#46039f"
                          ],
                          [
                            0.2222222222222222,
                            "#7201a8"
                          ],
                          [
                            0.3333333333333333,
                            "#9c179e"
                          ],
                          [
                            0.4444444444444444,
                            "#bd3786"
                          ],
                          [
                            0.5555555555555556,
                            "#d8576b"
                          ],
                          [
                            0.6666666666666666,
                            "#ed7953"
                          ],
                          [
                            0.7777777777777778,
                            "#fb9f3a"
                          ],
                          [
                            0.8888888888888888,
                            "#fdca26"
                          ],
                          [
                            1,
                            "#f0f921"
                          ]
                        ],
                        "type": "heatmap"
                      }
                    ],
                    "heatmapgl": [
                      {
                        "colorbar": {
                          "outlinewidth": 0,
                          "ticks": ""
                        },
                        "colorscale": [
                          [
                            0,
                            "#0d0887"
                          ],
                          [
                            0.1111111111111111,
                            "#46039f"
                          ],
                          [
                            0.2222222222222222,
                            "#7201a8"
                          ],
                          [
                            0.3333333333333333,
                            "#9c179e"
                          ],
                          [
                            0.4444444444444444,
                            "#bd3786"
                          ],
                          [
                            0.5555555555555556,
                            "#d8576b"
                          ],
                          [
                            0.6666666666666666,
                            "#ed7953"
                          ],
                          [
                            0.7777777777777778,
                            "#fb9f3a"
                          ],
                          [
                            0.8888888888888888,
                            "#fdca26"
                          ],
                          [
                            1,
                            "#f0f921"
                          ]
                        ],
                        "type": "heatmapgl"
                      }
                    ],
                    "histogram": [
                      {
                        "marker": {
                          "pattern": {
                            "fillmode": "overlay",
                            "size": 10,
                            "solidity": 0.2
                          }
                        },
                        "type": "histogram"
                      }
                    ],
                    "histogram2d": [
                      {
                        "colorbar": {
                          "outlinewidth": 0,
                          "ticks": ""
                        },
                        "colorscale": [
                          [
                            0,
                            "#0d0887"
                          ],
                          [
                            0.1111111111111111,
                            "#46039f"
                          ],
                          [
                            0.2222222222222222,
                            "#7201a8"
                          ],
                          [
                            0.3333333333333333,
                            "#9c179e"
                          ],
                          [
                            0.4444444444444444,
                            "#bd3786"
                          ],
                          [
                            0.5555555555555556,
                            "#d8576b"
                          ],
                          [
                            0.6666666666666666,
                            "#ed7953"
                          ],
                          [
                            0.7777777777777778,
                            "#fb9f3a"
                          ],
                          [
                            0.8888888888888888,
                            "#fdca26"
                          ],
                          [
                            1,
                            "#f0f921"
                          ]
                        ],
                        "type": "histogram2d"
                      }
                    ],
                    "histogram2dcontour": [
                      {
                        "colorbar": {
                          "outlinewidth": 0,
                          "ticks": ""
                        },
                        "colorscale": [
                          [
                            0,
                            "#0d0887"
                          ],
                          [
                            0.1111111111111111,
                            "#46039f"
                          ],
                          [
                            0.2222222222222222,
                            "#7201a8"
                          ],
                          [
                            0.3333333333333333,
                            "#9c179e"
                          ],
                          [
                            0.4444444444444444,
                            "#bd3786"
                          ],
                          [
                            0.5555555555555556,
                            "#d8576b"
                          ],
                          [
                            0.6666666666666666,
                            "#ed7953"
                          ],
                          [
                            0.7777777777777778,
                            "#fb9f3a"
                          ],
                          [
                            0.8888888888888888,
                            "#fdca26"
                          ],
                          [
                            1,
                            "#f0f921"
                          ]
                        ],
                        "type": "histogram2dcontour"
                      }
                    ],
                    "mesh3d": [
                      {
                        "colorbar": {
                          "outlinewidth": 0,
                          "ticks": ""
                        },
                        "type": "mesh3d"
                      }
                    ],
                    "parcoords": [
                      {
                        "line": {
                          "colorbar": {
                            "outlinewidth": 0,
                            "ticks": ""
                          }
                        },
                        "type": "parcoords"
                      }
                    ],
                    "pie": [
                      {
                        "automargin": true,
                        "type": "pie"
                      }
                    ],
                    "scatter": [
                      {
                        "fillpattern": {
                          "fillmode": "overlay",
                          "size": 10,
                          "solidity": 0.2
                        },
                        "type": "scatter"
                      }
                    ],
                    "scatter3d": [
                      {
                        "line": {
                          "colorbar": {
                            "outlinewidth": 0,
                            "ticks": ""
                          }
                        },
                        "marker": {
                          "colorbar": {
                            "outlinewidth": 0,
                            "ticks": ""
                          }
                        },
                        "type": "scatter3d"
                      }
                    ],
                    "scattercarpet": [
                      {
                        "marker": {
                          "colorbar": {
                            "outlinewidth": 0,
                            "ticks": ""
                          }
                        },
                        "type": "scattercarpet"
                      }
                    ],
                    "scattergeo": [
                      {
                        "marker": {
                          "colorbar": {
                            "outlinewidth": 0,
                            "ticks": ""
                          }
                        },
                        "type": "scattergeo"
                      }
                    ],
                    "scattergl": [
                      {
                        "marker": {
                          "colorbar": {
                            "outlinewidth": 0,
                            "ticks": ""
                          }
                        },
                        "type": "scattergl"
                      }
                    ],
                    "scattermapbox": [
                      {
                        "marker": {
                          "colorbar": {
                            "outlinewidth": 0,
                            "ticks": ""
                          }
                        },
                        "type": "scattermapbox"
                      }
                    ],
                    "scatterpolar": [
                      {
                        "marker": {
                          "colorbar": {
                            "outlinewidth": 0,
                            "ticks": ""
                          }
                        },
                        "type": "scatterpolar"
                      }
                    ],
                    "scatterpolargl": [
                      {
                        "marker": {
                          "colorbar": {
                            "outlinewidth": 0,
                            "ticks": ""
                          }
                        },
                        "type": "scatterpolargl"
                      }
                    ],
                    "scatterternary": [
                      {
                        "marker": {
                          "colorbar": {
                            "outlinewidth": 0,
                            "ticks": ""
                          }
                        },
                        "type": "scatterternary"
                      }
                    ],
                    "surface": [
                      {
                        "colorbar": {
                          "outlinewidth": 0,
                          "ticks": ""
                        },
                        "colorscale": [
                          [
                            0,
                            "#0d0887"
                          ],
                          [
                            0.1111111111111111,
                            "#46039f"
                          ],
                          [
                            0.2222222222222222,
                            "#7201a8"
                          ],
                          [
                            0.3333333333333333,
                            "#9c179e"
                          ],
                          [
                            0.4444444444444444,
                            "#bd3786"
                          ],
                          [
                            0.5555555555555556,
                            "#d8576b"
                          ],
                          [
                            0.6666666666666666,
                            "#ed7953"
                          ],
                          [
                            0.7777777777777778,
                            "#fb9f3a"
                          ],
                          [
                            0.8888888888888888,
                            "#fdca26"
                          ],
                          [
                            1,
                            "#f0f921"
                          ]
                        ],
                        "type": "surface"
                      }
                    ],
                    "table": [
                      {
                        "cells": {
                          "fill": {
                            "color": "#EBF0F8"
                          },
                          "line": {
                            "color": "white"
                          }
                        },
                        "header": {
                          "fill": {
                            "color": "#C8D4E3"
                          },
                          "line": {
                            "color": "white"
                          }
                        },
                        "type": "table"
                      }
                    ]
                  },
                  "layout": {
                    "annotationdefaults": {
                      "arrowcolor": "#2a3f5f",
                      "arrowhead": 0,
                      "arrowwidth": 1
                    },
                    "autotypenumbers": "strict",
                    "coloraxis": {
                      "colorbar": {
                        "outlinewidth": 0,
                        "ticks": ""
                      }
                    },
                    "colorscale": {
                      "diverging": [
                        [
                          0,
                          "#8e0152"
                        ],
                        [
                          0.1,
                          "#c51b7d"
                        ],
                        [
                          0.2,
                          "#de77ae"
                        ],
                        [
                          0.3,
                          "#f1b6da"
                        ],
                        [
                          0.4,
                          "#fde0ef"
                        ],
                        [
                          0.5,
                          "#f7f7f7"
                        ],
                        [
                          0.6,
                          "#e6f5d0"
                        ],
                        [
                          0.7,
                          "#b8e186"
                        ],
                        [
                          0.8,
                          "#7fbc41"
                        ],
                        [
                          0.9,
                          "#4d9221"
                        ],
                        [
                          1,
                          "#276419"
                        ]
                      ],
                      "sequential": [
                        [
                          0,
                          "#0d0887"
                        ],
                        [
                          0.1111111111111111,
                          "#46039f"
                        ],
                        [
                          0.2222222222222222,
                          "#7201a8"
                        ],
                        [
                          0.3333333333333333,
                          "#9c179e"
                        ],
                        [
                          0.4444444444444444,
                          "#bd3786"
                        ],
                        [
                          0.5555555555555556,
                          "#d8576b"
                        ],
                        [
                          0.6666666666666666,
                          "#ed7953"
                        ],
                        [
                          0.7777777777777778,
                          "#fb9f3a"
                        ],
                        [
                          0.8888888888888888,
                          "#fdca26"
                        ],
                        [
                          1,
                          "#f0f921"
                        ]
                      ],
                      "sequentialminus": [
                        [
                          0,
                          "#0d0887"
                        ],
                        [
                          0.1111111111111111,
                          "#46039f"
                        ],
                        [
                          0.2222222222222222,
                          "#7201a8"
                        ],
                        [
                          0.3333333333333333,
                          "#9c179e"
                        ],
                        [
                          0.4444444444444444,
                          "#bd3786"
                        ],
                        [
                          0.5555555555555556,
                          "#d8576b"
                        ],
                        [
                          0.6666666666666666,
                          "#ed7953"
                        ],
                        [
                          0.7777777777777778,
                          "#fb9f3a"
                        ],
                        [
                          0.8888888888888888,
                          "#fdca26"
                        ],
                        [
                          1,
                          "#f0f921"
                        ]
                      ]
                    },
                    "colorway": [
                      "#636efa",
                      "#EF553B",
                      "#00cc96",
                      "#ab63fa",
                      "#FFA15A",
                      "#19d3f3",
                      "#FF6692",
                      "#B6E880",
                      "#FF97FF",
                      "#FECB52"
                    ],
                    "font": {
                      "color": "#2a3f5f"
                    },
                    "geo": {
                      "bgcolor": "white",
                      "lakecolor": "white",
                      "landcolor": "#E5ECF6",
                      "showlakes": true,
                      "showland": true,
                      "subunitcolor": "white"
                    },
                    "hoverlabel": {
                      "align": "left"
                    },
                    "hovermode": "closest",
                    "mapbox": {
                      "style": "light"
                    },
                    "paper_bgcolor": "white",
                    "plot_bgcolor": "#E5ECF6",
                    "polar": {
                      "angularaxis": {
                        "gridcolor": "white",
                        "linecolor": "white",
                        "ticks": ""
                      },
                      "bgcolor": "#E5ECF6",
                      "radialaxis": {
                        "gridcolor": "white",
                        "linecolor": "white",
                        "ticks": ""
                      }
                    },
                    "scene": {
                      "xaxis": {
                        "backgroundcolor": "#E5ECF6",
                        "gridcolor": "white",
                        "gridwidth": 2,
                        "linecolor": "white",
                        "showbackground": true,
                        "ticks": "",
                        "zerolinecolor": "white"
                      },
                      "yaxis": {
                        "backgroundcolor": "#E5ECF6",
                        "gridcolor": "white",
                        "gridwidth": 2,
                        "linecolor": "white",
                        "showbackground": true,
                        "ticks": "",
                        "zerolinecolor": "white"
                      },
                      "zaxis": {
                        "backgroundcolor": "#E5ECF6",
                        "gridcolor": "white",
                        "gridwidth": 2,
                        "linecolor": "white",
                        "showbackground": true,
                        "ticks": "",
                        "zerolinecolor": "white"
                      }
                    },
                    "shapedefaults": {
                      "line": {
                        "color": "#2a3f5f"
                      }
                    },
                    "ternary": {
                      "aaxis": {
                        "gridcolor": "white",
                        "linecolor": "white",
                        "ticks": ""
                      },
                      "baxis": {
                        "gridcolor": "white",
                        "linecolor": "white",
                        "ticks": ""
                      },
                      "bgcolor": "#E5ECF6",
                      "caxis": {
                        "gridcolor": "white",
                        "linecolor": "white",
                        "ticks": ""
                      }
                    },
                    "title": {
                      "x": 0.05
                    },
                    "xaxis": {
                      "automargin": true,
                      "gridcolor": "white",
                      "linecolor": "white",
                      "ticks": "",
                      "title": {
                        "standoff": 15
                      },
                      "zerolinecolor": "white",
                      "zerolinewidth": 2
                    },
                    "yaxis": {
                      "automargin": true,
                      "gridcolor": "white",
                      "linecolor": "white",
                      "ticks": "",
                      "title": {
                        "standoff": 15
                      },
                      "zerolinecolor": "white",
                      "zerolinewidth": 2
                    }
                  }
                },
                "title": {
                  "text": "Number of Terrorist Attacks in Asia"
                }
              }
            }
          },
          "metadata": {},
          "output_type": "display_data"
        }
      ],
      "source": [
        "#World Map\n",
        "geo=pd.DataFrame({'Country': df['Country'].value_counts().index,\n",
        "                   'Number_of_Attacks': df['Country'].value_counts().values})\n",
        "\n",
        "fig = px.choropleth(geo, locations=\"Country\", \n",
        "                    locationmode=\"country names\", color=\"Number_of_Attacks\", \n",
        "                    hover_name=\"Country\", range_color=[1, 1000], \n",
        "                    color_continuous_scale='cividis', scope ='asia',\n",
        "                    title='Number of Terrorist Attacks in Asia')\n",
        "fig.update(layout_coloraxis_showscale=True)\n",
        "fig.show()"
      ]
    },
    {
      "cell_type": "markdown",
      "metadata": {
        "id": "Ww4Lw_AQFF5B"
      },
      "source": [
        "The Most of Casuality happened in western part of Asia like Turkey,Syria,Iraq,Yemen in these Countries most Terrorist Attacked country is Iraq After that Southest part of Asia Terrorist Attack suffered Country like Afganistan , Pakistan , India ,Bngladesh,Thailand,Philippines in these Countries most Terrorist attacked country is Pakistan and the otherside Iran,Saudi-Arbia,Myanmar,Indonesia these countries got less number of Terrorist Attcked ."
      ]
    },
    {
      "cell_type": "markdown",
      "metadata": {
        "id": "WDIZQTw3DSUv"
      },
      "source": [
        "### **Chart- 13**\n",
        "## **Terrorist Attack on Africa**"
      ]
    },
    {
      "cell_type": "code",
      "execution_count": 12,
      "metadata": {
        "colab": {
          "base_uri": "https://localhost:8080/",
          "height": 542
        },
        "id": "fJLK7Fvg1OMf",
        "outputId": "ea11c053-80bc-4074-cf48-a6e1fd2c3328"
      },
      "outputs": [
        {
          "data": {
            "application/vnd.plotly.v1+json": {
              "config": {
                "plotlyServerURL": "https://plot.ly"
              },
              "data": [
                {
                  "coloraxis": "coloraxis",
                  "geo": "geo",
                  "hovertemplate": "<b>%{hovertext}</b><br><br>Country=%{location}<br>Number_of_Attacks=%{z}<extra></extra>",
                  "hovertext": [
                    "Iraq",
                    "Pakistan",
                    "Afghanistan",
                    "India",
                    "Colombia",
                    "Philippines",
                    "Peru",
                    "El Salvador",
                    "United Kingdom",
                    "Turkey",
                    "Somalia",
                    "Nigeria",
                    "Thailand",
                    "Yemen",
                    "Spain",
                    "Sri Lanka",
                    "United States",
                    "Algeria",
                    "France",
                    "Egypt",
                    "Lebanon",
                    "Chile",
                    "Libya",
                    "West Bank and Gaza Strip",
                    "Syria",
                    "Russia",
                    "Israel",
                    "Guatemala",
                    "South Africa",
                    "Nicaragua",
                    "Ukraine",
                    "Bangladesh",
                    "Italy",
                    "Greece",
                    "Nepal",
                    "Sudan",
                    "Argentina",
                    "Democratic Republic of the Congo",
                    "Indonesia",
                    "Germany",
                    "Iran",
                    "Kenya",
                    "Burundi",
                    "Mali",
                    "Myanmar",
                    "West Germany (FRG)",
                    "Mexico",
                    "Angola",
                    "Japan",
                    "Uganda",
                    "Saudi Arabia",
                    "Mozambique",
                    "Cameroon",
                    "Honduras",
                    "Bolivia",
                    "Ireland",
                    "Venezuela",
                    "Central African Republic",
                    "Brazil",
                    "Cambodia",
                    "China",
                    "South Sudan",
                    "Ecuador",
                    "Georgia",
                    "Haiti",
                    "Bahrain",
                    "Yugoslavia",
                    "Kosovo",
                    "Ethiopia",
                    "Tajikistan",
                    "Bosnia-Herzegovina",
                    "Rwanda",
                    "Niger",
                    "Belgium",
                    "Namibia",
                    "Portugal",
                    "Sweden",
                    "Cyprus",
                    "Netherlands",
                    "Panama",
                    "Senegal",
                    "Macedonia",
                    "Austria",
                    "Australia",
                    "Paraguay",
                    "Jordan",
                    "Switzerland",
                    "Tunisia",
                    "Zimbabwe",
                    "Sierra Leone",
                    "Malaysia",
                    "Canada",
                    "Chad",
                    "Dominican Republic",
                    "Papua New Guinea",
                    "Rhodesia",
                    "Uruguay",
                    "Albania",
                    "Soviet Union",
                    "Kuwait",
                    "Ivory Coast",
                    "Costa Rica",
                    "Suriname",
                    "Zambia",
                    "Tanzania",
                    "Croatia",
                    "Guadeloupe",
                    "Bulgaria",
                    "Burkina Faso",
                    "Zaire",
                    "Taiwan",
                    "Azerbaijan",
                    "Togo",
                    "Hungary",
                    "Denmark",
                    "Poland",
                    "South Korea",
                    "East Germany (GDR)",
                    "Morocco",
                    "Jamaica",
                    "Republic of the Congo",
                    "Kyrgyzstan",
                    "Liberia",
                    "Macau",
                    "Czech Republic",
                    "New Caledonia",
                    "Cuba",
                    "Lesotho",
                    "Kazakhstan",
                    "Madagascar",
                    "Laos",
                    "Guyana",
                    "Hong Kong",
                    "Guinea",
                    "Armenia",
                    "Malta",
                    "Maldives",
                    "United Arab Emirates",
                    "Trinidad and Tobago",
                    "Djibouti",
                    "Uzbekistan",
                    "Moldova",
                    "Finland",
                    "New Zealand",
                    "Ghana",
                    "Norway",
                    "Mauritania",
                    "Slovak Republic",
                    "Fiji",
                    "Latvia",
                    "Swaziland",
                    "Estonia",
                    "Luxembourg",
                    "Belarus",
                    "Vietnam",
                    "Martinique",
                    "Serbia",
                    "Serbia-Montenegro",
                    "East Timor",
                    "Botswana",
                    "Eritrea",
                    "Czechoslovakia",
                    "Guinea-Bissau",
                    "Gabon",
                    "Lithuania",
                    "Benin",
                    "Belize",
                    "Qatar",
                    "Singapore",
                    "French Guiana",
                    "Romania",
                    "Bhutan",
                    "North Yemen",
                    "Slovenia",
                    "Brunei",
                    "Grenada",
                    "Bahamas",
                    "Montenegro",
                    "Western Sahara",
                    "Comoros",
                    "Malawi",
                    "People's Republic of the Congo",
                    "Iceland",
                    "Solomon Islands",
                    "Gambia",
                    "Dominica",
                    "French Polynesia",
                    "Barbados",
                    "Vanuatu",
                    "Turkmenistan",
                    "Seychelles",
                    "Mauritius",
                    "St. Kitts and Nevis",
                    "Equatorial Guinea",
                    "South Yemen",
                    "Vatican City",
                    "Falkland Islands",
                    "St. Lucia",
                    "North Korea",
                    "New Hebrides",
                    "International",
                    "Wallis and Futuna",
                    "South Vietnam",
                    "Andorra",
                    "Antigua and Barbuda"
                  ],
                  "locationmode": "country names",
                  "locations": [
                    "Iraq",
                    "Pakistan",
                    "Afghanistan",
                    "India",
                    "Colombia",
                    "Philippines",
                    "Peru",
                    "El Salvador",
                    "United Kingdom",
                    "Turkey",
                    "Somalia",
                    "Nigeria",
                    "Thailand",
                    "Yemen",
                    "Spain",
                    "Sri Lanka",
                    "United States",
                    "Algeria",
                    "France",
                    "Egypt",
                    "Lebanon",
                    "Chile",
                    "Libya",
                    "West Bank and Gaza Strip",
                    "Syria",
                    "Russia",
                    "Israel",
                    "Guatemala",
                    "South Africa",
                    "Nicaragua",
                    "Ukraine",
                    "Bangladesh",
                    "Italy",
                    "Greece",
                    "Nepal",
                    "Sudan",
                    "Argentina",
                    "Democratic Republic of the Congo",
                    "Indonesia",
                    "Germany",
                    "Iran",
                    "Kenya",
                    "Burundi",
                    "Mali",
                    "Myanmar",
                    "West Germany (FRG)",
                    "Mexico",
                    "Angola",
                    "Japan",
                    "Uganda",
                    "Saudi Arabia",
                    "Mozambique",
                    "Cameroon",
                    "Honduras",
                    "Bolivia",
                    "Ireland",
                    "Venezuela",
                    "Central African Republic",
                    "Brazil",
                    "Cambodia",
                    "China",
                    "South Sudan",
                    "Ecuador",
                    "Georgia",
                    "Haiti",
                    "Bahrain",
                    "Yugoslavia",
                    "Kosovo",
                    "Ethiopia",
                    "Tajikistan",
                    "Bosnia-Herzegovina",
                    "Rwanda",
                    "Niger",
                    "Belgium",
                    "Namibia",
                    "Portugal",
                    "Sweden",
                    "Cyprus",
                    "Netherlands",
                    "Panama",
                    "Senegal",
                    "Macedonia",
                    "Austria",
                    "Australia",
                    "Paraguay",
                    "Jordan",
                    "Switzerland",
                    "Tunisia",
                    "Zimbabwe",
                    "Sierra Leone",
                    "Malaysia",
                    "Canada",
                    "Chad",
                    "Dominican Republic",
                    "Papua New Guinea",
                    "Rhodesia",
                    "Uruguay",
                    "Albania",
                    "Soviet Union",
                    "Kuwait",
                    "Ivory Coast",
                    "Costa Rica",
                    "Suriname",
                    "Zambia",
                    "Tanzania",
                    "Croatia",
                    "Guadeloupe",
                    "Bulgaria",
                    "Burkina Faso",
                    "Zaire",
                    "Taiwan",
                    "Azerbaijan",
                    "Togo",
                    "Hungary",
                    "Denmark",
                    "Poland",
                    "South Korea",
                    "East Germany (GDR)",
                    "Morocco",
                    "Jamaica",
                    "Republic of the Congo",
                    "Kyrgyzstan",
                    "Liberia",
                    "Macau",
                    "Czech Republic",
                    "New Caledonia",
                    "Cuba",
                    "Lesotho",
                    "Kazakhstan",
                    "Madagascar",
                    "Laos",
                    "Guyana",
                    "Hong Kong",
                    "Guinea",
                    "Armenia",
                    "Malta",
                    "Maldives",
                    "United Arab Emirates",
                    "Trinidad and Tobago",
                    "Djibouti",
                    "Uzbekistan",
                    "Moldova",
                    "Finland",
                    "New Zealand",
                    "Ghana",
                    "Norway",
                    "Mauritania",
                    "Slovak Republic",
                    "Fiji",
                    "Latvia",
                    "Swaziland",
                    "Estonia",
                    "Luxembourg",
                    "Belarus",
                    "Vietnam",
                    "Martinique",
                    "Serbia",
                    "Serbia-Montenegro",
                    "East Timor",
                    "Botswana",
                    "Eritrea",
                    "Czechoslovakia",
                    "Guinea-Bissau",
                    "Gabon",
                    "Lithuania",
                    "Benin",
                    "Belize",
                    "Qatar",
                    "Singapore",
                    "French Guiana",
                    "Romania",
                    "Bhutan",
                    "North Yemen",
                    "Slovenia",
                    "Brunei",
                    "Grenada",
                    "Bahamas",
                    "Montenegro",
                    "Western Sahara",
                    "Comoros",
                    "Malawi",
                    "People's Republic of the Congo",
                    "Iceland",
                    "Solomon Islands",
                    "Gambia",
                    "Dominica",
                    "French Polynesia",
                    "Barbados",
                    "Vanuatu",
                    "Turkmenistan",
                    "Seychelles",
                    "Mauritius",
                    "St. Kitts and Nevis",
                    "Equatorial Guinea",
                    "South Yemen",
                    "Vatican City",
                    "Falkland Islands",
                    "St. Lucia",
                    "North Korea",
                    "New Hebrides",
                    "International",
                    "Wallis and Futuna",
                    "South Vietnam",
                    "Andorra",
                    "Antigua and Barbuda"
                  ],
                  "name": "",
                  "type": "choropleth",
                  "z": [
                    24636,
                    14368,
                    12731,
                    11960,
                    8306,
                    6908,
                    6096,
                    5320,
                    5235,
                    4292,
                    4142,
                    3907,
                    3849,
                    3347,
                    3249,
                    3022,
                    2836,
                    2743,
                    2693,
                    2479,
                    2478,
                    2365,
                    2249,
                    2227,
                    2201,
                    2194,
                    2183,
                    2050,
                    2016,
                    1970,
                    1709,
                    1648,
                    1565,
                    1275,
                    1215,
                    967,
                    815,
                    775,
                    761,
                    735,
                    684,
                    683,
                    613,
                    566,
                    546,
                    541,
                    524,
                    499,
                    402,
                    394,
                    371,
                    363,
                    332,
                    323,
                    314,
                    307,
                    293,
                    283,
                    273,
                    259,
                    252,
                    225,
                    220,
                    217,
                    213,
                    207,
                    203,
                    196,
                    190,
                    188,
                    159,
                    159,
                    154,
                    154,
                    151,
                    140,
                    132,
                    132,
                    130,
                    127,
                    118,
                    118,
                    115,
                    114,
                    114,
                    113,
                    111,
                    109,
                    101,
                    101,
                    99,
                    96,
                    91,
                    90,
                    89,
                    83,
                    82,
                    80,
                    78,
                    76,
                    74,
                    67,
                    66,
                    62,
                    59,
                    57,
                    56,
                    52,
                    52,
                    50,
                    50,
                    49,
                    48,
                    46,
                    41,
                    39,
                    38,
                    38,
                    36,
                    36,
                    36,
                    35,
                    34,
                    33,
                    32,
                    31,
                    30,
                    29,
                    27,
                    27,
                    27,
                    26,
                    26,
                    25,
                    24,
                    23,
                    22,
                    22,
                    22,
                    22,
                    21,
                    21,
                    20,
                    20,
                    19,
                    19,
                    18,
                    18,
                    17,
                    17,
                    16,
                    16,
                    16,
                    13,
                    12,
                    12,
                    12,
                    11,
                    10,
                    10,
                    10,
                    10,
                    9,
                    8,
                    8,
                    8,
                    8,
                    7,
                    7,
                    7,
                    6,
                    6,
                    6,
                    6,
                    6,
                    5,
                    5,
                    5,
                    5,
                    5,
                    5,
                    4,
                    4,
                    4,
                    3,
                    3,
                    3,
                    3,
                    2,
                    2,
                    2,
                    2,
                    2,
                    2,
                    2,
                    1,
                    1,
                    1,
                    1,
                    1,
                    1,
                    1,
                    1,
                    1,
                    1
                  ]
                }
              ],
              "layout": {
                "coloraxis": {
                  "cmax": 1000,
                  "cmin": 1,
                  "colorbar": {
                    "title": {
                      "text": "Number_of_Attacks"
                    }
                  },
                  "colorscale": [
                    [
                      0,
                      "#00224e"
                    ],
                    [
                      0.1111111111111111,
                      "#123570"
                    ],
                    [
                      0.2222222222222222,
                      "#3b496c"
                    ],
                    [
                      0.3333333333333333,
                      "#575d6d"
                    ],
                    [
                      0.4444444444444444,
                      "#707173"
                    ],
                    [
                      0.5555555555555556,
                      "#8a8678"
                    ],
                    [
                      0.6666666666666666,
                      "#a59c74"
                    ],
                    [
                      0.7777777777777778,
                      "#c3b369"
                    ],
                    [
                      0.8888888888888888,
                      "#e1cc55"
                    ],
                    [
                      1,
                      "#fee838"
                    ]
                  ],
                  "showscale": true
                },
                "geo": {
                  "center": {},
                  "domain": {
                    "x": [
                      0,
                      1
                    ],
                    "y": [
                      0,
                      1
                    ]
                  },
                  "scope": "africa"
                },
                "legend": {
                  "tracegroupgap": 0
                },
                "template": {
                  "data": {
                    "bar": [
                      {
                        "error_x": {
                          "color": "#2a3f5f"
                        },
                        "error_y": {
                          "color": "#2a3f5f"
                        },
                        "marker": {
                          "line": {
                            "color": "#E5ECF6",
                            "width": 0.5
                          },
                          "pattern": {
                            "fillmode": "overlay",
                            "size": 10,
                            "solidity": 0.2
                          }
                        },
                        "type": "bar"
                      }
                    ],
                    "barpolar": [
                      {
                        "marker": {
                          "line": {
                            "color": "#E5ECF6",
                            "width": 0.5
                          },
                          "pattern": {
                            "fillmode": "overlay",
                            "size": 10,
                            "solidity": 0.2
                          }
                        },
                        "type": "barpolar"
                      }
                    ],
                    "carpet": [
                      {
                        "aaxis": {
                          "endlinecolor": "#2a3f5f",
                          "gridcolor": "white",
                          "linecolor": "white",
                          "minorgridcolor": "white",
                          "startlinecolor": "#2a3f5f"
                        },
                        "baxis": {
                          "endlinecolor": "#2a3f5f",
                          "gridcolor": "white",
                          "linecolor": "white",
                          "minorgridcolor": "white",
                          "startlinecolor": "#2a3f5f"
                        },
                        "type": "carpet"
                      }
                    ],
                    "choropleth": [
                      {
                        "colorbar": {
                          "outlinewidth": 0,
                          "ticks": ""
                        },
                        "type": "choropleth"
                      }
                    ],
                    "contour": [
                      {
                        "colorbar": {
                          "outlinewidth": 0,
                          "ticks": ""
                        },
                        "colorscale": [
                          [
                            0,
                            "#0d0887"
                          ],
                          [
                            0.1111111111111111,
                            "#46039f"
                          ],
                          [
                            0.2222222222222222,
                            "#7201a8"
                          ],
                          [
                            0.3333333333333333,
                            "#9c179e"
                          ],
                          [
                            0.4444444444444444,
                            "#bd3786"
                          ],
                          [
                            0.5555555555555556,
                            "#d8576b"
                          ],
                          [
                            0.6666666666666666,
                            "#ed7953"
                          ],
                          [
                            0.7777777777777778,
                            "#fb9f3a"
                          ],
                          [
                            0.8888888888888888,
                            "#fdca26"
                          ],
                          [
                            1,
                            "#f0f921"
                          ]
                        ],
                        "type": "contour"
                      }
                    ],
                    "contourcarpet": [
                      {
                        "colorbar": {
                          "outlinewidth": 0,
                          "ticks": ""
                        },
                        "type": "contourcarpet"
                      }
                    ],
                    "heatmap": [
                      {
                        "colorbar": {
                          "outlinewidth": 0,
                          "ticks": ""
                        },
                        "colorscale": [
                          [
                            0,
                            "#0d0887"
                          ],
                          [
                            0.1111111111111111,
                            "#46039f"
                          ],
                          [
                            0.2222222222222222,
                            "#7201a8"
                          ],
                          [
                            0.3333333333333333,
                            "#9c179e"
                          ],
                          [
                            0.4444444444444444,
                            "#bd3786"
                          ],
                          [
                            0.5555555555555556,
                            "#d8576b"
                          ],
                          [
                            0.6666666666666666,
                            "#ed7953"
                          ],
                          [
                            0.7777777777777778,
                            "#fb9f3a"
                          ],
                          [
                            0.8888888888888888,
                            "#fdca26"
                          ],
                          [
                            1,
                            "#f0f921"
                          ]
                        ],
                        "type": "heatmap"
                      }
                    ],
                    "heatmapgl": [
                      {
                        "colorbar": {
                          "outlinewidth": 0,
                          "ticks": ""
                        },
                        "colorscale": [
                          [
                            0,
                            "#0d0887"
                          ],
                          [
                            0.1111111111111111,
                            "#46039f"
                          ],
                          [
                            0.2222222222222222,
                            "#7201a8"
                          ],
                          [
                            0.3333333333333333,
                            "#9c179e"
                          ],
                          [
                            0.4444444444444444,
                            "#bd3786"
                          ],
                          [
                            0.5555555555555556,
                            "#d8576b"
                          ],
                          [
                            0.6666666666666666,
                            "#ed7953"
                          ],
                          [
                            0.7777777777777778,
                            "#fb9f3a"
                          ],
                          [
                            0.8888888888888888,
                            "#fdca26"
                          ],
                          [
                            1,
                            "#f0f921"
                          ]
                        ],
                        "type": "heatmapgl"
                      }
                    ],
                    "histogram": [
                      {
                        "marker": {
                          "pattern": {
                            "fillmode": "overlay",
                            "size": 10,
                            "solidity": 0.2
                          }
                        },
                        "type": "histogram"
                      }
                    ],
                    "histogram2d": [
                      {
                        "colorbar": {
                          "outlinewidth": 0,
                          "ticks": ""
                        },
                        "colorscale": [
                          [
                            0,
                            "#0d0887"
                          ],
                          [
                            0.1111111111111111,
                            "#46039f"
                          ],
                          [
                            0.2222222222222222,
                            "#7201a8"
                          ],
                          [
                            0.3333333333333333,
                            "#9c179e"
                          ],
                          [
                            0.4444444444444444,
                            "#bd3786"
                          ],
                          [
                            0.5555555555555556,
                            "#d8576b"
                          ],
                          [
                            0.6666666666666666,
                            "#ed7953"
                          ],
                          [
                            0.7777777777777778,
                            "#fb9f3a"
                          ],
                          [
                            0.8888888888888888,
                            "#fdca26"
                          ],
                          [
                            1,
                            "#f0f921"
                          ]
                        ],
                        "type": "histogram2d"
                      }
                    ],
                    "histogram2dcontour": [
                      {
                        "colorbar": {
                          "outlinewidth": 0,
                          "ticks": ""
                        },
                        "colorscale": [
                          [
                            0,
                            "#0d0887"
                          ],
                          [
                            0.1111111111111111,
                            "#46039f"
                          ],
                          [
                            0.2222222222222222,
                            "#7201a8"
                          ],
                          [
                            0.3333333333333333,
                            "#9c179e"
                          ],
                          [
                            0.4444444444444444,
                            "#bd3786"
                          ],
                          [
                            0.5555555555555556,
                            "#d8576b"
                          ],
                          [
                            0.6666666666666666,
                            "#ed7953"
                          ],
                          [
                            0.7777777777777778,
                            "#fb9f3a"
                          ],
                          [
                            0.8888888888888888,
                            "#fdca26"
                          ],
                          [
                            1,
                            "#f0f921"
                          ]
                        ],
                        "type": "histogram2dcontour"
                      }
                    ],
                    "mesh3d": [
                      {
                        "colorbar": {
                          "outlinewidth": 0,
                          "ticks": ""
                        },
                        "type": "mesh3d"
                      }
                    ],
                    "parcoords": [
                      {
                        "line": {
                          "colorbar": {
                            "outlinewidth": 0,
                            "ticks": ""
                          }
                        },
                        "type": "parcoords"
                      }
                    ],
                    "pie": [
                      {
                        "automargin": true,
                        "type": "pie"
                      }
                    ],
                    "scatter": [
                      {
                        "fillpattern": {
                          "fillmode": "overlay",
                          "size": 10,
                          "solidity": 0.2
                        },
                        "type": "scatter"
                      }
                    ],
                    "scatter3d": [
                      {
                        "line": {
                          "colorbar": {
                            "outlinewidth": 0,
                            "ticks": ""
                          }
                        },
                        "marker": {
                          "colorbar": {
                            "outlinewidth": 0,
                            "ticks": ""
                          }
                        },
                        "type": "scatter3d"
                      }
                    ],
                    "scattercarpet": [
                      {
                        "marker": {
                          "colorbar": {
                            "outlinewidth": 0,
                            "ticks": ""
                          }
                        },
                        "type": "scattercarpet"
                      }
                    ],
                    "scattergeo": [
                      {
                        "marker": {
                          "colorbar": {
                            "outlinewidth": 0,
                            "ticks": ""
                          }
                        },
                        "type": "scattergeo"
                      }
                    ],
                    "scattergl": [
                      {
                        "marker": {
                          "colorbar": {
                            "outlinewidth": 0,
                            "ticks": ""
                          }
                        },
                        "type": "scattergl"
                      }
                    ],
                    "scattermapbox": [
                      {
                        "marker": {
                          "colorbar": {
                            "outlinewidth": 0,
                            "ticks": ""
                          }
                        },
                        "type": "scattermapbox"
                      }
                    ],
                    "scatterpolar": [
                      {
                        "marker": {
                          "colorbar": {
                            "outlinewidth": 0,
                            "ticks": ""
                          }
                        },
                        "type": "scatterpolar"
                      }
                    ],
                    "scatterpolargl": [
                      {
                        "marker": {
                          "colorbar": {
                            "outlinewidth": 0,
                            "ticks": ""
                          }
                        },
                        "type": "scatterpolargl"
                      }
                    ],
                    "scatterternary": [
                      {
                        "marker": {
                          "colorbar": {
                            "outlinewidth": 0,
                            "ticks": ""
                          }
                        },
                        "type": "scatterternary"
                      }
                    ],
                    "surface": [
                      {
                        "colorbar": {
                          "outlinewidth": 0,
                          "ticks": ""
                        },
                        "colorscale": [
                          [
                            0,
                            "#0d0887"
                          ],
                          [
                            0.1111111111111111,
                            "#46039f"
                          ],
                          [
                            0.2222222222222222,
                            "#7201a8"
                          ],
                          [
                            0.3333333333333333,
                            "#9c179e"
                          ],
                          [
                            0.4444444444444444,
                            "#bd3786"
                          ],
                          [
                            0.5555555555555556,
                            "#d8576b"
                          ],
                          [
                            0.6666666666666666,
                            "#ed7953"
                          ],
                          [
                            0.7777777777777778,
                            "#fb9f3a"
                          ],
                          [
                            0.8888888888888888,
                            "#fdca26"
                          ],
                          [
                            1,
                            "#f0f921"
                          ]
                        ],
                        "type": "surface"
                      }
                    ],
                    "table": [
                      {
                        "cells": {
                          "fill": {
                            "color": "#EBF0F8"
                          },
                          "line": {
                            "color": "white"
                          }
                        },
                        "header": {
                          "fill": {
                            "color": "#C8D4E3"
                          },
                          "line": {
                            "color": "white"
                          }
                        },
                        "type": "table"
                      }
                    ]
                  },
                  "layout": {
                    "annotationdefaults": {
                      "arrowcolor": "#2a3f5f",
                      "arrowhead": 0,
                      "arrowwidth": 1
                    },
                    "autotypenumbers": "strict",
                    "coloraxis": {
                      "colorbar": {
                        "outlinewidth": 0,
                        "ticks": ""
                      }
                    },
                    "colorscale": {
                      "diverging": [
                        [
                          0,
                          "#8e0152"
                        ],
                        [
                          0.1,
                          "#c51b7d"
                        ],
                        [
                          0.2,
                          "#de77ae"
                        ],
                        [
                          0.3,
                          "#f1b6da"
                        ],
                        [
                          0.4,
                          "#fde0ef"
                        ],
                        [
                          0.5,
                          "#f7f7f7"
                        ],
                        [
                          0.6,
                          "#e6f5d0"
                        ],
                        [
                          0.7,
                          "#b8e186"
                        ],
                        [
                          0.8,
                          "#7fbc41"
                        ],
                        [
                          0.9,
                          "#4d9221"
                        ],
                        [
                          1,
                          "#276419"
                        ]
                      ],
                      "sequential": [
                        [
                          0,
                          "#0d0887"
                        ],
                        [
                          0.1111111111111111,
                          "#46039f"
                        ],
                        [
                          0.2222222222222222,
                          "#7201a8"
                        ],
                        [
                          0.3333333333333333,
                          "#9c179e"
                        ],
                        [
                          0.4444444444444444,
                          "#bd3786"
                        ],
                        [
                          0.5555555555555556,
                          "#d8576b"
                        ],
                        [
                          0.6666666666666666,
                          "#ed7953"
                        ],
                        [
                          0.7777777777777778,
                          "#fb9f3a"
                        ],
                        [
                          0.8888888888888888,
                          "#fdca26"
                        ],
                        [
                          1,
                          "#f0f921"
                        ]
                      ],
                      "sequentialminus": [
                        [
                          0,
                          "#0d0887"
                        ],
                        [
                          0.1111111111111111,
                          "#46039f"
                        ],
                        [
                          0.2222222222222222,
                          "#7201a8"
                        ],
                        [
                          0.3333333333333333,
                          "#9c179e"
                        ],
                        [
                          0.4444444444444444,
                          "#bd3786"
                        ],
                        [
                          0.5555555555555556,
                          "#d8576b"
                        ],
                        [
                          0.6666666666666666,
                          "#ed7953"
                        ],
                        [
                          0.7777777777777778,
                          "#fb9f3a"
                        ],
                        [
                          0.8888888888888888,
                          "#fdca26"
                        ],
                        [
                          1,
                          "#f0f921"
                        ]
                      ]
                    },
                    "colorway": [
                      "#636efa",
                      "#EF553B",
                      "#00cc96",
                      "#ab63fa",
                      "#FFA15A",
                      "#19d3f3",
                      "#FF6692",
                      "#B6E880",
                      "#FF97FF",
                      "#FECB52"
                    ],
                    "font": {
                      "color": "#2a3f5f"
                    },
                    "geo": {
                      "bgcolor": "white",
                      "lakecolor": "white",
                      "landcolor": "#E5ECF6",
                      "showlakes": true,
                      "showland": true,
                      "subunitcolor": "white"
                    },
                    "hoverlabel": {
                      "align": "left"
                    },
                    "hovermode": "closest",
                    "mapbox": {
                      "style": "light"
                    },
                    "paper_bgcolor": "white",
                    "plot_bgcolor": "#E5ECF6",
                    "polar": {
                      "angularaxis": {
                        "gridcolor": "white",
                        "linecolor": "white",
                        "ticks": ""
                      },
                      "bgcolor": "#E5ECF6",
                      "radialaxis": {
                        "gridcolor": "white",
                        "linecolor": "white",
                        "ticks": ""
                      }
                    },
                    "scene": {
                      "xaxis": {
                        "backgroundcolor": "#E5ECF6",
                        "gridcolor": "white",
                        "gridwidth": 2,
                        "linecolor": "white",
                        "showbackground": true,
                        "ticks": "",
                        "zerolinecolor": "white"
                      },
                      "yaxis": {
                        "backgroundcolor": "#E5ECF6",
                        "gridcolor": "white",
                        "gridwidth": 2,
                        "linecolor": "white",
                        "showbackground": true,
                        "ticks": "",
                        "zerolinecolor": "white"
                      },
                      "zaxis": {
                        "backgroundcolor": "#E5ECF6",
                        "gridcolor": "white",
                        "gridwidth": 2,
                        "linecolor": "white",
                        "showbackground": true,
                        "ticks": "",
                        "zerolinecolor": "white"
                      }
                    },
                    "shapedefaults": {
                      "line": {
                        "color": "#2a3f5f"
                      }
                    },
                    "ternary": {
                      "aaxis": {
                        "gridcolor": "white",
                        "linecolor": "white",
                        "ticks": ""
                      },
                      "baxis": {
                        "gridcolor": "white",
                        "linecolor": "white",
                        "ticks": ""
                      },
                      "bgcolor": "#E5ECF6",
                      "caxis": {
                        "gridcolor": "white",
                        "linecolor": "white",
                        "ticks": ""
                      }
                    },
                    "title": {
                      "x": 0.05
                    },
                    "xaxis": {
                      "automargin": true,
                      "gridcolor": "white",
                      "linecolor": "white",
                      "ticks": "",
                      "title": {
                        "standoff": 15
                      },
                      "zerolinecolor": "white",
                      "zerolinewidth": 2
                    },
                    "yaxis": {
                      "automargin": true,
                      "gridcolor": "white",
                      "linecolor": "white",
                      "ticks": "",
                      "title": {
                        "standoff": 15
                      },
                      "zerolinecolor": "white",
                      "zerolinewidth": 2
                    }
                  }
                },
                "title": {
                  "text": "Number of Terrorist Attacks in Africa"
                }
              }
            }
          },
          "metadata": {},
          "output_type": "display_data"
        }
      ],
      "source": [
        "geo=pd.DataFrame({'Country': df['Country'].value_counts().index,\n",
        "                   'Number_of_Attacks': df['Country'].value_counts().values})\n",
        "\n",
        "fig = px.choropleth(geo, locations=\"Country\", \n",
        "                    locationmode=\"country names\", color=\"Number_of_Attacks\", \n",
        "                    hover_name=\"Country\", range_color=[1, 1000], \n",
        "                    color_continuous_scale='cividis', scope ='africa',\n",
        "                    title='Number of Terrorist Attacks in Africa')\n",
        "fig.update(layout_coloraxis_showscale=True)\n",
        "fig.show()"
      ]
    },
    {
      "cell_type": "markdown",
      "metadata": {
        "id": "A6K3FDAPLseD"
      },
      "source": [
        "Northen boarder countries like Algeria, Libya ,Egypt,Sudan of Africa got more casuality. In the Eastern Countries Somalia is most Terrorist attacked countries in Africa and the western country Nigeria and Southern Country South Africa Also Heavily attacked by terrorist."
      ]
    },
    {
      "cell_type": "markdown",
      "metadata": {
        "id": "7-PW7AENDq8H"
      },
      "source": [
        "### **Chart- 14**\n",
        "## **Terrorist Attacks in Europe**"
      ]
    },
    {
      "cell_type": "code",
      "execution_count": 13,
      "metadata": {
        "colab": {
          "base_uri": "https://localhost:8080/",
          "height": 542
        },
        "id": "70puEk7U1eL9",
        "outputId": "33b09ddb-8473-4cc6-ee47-1c752247aece"
      },
      "outputs": [
        {
          "data": {
            "application/vnd.plotly.v1+json": {
              "config": {
                "plotlyServerURL": "https://plot.ly"
              },
              "data": [
                {
                  "coloraxis": "coloraxis",
                  "geo": "geo",
                  "hovertemplate": "<b>%{hovertext}</b><br><br>Country=%{location}<br>Number_of_Attacks=%{z}<extra></extra>",
                  "hovertext": [
                    "Iraq",
                    "Pakistan",
                    "Afghanistan",
                    "India",
                    "Colombia",
                    "Philippines",
                    "Peru",
                    "El Salvador",
                    "United Kingdom",
                    "Turkey",
                    "Somalia",
                    "Nigeria",
                    "Thailand",
                    "Yemen",
                    "Spain",
                    "Sri Lanka",
                    "United States",
                    "Algeria",
                    "France",
                    "Egypt",
                    "Lebanon",
                    "Chile",
                    "Libya",
                    "West Bank and Gaza Strip",
                    "Syria",
                    "Russia",
                    "Israel",
                    "Guatemala",
                    "South Africa",
                    "Nicaragua",
                    "Ukraine",
                    "Bangladesh",
                    "Italy",
                    "Greece",
                    "Nepal",
                    "Sudan",
                    "Argentina",
                    "Democratic Republic of the Congo",
                    "Indonesia",
                    "Germany",
                    "Iran",
                    "Kenya",
                    "Burundi",
                    "Mali",
                    "Myanmar",
                    "West Germany (FRG)",
                    "Mexico",
                    "Angola",
                    "Japan",
                    "Uganda",
                    "Saudi Arabia",
                    "Mozambique",
                    "Cameroon",
                    "Honduras",
                    "Bolivia",
                    "Ireland",
                    "Venezuela",
                    "Central African Republic",
                    "Brazil",
                    "Cambodia",
                    "China",
                    "South Sudan",
                    "Ecuador",
                    "Georgia",
                    "Haiti",
                    "Bahrain",
                    "Yugoslavia",
                    "Kosovo",
                    "Ethiopia",
                    "Tajikistan",
                    "Bosnia-Herzegovina",
                    "Rwanda",
                    "Niger",
                    "Belgium",
                    "Namibia",
                    "Portugal",
                    "Sweden",
                    "Cyprus",
                    "Netherlands",
                    "Panama",
                    "Senegal",
                    "Macedonia",
                    "Austria",
                    "Australia",
                    "Paraguay",
                    "Jordan",
                    "Switzerland",
                    "Tunisia",
                    "Zimbabwe",
                    "Sierra Leone",
                    "Malaysia",
                    "Canada",
                    "Chad",
                    "Dominican Republic",
                    "Papua New Guinea",
                    "Rhodesia",
                    "Uruguay",
                    "Albania",
                    "Soviet Union",
                    "Kuwait",
                    "Ivory Coast",
                    "Costa Rica",
                    "Suriname",
                    "Zambia",
                    "Tanzania",
                    "Croatia",
                    "Guadeloupe",
                    "Bulgaria",
                    "Burkina Faso",
                    "Zaire",
                    "Taiwan",
                    "Azerbaijan",
                    "Togo",
                    "Hungary",
                    "Denmark",
                    "Poland",
                    "South Korea",
                    "East Germany (GDR)",
                    "Morocco",
                    "Jamaica",
                    "Republic of the Congo",
                    "Kyrgyzstan",
                    "Liberia",
                    "Macau",
                    "Czech Republic",
                    "New Caledonia",
                    "Cuba",
                    "Lesotho",
                    "Kazakhstan",
                    "Madagascar",
                    "Laos",
                    "Guyana",
                    "Hong Kong",
                    "Guinea",
                    "Armenia",
                    "Malta",
                    "Maldives",
                    "United Arab Emirates",
                    "Trinidad and Tobago",
                    "Djibouti",
                    "Uzbekistan",
                    "Moldova",
                    "Finland",
                    "New Zealand",
                    "Ghana",
                    "Norway",
                    "Mauritania",
                    "Slovak Republic",
                    "Fiji",
                    "Latvia",
                    "Swaziland",
                    "Estonia",
                    "Luxembourg",
                    "Belarus",
                    "Vietnam",
                    "Martinique",
                    "Serbia",
                    "Serbia-Montenegro",
                    "East Timor",
                    "Botswana",
                    "Eritrea",
                    "Czechoslovakia",
                    "Guinea-Bissau",
                    "Gabon",
                    "Lithuania",
                    "Benin",
                    "Belize",
                    "Qatar",
                    "Singapore",
                    "French Guiana",
                    "Romania",
                    "Bhutan",
                    "North Yemen",
                    "Slovenia",
                    "Brunei",
                    "Grenada",
                    "Bahamas",
                    "Montenegro",
                    "Western Sahara",
                    "Comoros",
                    "Malawi",
                    "People's Republic of the Congo",
                    "Iceland",
                    "Solomon Islands",
                    "Gambia",
                    "Dominica",
                    "French Polynesia",
                    "Barbados",
                    "Vanuatu",
                    "Turkmenistan",
                    "Seychelles",
                    "Mauritius",
                    "St. Kitts and Nevis",
                    "Equatorial Guinea",
                    "South Yemen",
                    "Vatican City",
                    "Falkland Islands",
                    "St. Lucia",
                    "North Korea",
                    "New Hebrides",
                    "International",
                    "Wallis and Futuna",
                    "South Vietnam",
                    "Andorra",
                    "Antigua and Barbuda"
                  ],
                  "locationmode": "country names",
                  "locations": [
                    "Iraq",
                    "Pakistan",
                    "Afghanistan",
                    "India",
                    "Colombia",
                    "Philippines",
                    "Peru",
                    "El Salvador",
                    "United Kingdom",
                    "Turkey",
                    "Somalia",
                    "Nigeria",
                    "Thailand",
                    "Yemen",
                    "Spain",
                    "Sri Lanka",
                    "United States",
                    "Algeria",
                    "France",
                    "Egypt",
                    "Lebanon",
                    "Chile",
                    "Libya",
                    "West Bank and Gaza Strip",
                    "Syria",
                    "Russia",
                    "Israel",
                    "Guatemala",
                    "South Africa",
                    "Nicaragua",
                    "Ukraine",
                    "Bangladesh",
                    "Italy",
                    "Greece",
                    "Nepal",
                    "Sudan",
                    "Argentina",
                    "Democratic Republic of the Congo",
                    "Indonesia",
                    "Germany",
                    "Iran",
                    "Kenya",
                    "Burundi",
                    "Mali",
                    "Myanmar",
                    "West Germany (FRG)",
                    "Mexico",
                    "Angola",
                    "Japan",
                    "Uganda",
                    "Saudi Arabia",
                    "Mozambique",
                    "Cameroon",
                    "Honduras",
                    "Bolivia",
                    "Ireland",
                    "Venezuela",
                    "Central African Republic",
                    "Brazil",
                    "Cambodia",
                    "China",
                    "South Sudan",
                    "Ecuador",
                    "Georgia",
                    "Haiti",
                    "Bahrain",
                    "Yugoslavia",
                    "Kosovo",
                    "Ethiopia",
                    "Tajikistan",
                    "Bosnia-Herzegovina",
                    "Rwanda",
                    "Niger",
                    "Belgium",
                    "Namibia",
                    "Portugal",
                    "Sweden",
                    "Cyprus",
                    "Netherlands",
                    "Panama",
                    "Senegal",
                    "Macedonia",
                    "Austria",
                    "Australia",
                    "Paraguay",
                    "Jordan",
                    "Switzerland",
                    "Tunisia",
                    "Zimbabwe",
                    "Sierra Leone",
                    "Malaysia",
                    "Canada",
                    "Chad",
                    "Dominican Republic",
                    "Papua New Guinea",
                    "Rhodesia",
                    "Uruguay",
                    "Albania",
                    "Soviet Union",
                    "Kuwait",
                    "Ivory Coast",
                    "Costa Rica",
                    "Suriname",
                    "Zambia",
                    "Tanzania",
                    "Croatia",
                    "Guadeloupe",
                    "Bulgaria",
                    "Burkina Faso",
                    "Zaire",
                    "Taiwan",
                    "Azerbaijan",
                    "Togo",
                    "Hungary",
                    "Denmark",
                    "Poland",
                    "South Korea",
                    "East Germany (GDR)",
                    "Morocco",
                    "Jamaica",
                    "Republic of the Congo",
                    "Kyrgyzstan",
                    "Liberia",
                    "Macau",
                    "Czech Republic",
                    "New Caledonia",
                    "Cuba",
                    "Lesotho",
                    "Kazakhstan",
                    "Madagascar",
                    "Laos",
                    "Guyana",
                    "Hong Kong",
                    "Guinea",
                    "Armenia",
                    "Malta",
                    "Maldives",
                    "United Arab Emirates",
                    "Trinidad and Tobago",
                    "Djibouti",
                    "Uzbekistan",
                    "Moldova",
                    "Finland",
                    "New Zealand",
                    "Ghana",
                    "Norway",
                    "Mauritania",
                    "Slovak Republic",
                    "Fiji",
                    "Latvia",
                    "Swaziland",
                    "Estonia",
                    "Luxembourg",
                    "Belarus",
                    "Vietnam",
                    "Martinique",
                    "Serbia",
                    "Serbia-Montenegro",
                    "East Timor",
                    "Botswana",
                    "Eritrea",
                    "Czechoslovakia",
                    "Guinea-Bissau",
                    "Gabon",
                    "Lithuania",
                    "Benin",
                    "Belize",
                    "Qatar",
                    "Singapore",
                    "French Guiana",
                    "Romania",
                    "Bhutan",
                    "North Yemen",
                    "Slovenia",
                    "Brunei",
                    "Grenada",
                    "Bahamas",
                    "Montenegro",
                    "Western Sahara",
                    "Comoros",
                    "Malawi",
                    "People's Republic of the Congo",
                    "Iceland",
                    "Solomon Islands",
                    "Gambia",
                    "Dominica",
                    "French Polynesia",
                    "Barbados",
                    "Vanuatu",
                    "Turkmenistan",
                    "Seychelles",
                    "Mauritius",
                    "St. Kitts and Nevis",
                    "Equatorial Guinea",
                    "South Yemen",
                    "Vatican City",
                    "Falkland Islands",
                    "St. Lucia",
                    "North Korea",
                    "New Hebrides",
                    "International",
                    "Wallis and Futuna",
                    "South Vietnam",
                    "Andorra",
                    "Antigua and Barbuda"
                  ],
                  "name": "",
                  "type": "choropleth",
                  "z": [
                    24636,
                    14368,
                    12731,
                    11960,
                    8306,
                    6908,
                    6096,
                    5320,
                    5235,
                    4292,
                    4142,
                    3907,
                    3849,
                    3347,
                    3249,
                    3022,
                    2836,
                    2743,
                    2693,
                    2479,
                    2478,
                    2365,
                    2249,
                    2227,
                    2201,
                    2194,
                    2183,
                    2050,
                    2016,
                    1970,
                    1709,
                    1648,
                    1565,
                    1275,
                    1215,
                    967,
                    815,
                    775,
                    761,
                    735,
                    684,
                    683,
                    613,
                    566,
                    546,
                    541,
                    524,
                    499,
                    402,
                    394,
                    371,
                    363,
                    332,
                    323,
                    314,
                    307,
                    293,
                    283,
                    273,
                    259,
                    252,
                    225,
                    220,
                    217,
                    213,
                    207,
                    203,
                    196,
                    190,
                    188,
                    159,
                    159,
                    154,
                    154,
                    151,
                    140,
                    132,
                    132,
                    130,
                    127,
                    118,
                    118,
                    115,
                    114,
                    114,
                    113,
                    111,
                    109,
                    101,
                    101,
                    99,
                    96,
                    91,
                    90,
                    89,
                    83,
                    82,
                    80,
                    78,
                    76,
                    74,
                    67,
                    66,
                    62,
                    59,
                    57,
                    56,
                    52,
                    52,
                    50,
                    50,
                    49,
                    48,
                    46,
                    41,
                    39,
                    38,
                    38,
                    36,
                    36,
                    36,
                    35,
                    34,
                    33,
                    32,
                    31,
                    30,
                    29,
                    27,
                    27,
                    27,
                    26,
                    26,
                    25,
                    24,
                    23,
                    22,
                    22,
                    22,
                    22,
                    21,
                    21,
                    20,
                    20,
                    19,
                    19,
                    18,
                    18,
                    17,
                    17,
                    16,
                    16,
                    16,
                    13,
                    12,
                    12,
                    12,
                    11,
                    10,
                    10,
                    10,
                    10,
                    9,
                    8,
                    8,
                    8,
                    8,
                    7,
                    7,
                    7,
                    6,
                    6,
                    6,
                    6,
                    6,
                    5,
                    5,
                    5,
                    5,
                    5,
                    5,
                    4,
                    4,
                    4,
                    3,
                    3,
                    3,
                    3,
                    2,
                    2,
                    2,
                    2,
                    2,
                    2,
                    2,
                    1,
                    1,
                    1,
                    1,
                    1,
                    1,
                    1,
                    1,
                    1,
                    1
                  ]
                }
              ],
              "layout": {
                "coloraxis": {
                  "cmax": 1000,
                  "cmin": 1,
                  "colorbar": {
                    "title": {
                      "text": "Number_of_Attacks"
                    }
                  },
                  "colorscale": [
                    [
                      0,
                      "#00224e"
                    ],
                    [
                      0.1111111111111111,
                      "#123570"
                    ],
                    [
                      0.2222222222222222,
                      "#3b496c"
                    ],
                    [
                      0.3333333333333333,
                      "#575d6d"
                    ],
                    [
                      0.4444444444444444,
                      "#707173"
                    ],
                    [
                      0.5555555555555556,
                      "#8a8678"
                    ],
                    [
                      0.6666666666666666,
                      "#a59c74"
                    ],
                    [
                      0.7777777777777778,
                      "#c3b369"
                    ],
                    [
                      0.8888888888888888,
                      "#e1cc55"
                    ],
                    [
                      1,
                      "#fee838"
                    ]
                  ],
                  "showscale": true
                },
                "geo": {
                  "center": {},
                  "domain": {
                    "x": [
                      0,
                      1
                    ],
                    "y": [
                      0,
                      1
                    ]
                  },
                  "scope": "europe"
                },
                "legend": {
                  "tracegroupgap": 0
                },
                "template": {
                  "data": {
                    "bar": [
                      {
                        "error_x": {
                          "color": "#2a3f5f"
                        },
                        "error_y": {
                          "color": "#2a3f5f"
                        },
                        "marker": {
                          "line": {
                            "color": "#E5ECF6",
                            "width": 0.5
                          },
                          "pattern": {
                            "fillmode": "overlay",
                            "size": 10,
                            "solidity": 0.2
                          }
                        },
                        "type": "bar"
                      }
                    ],
                    "barpolar": [
                      {
                        "marker": {
                          "line": {
                            "color": "#E5ECF6",
                            "width": 0.5
                          },
                          "pattern": {
                            "fillmode": "overlay",
                            "size": 10,
                            "solidity": 0.2
                          }
                        },
                        "type": "barpolar"
                      }
                    ],
                    "carpet": [
                      {
                        "aaxis": {
                          "endlinecolor": "#2a3f5f",
                          "gridcolor": "white",
                          "linecolor": "white",
                          "minorgridcolor": "white",
                          "startlinecolor": "#2a3f5f"
                        },
                        "baxis": {
                          "endlinecolor": "#2a3f5f",
                          "gridcolor": "white",
                          "linecolor": "white",
                          "minorgridcolor": "white",
                          "startlinecolor": "#2a3f5f"
                        },
                        "type": "carpet"
                      }
                    ],
                    "choropleth": [
                      {
                        "colorbar": {
                          "outlinewidth": 0,
                          "ticks": ""
                        },
                        "type": "choropleth"
                      }
                    ],
                    "contour": [
                      {
                        "colorbar": {
                          "outlinewidth": 0,
                          "ticks": ""
                        },
                        "colorscale": [
                          [
                            0,
                            "#0d0887"
                          ],
                          [
                            0.1111111111111111,
                            "#46039f"
                          ],
                          [
                            0.2222222222222222,
                            "#7201a8"
                          ],
                          [
                            0.3333333333333333,
                            "#9c179e"
                          ],
                          [
                            0.4444444444444444,
                            "#bd3786"
                          ],
                          [
                            0.5555555555555556,
                            "#d8576b"
                          ],
                          [
                            0.6666666666666666,
                            "#ed7953"
                          ],
                          [
                            0.7777777777777778,
                            "#fb9f3a"
                          ],
                          [
                            0.8888888888888888,
                            "#fdca26"
                          ],
                          [
                            1,
                            "#f0f921"
                          ]
                        ],
                        "type": "contour"
                      }
                    ],
                    "contourcarpet": [
                      {
                        "colorbar": {
                          "outlinewidth": 0,
                          "ticks": ""
                        },
                        "type": "contourcarpet"
                      }
                    ],
                    "heatmap": [
                      {
                        "colorbar": {
                          "outlinewidth": 0,
                          "ticks": ""
                        },
                        "colorscale": [
                          [
                            0,
                            "#0d0887"
                          ],
                          [
                            0.1111111111111111,
                            "#46039f"
                          ],
                          [
                            0.2222222222222222,
                            "#7201a8"
                          ],
                          [
                            0.3333333333333333,
                            "#9c179e"
                          ],
                          [
                            0.4444444444444444,
                            "#bd3786"
                          ],
                          [
                            0.5555555555555556,
                            "#d8576b"
                          ],
                          [
                            0.6666666666666666,
                            "#ed7953"
                          ],
                          [
                            0.7777777777777778,
                            "#fb9f3a"
                          ],
                          [
                            0.8888888888888888,
                            "#fdca26"
                          ],
                          [
                            1,
                            "#f0f921"
                          ]
                        ],
                        "type": "heatmap"
                      }
                    ],
                    "heatmapgl": [
                      {
                        "colorbar": {
                          "outlinewidth": 0,
                          "ticks": ""
                        },
                        "colorscale": [
                          [
                            0,
                            "#0d0887"
                          ],
                          [
                            0.1111111111111111,
                            "#46039f"
                          ],
                          [
                            0.2222222222222222,
                            "#7201a8"
                          ],
                          [
                            0.3333333333333333,
                            "#9c179e"
                          ],
                          [
                            0.4444444444444444,
                            "#bd3786"
                          ],
                          [
                            0.5555555555555556,
                            "#d8576b"
                          ],
                          [
                            0.6666666666666666,
                            "#ed7953"
                          ],
                          [
                            0.7777777777777778,
                            "#fb9f3a"
                          ],
                          [
                            0.8888888888888888,
                            "#fdca26"
                          ],
                          [
                            1,
                            "#f0f921"
                          ]
                        ],
                        "type": "heatmapgl"
                      }
                    ],
                    "histogram": [
                      {
                        "marker": {
                          "pattern": {
                            "fillmode": "overlay",
                            "size": 10,
                            "solidity": 0.2
                          }
                        },
                        "type": "histogram"
                      }
                    ],
                    "histogram2d": [
                      {
                        "colorbar": {
                          "outlinewidth": 0,
                          "ticks": ""
                        },
                        "colorscale": [
                          [
                            0,
                            "#0d0887"
                          ],
                          [
                            0.1111111111111111,
                            "#46039f"
                          ],
                          [
                            0.2222222222222222,
                            "#7201a8"
                          ],
                          [
                            0.3333333333333333,
                            "#9c179e"
                          ],
                          [
                            0.4444444444444444,
                            "#bd3786"
                          ],
                          [
                            0.5555555555555556,
                            "#d8576b"
                          ],
                          [
                            0.6666666666666666,
                            "#ed7953"
                          ],
                          [
                            0.7777777777777778,
                            "#fb9f3a"
                          ],
                          [
                            0.8888888888888888,
                            "#fdca26"
                          ],
                          [
                            1,
                            "#f0f921"
                          ]
                        ],
                        "type": "histogram2d"
                      }
                    ],
                    "histogram2dcontour": [
                      {
                        "colorbar": {
                          "outlinewidth": 0,
                          "ticks": ""
                        },
                        "colorscale": [
                          [
                            0,
                            "#0d0887"
                          ],
                          [
                            0.1111111111111111,
                            "#46039f"
                          ],
                          [
                            0.2222222222222222,
                            "#7201a8"
                          ],
                          [
                            0.3333333333333333,
                            "#9c179e"
                          ],
                          [
                            0.4444444444444444,
                            "#bd3786"
                          ],
                          [
                            0.5555555555555556,
                            "#d8576b"
                          ],
                          [
                            0.6666666666666666,
                            "#ed7953"
                          ],
                          [
                            0.7777777777777778,
                            "#fb9f3a"
                          ],
                          [
                            0.8888888888888888,
                            "#fdca26"
                          ],
                          [
                            1,
                            "#f0f921"
                          ]
                        ],
                        "type": "histogram2dcontour"
                      }
                    ],
                    "mesh3d": [
                      {
                        "colorbar": {
                          "outlinewidth": 0,
                          "ticks": ""
                        },
                        "type": "mesh3d"
                      }
                    ],
                    "parcoords": [
                      {
                        "line": {
                          "colorbar": {
                            "outlinewidth": 0,
                            "ticks": ""
                          }
                        },
                        "type": "parcoords"
                      }
                    ],
                    "pie": [
                      {
                        "automargin": true,
                        "type": "pie"
                      }
                    ],
                    "scatter": [
                      {
                        "fillpattern": {
                          "fillmode": "overlay",
                          "size": 10,
                          "solidity": 0.2
                        },
                        "type": "scatter"
                      }
                    ],
                    "scatter3d": [
                      {
                        "line": {
                          "colorbar": {
                            "outlinewidth": 0,
                            "ticks": ""
                          }
                        },
                        "marker": {
                          "colorbar": {
                            "outlinewidth": 0,
                            "ticks": ""
                          }
                        },
                        "type": "scatter3d"
                      }
                    ],
                    "scattercarpet": [
                      {
                        "marker": {
                          "colorbar": {
                            "outlinewidth": 0,
                            "ticks": ""
                          }
                        },
                        "type": "scattercarpet"
                      }
                    ],
                    "scattergeo": [
                      {
                        "marker": {
                          "colorbar": {
                            "outlinewidth": 0,
                            "ticks": ""
                          }
                        },
                        "type": "scattergeo"
                      }
                    ],
                    "scattergl": [
                      {
                        "marker": {
                          "colorbar": {
                            "outlinewidth": 0,
                            "ticks": ""
                          }
                        },
                        "type": "scattergl"
                      }
                    ],
                    "scattermapbox": [
                      {
                        "marker": {
                          "colorbar": {
                            "outlinewidth": 0,
                            "ticks": ""
                          }
                        },
                        "type": "scattermapbox"
                      }
                    ],
                    "scatterpolar": [
                      {
                        "marker": {
                          "colorbar": {
                            "outlinewidth": 0,
                            "ticks": ""
                          }
                        },
                        "type": "scatterpolar"
                      }
                    ],
                    "scatterpolargl": [
                      {
                        "marker": {
                          "colorbar": {
                            "outlinewidth": 0,
                            "ticks": ""
                          }
                        },
                        "type": "scatterpolargl"
                      }
                    ],
                    "scatterternary": [
                      {
                        "marker": {
                          "colorbar": {
                            "outlinewidth": 0,
                            "ticks": ""
                          }
                        },
                        "type": "scatterternary"
                      }
                    ],
                    "surface": [
                      {
                        "colorbar": {
                          "outlinewidth": 0,
                          "ticks": ""
                        },
                        "colorscale": [
                          [
                            0,
                            "#0d0887"
                          ],
                          [
                            0.1111111111111111,
                            "#46039f"
                          ],
                          [
                            0.2222222222222222,
                            "#7201a8"
                          ],
                          [
                            0.3333333333333333,
                            "#9c179e"
                          ],
                          [
                            0.4444444444444444,
                            "#bd3786"
                          ],
                          [
                            0.5555555555555556,
                            "#d8576b"
                          ],
                          [
                            0.6666666666666666,
                            "#ed7953"
                          ],
                          [
                            0.7777777777777778,
                            "#fb9f3a"
                          ],
                          [
                            0.8888888888888888,
                            "#fdca26"
                          ],
                          [
                            1,
                            "#f0f921"
                          ]
                        ],
                        "type": "surface"
                      }
                    ],
                    "table": [
                      {
                        "cells": {
                          "fill": {
                            "color": "#EBF0F8"
                          },
                          "line": {
                            "color": "white"
                          }
                        },
                        "header": {
                          "fill": {
                            "color": "#C8D4E3"
                          },
                          "line": {
                            "color": "white"
                          }
                        },
                        "type": "table"
                      }
                    ]
                  },
                  "layout": {
                    "annotationdefaults": {
                      "arrowcolor": "#2a3f5f",
                      "arrowhead": 0,
                      "arrowwidth": 1
                    },
                    "autotypenumbers": "strict",
                    "coloraxis": {
                      "colorbar": {
                        "outlinewidth": 0,
                        "ticks": ""
                      }
                    },
                    "colorscale": {
                      "diverging": [
                        [
                          0,
                          "#8e0152"
                        ],
                        [
                          0.1,
                          "#c51b7d"
                        ],
                        [
                          0.2,
                          "#de77ae"
                        ],
                        [
                          0.3,
                          "#f1b6da"
                        ],
                        [
                          0.4,
                          "#fde0ef"
                        ],
                        [
                          0.5,
                          "#f7f7f7"
                        ],
                        [
                          0.6,
                          "#e6f5d0"
                        ],
                        [
                          0.7,
                          "#b8e186"
                        ],
                        [
                          0.8,
                          "#7fbc41"
                        ],
                        [
                          0.9,
                          "#4d9221"
                        ],
                        [
                          1,
                          "#276419"
                        ]
                      ],
                      "sequential": [
                        [
                          0,
                          "#0d0887"
                        ],
                        [
                          0.1111111111111111,
                          "#46039f"
                        ],
                        [
                          0.2222222222222222,
                          "#7201a8"
                        ],
                        [
                          0.3333333333333333,
                          "#9c179e"
                        ],
                        [
                          0.4444444444444444,
                          "#bd3786"
                        ],
                        [
                          0.5555555555555556,
                          "#d8576b"
                        ],
                        [
                          0.6666666666666666,
                          "#ed7953"
                        ],
                        [
                          0.7777777777777778,
                          "#fb9f3a"
                        ],
                        [
                          0.8888888888888888,
                          "#fdca26"
                        ],
                        [
                          1,
                          "#f0f921"
                        ]
                      ],
                      "sequentialminus": [
                        [
                          0,
                          "#0d0887"
                        ],
                        [
                          0.1111111111111111,
                          "#46039f"
                        ],
                        [
                          0.2222222222222222,
                          "#7201a8"
                        ],
                        [
                          0.3333333333333333,
                          "#9c179e"
                        ],
                        [
                          0.4444444444444444,
                          "#bd3786"
                        ],
                        [
                          0.5555555555555556,
                          "#d8576b"
                        ],
                        [
                          0.6666666666666666,
                          "#ed7953"
                        ],
                        [
                          0.7777777777777778,
                          "#fb9f3a"
                        ],
                        [
                          0.8888888888888888,
                          "#fdca26"
                        ],
                        [
                          1,
                          "#f0f921"
                        ]
                      ]
                    },
                    "colorway": [
                      "#636efa",
                      "#EF553B",
                      "#00cc96",
                      "#ab63fa",
                      "#FFA15A",
                      "#19d3f3",
                      "#FF6692",
                      "#B6E880",
                      "#FF97FF",
                      "#FECB52"
                    ],
                    "font": {
                      "color": "#2a3f5f"
                    },
                    "geo": {
                      "bgcolor": "white",
                      "lakecolor": "white",
                      "landcolor": "#E5ECF6",
                      "showlakes": true,
                      "showland": true,
                      "subunitcolor": "white"
                    },
                    "hoverlabel": {
                      "align": "left"
                    },
                    "hovermode": "closest",
                    "mapbox": {
                      "style": "light"
                    },
                    "paper_bgcolor": "white",
                    "plot_bgcolor": "#E5ECF6",
                    "polar": {
                      "angularaxis": {
                        "gridcolor": "white",
                        "linecolor": "white",
                        "ticks": ""
                      },
                      "bgcolor": "#E5ECF6",
                      "radialaxis": {
                        "gridcolor": "white",
                        "linecolor": "white",
                        "ticks": ""
                      }
                    },
                    "scene": {
                      "xaxis": {
                        "backgroundcolor": "#E5ECF6",
                        "gridcolor": "white",
                        "gridwidth": 2,
                        "linecolor": "white",
                        "showbackground": true,
                        "ticks": "",
                        "zerolinecolor": "white"
                      },
                      "yaxis": {
                        "backgroundcolor": "#E5ECF6",
                        "gridcolor": "white",
                        "gridwidth": 2,
                        "linecolor": "white",
                        "showbackground": true,
                        "ticks": "",
                        "zerolinecolor": "white"
                      },
                      "zaxis": {
                        "backgroundcolor": "#E5ECF6",
                        "gridcolor": "white",
                        "gridwidth": 2,
                        "linecolor": "white",
                        "showbackground": true,
                        "ticks": "",
                        "zerolinecolor": "white"
                      }
                    },
                    "shapedefaults": {
                      "line": {
                        "color": "#2a3f5f"
                      }
                    },
                    "ternary": {
                      "aaxis": {
                        "gridcolor": "white",
                        "linecolor": "white",
                        "ticks": ""
                      },
                      "baxis": {
                        "gridcolor": "white",
                        "linecolor": "white",
                        "ticks": ""
                      },
                      "bgcolor": "#E5ECF6",
                      "caxis": {
                        "gridcolor": "white",
                        "linecolor": "white",
                        "ticks": ""
                      }
                    },
                    "title": {
                      "x": 0.05
                    },
                    "xaxis": {
                      "automargin": true,
                      "gridcolor": "white",
                      "linecolor": "white",
                      "ticks": "",
                      "title": {
                        "standoff": 15
                      },
                      "zerolinecolor": "white",
                      "zerolinewidth": 2
                    },
                    "yaxis": {
                      "automargin": true,
                      "gridcolor": "white",
                      "linecolor": "white",
                      "ticks": "",
                      "title": {
                        "standoff": 15
                      },
                      "zerolinecolor": "white",
                      "zerolinewidth": 2
                    }
                  }
                },
                "title": {
                  "text": "Number of Terrorist Attacks in Europe"
                }
              }
            }
          },
          "metadata": {},
          "output_type": "display_data"
        }
      ],
      "source": [
        "geo=pd.DataFrame({'Country': df['Country'].value_counts().index,\n",
        "                   'Number_of_Attacks': df['Country'].value_counts().values})\n",
        "\n",
        "fig = px.choropleth(geo, locations=\"Country\", \n",
        "                    locationmode=\"country names\", color=\"Number_of_Attacks\", \n",
        "                    hover_name=\"Country\", range_color=[1, 1000], \n",
        "                    color_continuous_scale='cividis', scope ='europe',\n",
        "                    title='Number of Terrorist Attacks in Europe')\n",
        "fig.update(layout_coloraxis_showscale=True)\n",
        "fig.show()"
      ]
    },
    {
      "cell_type": "markdown",
      "metadata": {
        "id": "JdlVJM-02EQi"
      },
      "source": [
        "Western Europe Countries like United Kingdom,France,Spain,Italy,Greece got more Terrorist Casuality.In northern part of Europe Ukraine is also Terrorist attacked Country in Europe continent. For buiesness point of view Eastern and northern part of Europe Continent are good for Business ."
      ]
    },
    {
      "cell_type": "markdown",
      "metadata": {
        "id": "6Dxv4q_WDwfn"
      },
      "source": [
        "### **Chart- 15**\n",
        "## **Terrorist Attacks in North America**"
      ]
    },
    {
      "cell_type": "code",
      "execution_count": 14,
      "metadata": {
        "colab": {
          "base_uri": "https://localhost:8080/",
          "height": 542
        },
        "id": "4VNkHKjA1vGu",
        "outputId": "a90b806c-89ff-45da-8cf0-12c5700fb579"
      },
      "outputs": [
        {
          "data": {
            "application/vnd.plotly.v1+json": {
              "config": {
                "plotlyServerURL": "https://plot.ly"
              },
              "data": [
                {
                  "coloraxis": "coloraxis",
                  "geo": "geo",
                  "hovertemplate": "<b>%{hovertext}</b><br><br>Country=%{location}<br>Number_of_Attacks=%{z}<extra></extra>",
                  "hovertext": [
                    "Iraq",
                    "Pakistan",
                    "Afghanistan",
                    "India",
                    "Colombia",
                    "Philippines",
                    "Peru",
                    "El Salvador",
                    "United Kingdom",
                    "Turkey",
                    "Somalia",
                    "Nigeria",
                    "Thailand",
                    "Yemen",
                    "Spain",
                    "Sri Lanka",
                    "United States",
                    "Algeria",
                    "France",
                    "Egypt",
                    "Lebanon",
                    "Chile",
                    "Libya",
                    "West Bank and Gaza Strip",
                    "Syria",
                    "Russia",
                    "Israel",
                    "Guatemala",
                    "South Africa",
                    "Nicaragua",
                    "Ukraine",
                    "Bangladesh",
                    "Italy",
                    "Greece",
                    "Nepal",
                    "Sudan",
                    "Argentina",
                    "Democratic Republic of the Congo",
                    "Indonesia",
                    "Germany",
                    "Iran",
                    "Kenya",
                    "Burundi",
                    "Mali",
                    "Myanmar",
                    "West Germany (FRG)",
                    "Mexico",
                    "Angola",
                    "Japan",
                    "Uganda",
                    "Saudi Arabia",
                    "Mozambique",
                    "Cameroon",
                    "Honduras",
                    "Bolivia",
                    "Ireland",
                    "Venezuela",
                    "Central African Republic",
                    "Brazil",
                    "Cambodia",
                    "China",
                    "South Sudan",
                    "Ecuador",
                    "Georgia",
                    "Haiti",
                    "Bahrain",
                    "Yugoslavia",
                    "Kosovo",
                    "Ethiopia",
                    "Tajikistan",
                    "Bosnia-Herzegovina",
                    "Rwanda",
                    "Niger",
                    "Belgium",
                    "Namibia",
                    "Portugal",
                    "Sweden",
                    "Cyprus",
                    "Netherlands",
                    "Panama",
                    "Senegal",
                    "Macedonia",
                    "Austria",
                    "Australia",
                    "Paraguay",
                    "Jordan",
                    "Switzerland",
                    "Tunisia",
                    "Zimbabwe",
                    "Sierra Leone",
                    "Malaysia",
                    "Canada",
                    "Chad",
                    "Dominican Republic",
                    "Papua New Guinea",
                    "Rhodesia",
                    "Uruguay",
                    "Albania",
                    "Soviet Union",
                    "Kuwait",
                    "Ivory Coast",
                    "Costa Rica",
                    "Suriname",
                    "Zambia",
                    "Tanzania",
                    "Croatia",
                    "Guadeloupe",
                    "Bulgaria",
                    "Burkina Faso",
                    "Zaire",
                    "Taiwan",
                    "Azerbaijan",
                    "Togo",
                    "Hungary",
                    "Denmark",
                    "Poland",
                    "South Korea",
                    "East Germany (GDR)",
                    "Morocco",
                    "Jamaica",
                    "Republic of the Congo",
                    "Kyrgyzstan",
                    "Liberia",
                    "Macau",
                    "Czech Republic",
                    "New Caledonia",
                    "Cuba",
                    "Lesotho",
                    "Kazakhstan",
                    "Madagascar",
                    "Laos",
                    "Guyana",
                    "Hong Kong",
                    "Guinea",
                    "Armenia",
                    "Malta",
                    "Maldives",
                    "United Arab Emirates",
                    "Trinidad and Tobago",
                    "Djibouti",
                    "Uzbekistan",
                    "Moldova",
                    "Finland",
                    "New Zealand",
                    "Ghana",
                    "Norway",
                    "Mauritania",
                    "Slovak Republic",
                    "Fiji",
                    "Latvia",
                    "Swaziland",
                    "Estonia",
                    "Luxembourg",
                    "Belarus",
                    "Vietnam",
                    "Martinique",
                    "Serbia",
                    "Serbia-Montenegro",
                    "East Timor",
                    "Botswana",
                    "Eritrea",
                    "Czechoslovakia",
                    "Guinea-Bissau",
                    "Gabon",
                    "Lithuania",
                    "Benin",
                    "Belize",
                    "Qatar",
                    "Singapore",
                    "French Guiana",
                    "Romania",
                    "Bhutan",
                    "North Yemen",
                    "Slovenia",
                    "Brunei",
                    "Grenada",
                    "Bahamas",
                    "Montenegro",
                    "Western Sahara",
                    "Comoros",
                    "Malawi",
                    "People's Republic of the Congo",
                    "Iceland",
                    "Solomon Islands",
                    "Gambia",
                    "Dominica",
                    "French Polynesia",
                    "Barbados",
                    "Vanuatu",
                    "Turkmenistan",
                    "Seychelles",
                    "Mauritius",
                    "St. Kitts and Nevis",
                    "Equatorial Guinea",
                    "South Yemen",
                    "Vatican City",
                    "Falkland Islands",
                    "St. Lucia",
                    "North Korea",
                    "New Hebrides",
                    "International",
                    "Wallis and Futuna",
                    "South Vietnam",
                    "Andorra",
                    "Antigua and Barbuda"
                  ],
                  "locationmode": "country names",
                  "locations": [
                    "Iraq",
                    "Pakistan",
                    "Afghanistan",
                    "India",
                    "Colombia",
                    "Philippines",
                    "Peru",
                    "El Salvador",
                    "United Kingdom",
                    "Turkey",
                    "Somalia",
                    "Nigeria",
                    "Thailand",
                    "Yemen",
                    "Spain",
                    "Sri Lanka",
                    "United States",
                    "Algeria",
                    "France",
                    "Egypt",
                    "Lebanon",
                    "Chile",
                    "Libya",
                    "West Bank and Gaza Strip",
                    "Syria",
                    "Russia",
                    "Israel",
                    "Guatemala",
                    "South Africa",
                    "Nicaragua",
                    "Ukraine",
                    "Bangladesh",
                    "Italy",
                    "Greece",
                    "Nepal",
                    "Sudan",
                    "Argentina",
                    "Democratic Republic of the Congo",
                    "Indonesia",
                    "Germany",
                    "Iran",
                    "Kenya",
                    "Burundi",
                    "Mali",
                    "Myanmar",
                    "West Germany (FRG)",
                    "Mexico",
                    "Angola",
                    "Japan",
                    "Uganda",
                    "Saudi Arabia",
                    "Mozambique",
                    "Cameroon",
                    "Honduras",
                    "Bolivia",
                    "Ireland",
                    "Venezuela",
                    "Central African Republic",
                    "Brazil",
                    "Cambodia",
                    "China",
                    "South Sudan",
                    "Ecuador",
                    "Georgia",
                    "Haiti",
                    "Bahrain",
                    "Yugoslavia",
                    "Kosovo",
                    "Ethiopia",
                    "Tajikistan",
                    "Bosnia-Herzegovina",
                    "Rwanda",
                    "Niger",
                    "Belgium",
                    "Namibia",
                    "Portugal",
                    "Sweden",
                    "Cyprus",
                    "Netherlands",
                    "Panama",
                    "Senegal",
                    "Macedonia",
                    "Austria",
                    "Australia",
                    "Paraguay",
                    "Jordan",
                    "Switzerland",
                    "Tunisia",
                    "Zimbabwe",
                    "Sierra Leone",
                    "Malaysia",
                    "Canada",
                    "Chad",
                    "Dominican Republic",
                    "Papua New Guinea",
                    "Rhodesia",
                    "Uruguay",
                    "Albania",
                    "Soviet Union",
                    "Kuwait",
                    "Ivory Coast",
                    "Costa Rica",
                    "Suriname",
                    "Zambia",
                    "Tanzania",
                    "Croatia",
                    "Guadeloupe",
                    "Bulgaria",
                    "Burkina Faso",
                    "Zaire",
                    "Taiwan",
                    "Azerbaijan",
                    "Togo",
                    "Hungary",
                    "Denmark",
                    "Poland",
                    "South Korea",
                    "East Germany (GDR)",
                    "Morocco",
                    "Jamaica",
                    "Republic of the Congo",
                    "Kyrgyzstan",
                    "Liberia",
                    "Macau",
                    "Czech Republic",
                    "New Caledonia",
                    "Cuba",
                    "Lesotho",
                    "Kazakhstan",
                    "Madagascar",
                    "Laos",
                    "Guyana",
                    "Hong Kong",
                    "Guinea",
                    "Armenia",
                    "Malta",
                    "Maldives",
                    "United Arab Emirates",
                    "Trinidad and Tobago",
                    "Djibouti",
                    "Uzbekistan",
                    "Moldova",
                    "Finland",
                    "New Zealand",
                    "Ghana",
                    "Norway",
                    "Mauritania",
                    "Slovak Republic",
                    "Fiji",
                    "Latvia",
                    "Swaziland",
                    "Estonia",
                    "Luxembourg",
                    "Belarus",
                    "Vietnam",
                    "Martinique",
                    "Serbia",
                    "Serbia-Montenegro",
                    "East Timor",
                    "Botswana",
                    "Eritrea",
                    "Czechoslovakia",
                    "Guinea-Bissau",
                    "Gabon",
                    "Lithuania",
                    "Benin",
                    "Belize",
                    "Qatar",
                    "Singapore",
                    "French Guiana",
                    "Romania",
                    "Bhutan",
                    "North Yemen",
                    "Slovenia",
                    "Brunei",
                    "Grenada",
                    "Bahamas",
                    "Montenegro",
                    "Western Sahara",
                    "Comoros",
                    "Malawi",
                    "People's Republic of the Congo",
                    "Iceland",
                    "Solomon Islands",
                    "Gambia",
                    "Dominica",
                    "French Polynesia",
                    "Barbados",
                    "Vanuatu",
                    "Turkmenistan",
                    "Seychelles",
                    "Mauritius",
                    "St. Kitts and Nevis",
                    "Equatorial Guinea",
                    "South Yemen",
                    "Vatican City",
                    "Falkland Islands",
                    "St. Lucia",
                    "North Korea",
                    "New Hebrides",
                    "International",
                    "Wallis and Futuna",
                    "South Vietnam",
                    "Andorra",
                    "Antigua and Barbuda"
                  ],
                  "name": "",
                  "type": "choropleth",
                  "z": [
                    24636,
                    14368,
                    12731,
                    11960,
                    8306,
                    6908,
                    6096,
                    5320,
                    5235,
                    4292,
                    4142,
                    3907,
                    3849,
                    3347,
                    3249,
                    3022,
                    2836,
                    2743,
                    2693,
                    2479,
                    2478,
                    2365,
                    2249,
                    2227,
                    2201,
                    2194,
                    2183,
                    2050,
                    2016,
                    1970,
                    1709,
                    1648,
                    1565,
                    1275,
                    1215,
                    967,
                    815,
                    775,
                    761,
                    735,
                    684,
                    683,
                    613,
                    566,
                    546,
                    541,
                    524,
                    499,
                    402,
                    394,
                    371,
                    363,
                    332,
                    323,
                    314,
                    307,
                    293,
                    283,
                    273,
                    259,
                    252,
                    225,
                    220,
                    217,
                    213,
                    207,
                    203,
                    196,
                    190,
                    188,
                    159,
                    159,
                    154,
                    154,
                    151,
                    140,
                    132,
                    132,
                    130,
                    127,
                    118,
                    118,
                    115,
                    114,
                    114,
                    113,
                    111,
                    109,
                    101,
                    101,
                    99,
                    96,
                    91,
                    90,
                    89,
                    83,
                    82,
                    80,
                    78,
                    76,
                    74,
                    67,
                    66,
                    62,
                    59,
                    57,
                    56,
                    52,
                    52,
                    50,
                    50,
                    49,
                    48,
                    46,
                    41,
                    39,
                    38,
                    38,
                    36,
                    36,
                    36,
                    35,
                    34,
                    33,
                    32,
                    31,
                    30,
                    29,
                    27,
                    27,
                    27,
                    26,
                    26,
                    25,
                    24,
                    23,
                    22,
                    22,
                    22,
                    22,
                    21,
                    21,
                    20,
                    20,
                    19,
                    19,
                    18,
                    18,
                    17,
                    17,
                    16,
                    16,
                    16,
                    13,
                    12,
                    12,
                    12,
                    11,
                    10,
                    10,
                    10,
                    10,
                    9,
                    8,
                    8,
                    8,
                    8,
                    7,
                    7,
                    7,
                    6,
                    6,
                    6,
                    6,
                    6,
                    5,
                    5,
                    5,
                    5,
                    5,
                    5,
                    4,
                    4,
                    4,
                    3,
                    3,
                    3,
                    3,
                    2,
                    2,
                    2,
                    2,
                    2,
                    2,
                    2,
                    1,
                    1,
                    1,
                    1,
                    1,
                    1,
                    1,
                    1,
                    1,
                    1
                  ]
                }
              ],
              "layout": {
                "coloraxis": {
                  "cmax": 1000,
                  "cmin": 1,
                  "colorbar": {
                    "title": {
                      "text": "Number_of_Attacks"
                    }
                  },
                  "colorscale": [
                    [
                      0,
                      "#00224e"
                    ],
                    [
                      0.1111111111111111,
                      "#123570"
                    ],
                    [
                      0.2222222222222222,
                      "#3b496c"
                    ],
                    [
                      0.3333333333333333,
                      "#575d6d"
                    ],
                    [
                      0.4444444444444444,
                      "#707173"
                    ],
                    [
                      0.5555555555555556,
                      "#8a8678"
                    ],
                    [
                      0.6666666666666666,
                      "#a59c74"
                    ],
                    [
                      0.7777777777777778,
                      "#c3b369"
                    ],
                    [
                      0.8888888888888888,
                      "#e1cc55"
                    ],
                    [
                      1,
                      "#fee838"
                    ]
                  ],
                  "showscale": true
                },
                "geo": {
                  "center": {},
                  "domain": {
                    "x": [
                      0,
                      1
                    ],
                    "y": [
                      0,
                      1
                    ]
                  },
                  "scope": "north america"
                },
                "legend": {
                  "tracegroupgap": 0
                },
                "template": {
                  "data": {
                    "bar": [
                      {
                        "error_x": {
                          "color": "#2a3f5f"
                        },
                        "error_y": {
                          "color": "#2a3f5f"
                        },
                        "marker": {
                          "line": {
                            "color": "#E5ECF6",
                            "width": 0.5
                          },
                          "pattern": {
                            "fillmode": "overlay",
                            "size": 10,
                            "solidity": 0.2
                          }
                        },
                        "type": "bar"
                      }
                    ],
                    "barpolar": [
                      {
                        "marker": {
                          "line": {
                            "color": "#E5ECF6",
                            "width": 0.5
                          },
                          "pattern": {
                            "fillmode": "overlay",
                            "size": 10,
                            "solidity": 0.2
                          }
                        },
                        "type": "barpolar"
                      }
                    ],
                    "carpet": [
                      {
                        "aaxis": {
                          "endlinecolor": "#2a3f5f",
                          "gridcolor": "white",
                          "linecolor": "white",
                          "minorgridcolor": "white",
                          "startlinecolor": "#2a3f5f"
                        },
                        "baxis": {
                          "endlinecolor": "#2a3f5f",
                          "gridcolor": "white",
                          "linecolor": "white",
                          "minorgridcolor": "white",
                          "startlinecolor": "#2a3f5f"
                        },
                        "type": "carpet"
                      }
                    ],
                    "choropleth": [
                      {
                        "colorbar": {
                          "outlinewidth": 0,
                          "ticks": ""
                        },
                        "type": "choropleth"
                      }
                    ],
                    "contour": [
                      {
                        "colorbar": {
                          "outlinewidth": 0,
                          "ticks": ""
                        },
                        "colorscale": [
                          [
                            0,
                            "#0d0887"
                          ],
                          [
                            0.1111111111111111,
                            "#46039f"
                          ],
                          [
                            0.2222222222222222,
                            "#7201a8"
                          ],
                          [
                            0.3333333333333333,
                            "#9c179e"
                          ],
                          [
                            0.4444444444444444,
                            "#bd3786"
                          ],
                          [
                            0.5555555555555556,
                            "#d8576b"
                          ],
                          [
                            0.6666666666666666,
                            "#ed7953"
                          ],
                          [
                            0.7777777777777778,
                            "#fb9f3a"
                          ],
                          [
                            0.8888888888888888,
                            "#fdca26"
                          ],
                          [
                            1,
                            "#f0f921"
                          ]
                        ],
                        "type": "contour"
                      }
                    ],
                    "contourcarpet": [
                      {
                        "colorbar": {
                          "outlinewidth": 0,
                          "ticks": ""
                        },
                        "type": "contourcarpet"
                      }
                    ],
                    "heatmap": [
                      {
                        "colorbar": {
                          "outlinewidth": 0,
                          "ticks": ""
                        },
                        "colorscale": [
                          [
                            0,
                            "#0d0887"
                          ],
                          [
                            0.1111111111111111,
                            "#46039f"
                          ],
                          [
                            0.2222222222222222,
                            "#7201a8"
                          ],
                          [
                            0.3333333333333333,
                            "#9c179e"
                          ],
                          [
                            0.4444444444444444,
                            "#bd3786"
                          ],
                          [
                            0.5555555555555556,
                            "#d8576b"
                          ],
                          [
                            0.6666666666666666,
                            "#ed7953"
                          ],
                          [
                            0.7777777777777778,
                            "#fb9f3a"
                          ],
                          [
                            0.8888888888888888,
                            "#fdca26"
                          ],
                          [
                            1,
                            "#f0f921"
                          ]
                        ],
                        "type": "heatmap"
                      }
                    ],
                    "heatmapgl": [
                      {
                        "colorbar": {
                          "outlinewidth": 0,
                          "ticks": ""
                        },
                        "colorscale": [
                          [
                            0,
                            "#0d0887"
                          ],
                          [
                            0.1111111111111111,
                            "#46039f"
                          ],
                          [
                            0.2222222222222222,
                            "#7201a8"
                          ],
                          [
                            0.3333333333333333,
                            "#9c179e"
                          ],
                          [
                            0.4444444444444444,
                            "#bd3786"
                          ],
                          [
                            0.5555555555555556,
                            "#d8576b"
                          ],
                          [
                            0.6666666666666666,
                            "#ed7953"
                          ],
                          [
                            0.7777777777777778,
                            "#fb9f3a"
                          ],
                          [
                            0.8888888888888888,
                            "#fdca26"
                          ],
                          [
                            1,
                            "#f0f921"
                          ]
                        ],
                        "type": "heatmapgl"
                      }
                    ],
                    "histogram": [
                      {
                        "marker": {
                          "pattern": {
                            "fillmode": "overlay",
                            "size": 10,
                            "solidity": 0.2
                          }
                        },
                        "type": "histogram"
                      }
                    ],
                    "histogram2d": [
                      {
                        "colorbar": {
                          "outlinewidth": 0,
                          "ticks": ""
                        },
                        "colorscale": [
                          [
                            0,
                            "#0d0887"
                          ],
                          [
                            0.1111111111111111,
                            "#46039f"
                          ],
                          [
                            0.2222222222222222,
                            "#7201a8"
                          ],
                          [
                            0.3333333333333333,
                            "#9c179e"
                          ],
                          [
                            0.4444444444444444,
                            "#bd3786"
                          ],
                          [
                            0.5555555555555556,
                            "#d8576b"
                          ],
                          [
                            0.6666666666666666,
                            "#ed7953"
                          ],
                          [
                            0.7777777777777778,
                            "#fb9f3a"
                          ],
                          [
                            0.8888888888888888,
                            "#fdca26"
                          ],
                          [
                            1,
                            "#f0f921"
                          ]
                        ],
                        "type": "histogram2d"
                      }
                    ],
                    "histogram2dcontour": [
                      {
                        "colorbar": {
                          "outlinewidth": 0,
                          "ticks": ""
                        },
                        "colorscale": [
                          [
                            0,
                            "#0d0887"
                          ],
                          [
                            0.1111111111111111,
                            "#46039f"
                          ],
                          [
                            0.2222222222222222,
                            "#7201a8"
                          ],
                          [
                            0.3333333333333333,
                            "#9c179e"
                          ],
                          [
                            0.4444444444444444,
                            "#bd3786"
                          ],
                          [
                            0.5555555555555556,
                            "#d8576b"
                          ],
                          [
                            0.6666666666666666,
                            "#ed7953"
                          ],
                          [
                            0.7777777777777778,
                            "#fb9f3a"
                          ],
                          [
                            0.8888888888888888,
                            "#fdca26"
                          ],
                          [
                            1,
                            "#f0f921"
                          ]
                        ],
                        "type": "histogram2dcontour"
                      }
                    ],
                    "mesh3d": [
                      {
                        "colorbar": {
                          "outlinewidth": 0,
                          "ticks": ""
                        },
                        "type": "mesh3d"
                      }
                    ],
                    "parcoords": [
                      {
                        "line": {
                          "colorbar": {
                            "outlinewidth": 0,
                            "ticks": ""
                          }
                        },
                        "type": "parcoords"
                      }
                    ],
                    "pie": [
                      {
                        "automargin": true,
                        "type": "pie"
                      }
                    ],
                    "scatter": [
                      {
                        "fillpattern": {
                          "fillmode": "overlay",
                          "size": 10,
                          "solidity": 0.2
                        },
                        "type": "scatter"
                      }
                    ],
                    "scatter3d": [
                      {
                        "line": {
                          "colorbar": {
                            "outlinewidth": 0,
                            "ticks": ""
                          }
                        },
                        "marker": {
                          "colorbar": {
                            "outlinewidth": 0,
                            "ticks": ""
                          }
                        },
                        "type": "scatter3d"
                      }
                    ],
                    "scattercarpet": [
                      {
                        "marker": {
                          "colorbar": {
                            "outlinewidth": 0,
                            "ticks": ""
                          }
                        },
                        "type": "scattercarpet"
                      }
                    ],
                    "scattergeo": [
                      {
                        "marker": {
                          "colorbar": {
                            "outlinewidth": 0,
                            "ticks": ""
                          }
                        },
                        "type": "scattergeo"
                      }
                    ],
                    "scattergl": [
                      {
                        "marker": {
                          "colorbar": {
                            "outlinewidth": 0,
                            "ticks": ""
                          }
                        },
                        "type": "scattergl"
                      }
                    ],
                    "scattermapbox": [
                      {
                        "marker": {
                          "colorbar": {
                            "outlinewidth": 0,
                            "ticks": ""
                          }
                        },
                        "type": "scattermapbox"
                      }
                    ],
                    "scatterpolar": [
                      {
                        "marker": {
                          "colorbar": {
                            "outlinewidth": 0,
                            "ticks": ""
                          }
                        },
                        "type": "scatterpolar"
                      }
                    ],
                    "scatterpolargl": [
                      {
                        "marker": {
                          "colorbar": {
                            "outlinewidth": 0,
                            "ticks": ""
                          }
                        },
                        "type": "scatterpolargl"
                      }
                    ],
                    "scatterternary": [
                      {
                        "marker": {
                          "colorbar": {
                            "outlinewidth": 0,
                            "ticks": ""
                          }
                        },
                        "type": "scatterternary"
                      }
                    ],
                    "surface": [
                      {
                        "colorbar": {
                          "outlinewidth": 0,
                          "ticks": ""
                        },
                        "colorscale": [
                          [
                            0,
                            "#0d0887"
                          ],
                          [
                            0.1111111111111111,
                            "#46039f"
                          ],
                          [
                            0.2222222222222222,
                            "#7201a8"
                          ],
                          [
                            0.3333333333333333,
                            "#9c179e"
                          ],
                          [
                            0.4444444444444444,
                            "#bd3786"
                          ],
                          [
                            0.5555555555555556,
                            "#d8576b"
                          ],
                          [
                            0.6666666666666666,
                            "#ed7953"
                          ],
                          [
                            0.7777777777777778,
                            "#fb9f3a"
                          ],
                          [
                            0.8888888888888888,
                            "#fdca26"
                          ],
                          [
                            1,
                            "#f0f921"
                          ]
                        ],
                        "type": "surface"
                      }
                    ],
                    "table": [
                      {
                        "cells": {
                          "fill": {
                            "color": "#EBF0F8"
                          },
                          "line": {
                            "color": "white"
                          }
                        },
                        "header": {
                          "fill": {
                            "color": "#C8D4E3"
                          },
                          "line": {
                            "color": "white"
                          }
                        },
                        "type": "table"
                      }
                    ]
                  },
                  "layout": {
                    "annotationdefaults": {
                      "arrowcolor": "#2a3f5f",
                      "arrowhead": 0,
                      "arrowwidth": 1
                    },
                    "autotypenumbers": "strict",
                    "coloraxis": {
                      "colorbar": {
                        "outlinewidth": 0,
                        "ticks": ""
                      }
                    },
                    "colorscale": {
                      "diverging": [
                        [
                          0,
                          "#8e0152"
                        ],
                        [
                          0.1,
                          "#c51b7d"
                        ],
                        [
                          0.2,
                          "#de77ae"
                        ],
                        [
                          0.3,
                          "#f1b6da"
                        ],
                        [
                          0.4,
                          "#fde0ef"
                        ],
                        [
                          0.5,
                          "#f7f7f7"
                        ],
                        [
                          0.6,
                          "#e6f5d0"
                        ],
                        [
                          0.7,
                          "#b8e186"
                        ],
                        [
                          0.8,
                          "#7fbc41"
                        ],
                        [
                          0.9,
                          "#4d9221"
                        ],
                        [
                          1,
                          "#276419"
                        ]
                      ],
                      "sequential": [
                        [
                          0,
                          "#0d0887"
                        ],
                        [
                          0.1111111111111111,
                          "#46039f"
                        ],
                        [
                          0.2222222222222222,
                          "#7201a8"
                        ],
                        [
                          0.3333333333333333,
                          "#9c179e"
                        ],
                        [
                          0.4444444444444444,
                          "#bd3786"
                        ],
                        [
                          0.5555555555555556,
                          "#d8576b"
                        ],
                        [
                          0.6666666666666666,
                          "#ed7953"
                        ],
                        [
                          0.7777777777777778,
                          "#fb9f3a"
                        ],
                        [
                          0.8888888888888888,
                          "#fdca26"
                        ],
                        [
                          1,
                          "#f0f921"
                        ]
                      ],
                      "sequentialminus": [
                        [
                          0,
                          "#0d0887"
                        ],
                        [
                          0.1111111111111111,
                          "#46039f"
                        ],
                        [
                          0.2222222222222222,
                          "#7201a8"
                        ],
                        [
                          0.3333333333333333,
                          "#9c179e"
                        ],
                        [
                          0.4444444444444444,
                          "#bd3786"
                        ],
                        [
                          0.5555555555555556,
                          "#d8576b"
                        ],
                        [
                          0.6666666666666666,
                          "#ed7953"
                        ],
                        [
                          0.7777777777777778,
                          "#fb9f3a"
                        ],
                        [
                          0.8888888888888888,
                          "#fdca26"
                        ],
                        [
                          1,
                          "#f0f921"
                        ]
                      ]
                    },
                    "colorway": [
                      "#636efa",
                      "#EF553B",
                      "#00cc96",
                      "#ab63fa",
                      "#FFA15A",
                      "#19d3f3",
                      "#FF6692",
                      "#B6E880",
                      "#FF97FF",
                      "#FECB52"
                    ],
                    "font": {
                      "color": "#2a3f5f"
                    },
                    "geo": {
                      "bgcolor": "white",
                      "lakecolor": "white",
                      "landcolor": "#E5ECF6",
                      "showlakes": true,
                      "showland": true,
                      "subunitcolor": "white"
                    },
                    "hoverlabel": {
                      "align": "left"
                    },
                    "hovermode": "closest",
                    "mapbox": {
                      "style": "light"
                    },
                    "paper_bgcolor": "white",
                    "plot_bgcolor": "#E5ECF6",
                    "polar": {
                      "angularaxis": {
                        "gridcolor": "white",
                        "linecolor": "white",
                        "ticks": ""
                      },
                      "bgcolor": "#E5ECF6",
                      "radialaxis": {
                        "gridcolor": "white",
                        "linecolor": "white",
                        "ticks": ""
                      }
                    },
                    "scene": {
                      "xaxis": {
                        "backgroundcolor": "#E5ECF6",
                        "gridcolor": "white",
                        "gridwidth": 2,
                        "linecolor": "white",
                        "showbackground": true,
                        "ticks": "",
                        "zerolinecolor": "white"
                      },
                      "yaxis": {
                        "backgroundcolor": "#E5ECF6",
                        "gridcolor": "white",
                        "gridwidth": 2,
                        "linecolor": "white",
                        "showbackground": true,
                        "ticks": "",
                        "zerolinecolor": "white"
                      },
                      "zaxis": {
                        "backgroundcolor": "#E5ECF6",
                        "gridcolor": "white",
                        "gridwidth": 2,
                        "linecolor": "white",
                        "showbackground": true,
                        "ticks": "",
                        "zerolinecolor": "white"
                      }
                    },
                    "shapedefaults": {
                      "line": {
                        "color": "#2a3f5f"
                      }
                    },
                    "ternary": {
                      "aaxis": {
                        "gridcolor": "white",
                        "linecolor": "white",
                        "ticks": ""
                      },
                      "baxis": {
                        "gridcolor": "white",
                        "linecolor": "white",
                        "ticks": ""
                      },
                      "bgcolor": "#E5ECF6",
                      "caxis": {
                        "gridcolor": "white",
                        "linecolor": "white",
                        "ticks": ""
                      }
                    },
                    "title": {
                      "x": 0.05
                    },
                    "xaxis": {
                      "automargin": true,
                      "gridcolor": "white",
                      "linecolor": "white",
                      "ticks": "",
                      "title": {
                        "standoff": 15
                      },
                      "zerolinecolor": "white",
                      "zerolinewidth": 2
                    },
                    "yaxis": {
                      "automargin": true,
                      "gridcolor": "white",
                      "linecolor": "white",
                      "ticks": "",
                      "title": {
                        "standoff": 15
                      },
                      "zerolinecolor": "white",
                      "zerolinewidth": 2
                    }
                  }
                },
                "title": {
                  "text": "Number of Terrorist Attacks in North America"
                }
              }
            }
          },
          "metadata": {},
          "output_type": "display_data"
        }
      ],
      "source": [
        "geo=pd.DataFrame({'Country': df['Country'].value_counts().index,\n",
        "                   'Number_of_Attacks': df['Country'].value_counts().values})\n",
        "\n",
        "fig = px.choropleth(geo, locations=\"Country\", \n",
        "                    locationmode=\"country names\", color=\"Number_of_Attacks\", \n",
        "                    hover_name=\"Country\", range_color=[1, 1000], \n",
        "                    color_continuous_scale='cividis', scope ='north america',\n",
        "                    title='Number of Terrorist Attacks in North America')\n",
        "fig.update(layout_coloraxis_showscale=True)\n",
        "fig.show()"
      ]
    },
    {
      "cell_type": "markdown",
      "metadata": {
        "id": "D5ZoERGm3gkx"
      },
      "source": [
        "In Northen America United State and Gauatemala,Nicaragua got More Terrorist Casuality.After this Mexico got less number of Terrorist attacked in Country and the safest country in North America is Canada and The highest one is United State."
      ]
    },
    {
      "cell_type": "markdown",
      "metadata": {
        "id": "dVdawEx2D5bB"
      },
      "source": [
        "### **Chart- 16**\n",
        "## **Terrorist Attacks in South America**"
      ]
    },
    {
      "cell_type": "code",
      "execution_count": 15,
      "metadata": {
        "colab": {
          "base_uri": "https://localhost:8080/",
          "height": 542
        },
        "id": "rRkipkXj2BIH",
        "outputId": "a1360112-ed2f-447f-deea-377c72fd446b"
      },
      "outputs": [
        {
          "data": {
            "application/vnd.plotly.v1+json": {
              "config": {
                "plotlyServerURL": "https://plot.ly"
              },
              "data": [
                {
                  "coloraxis": "coloraxis",
                  "geo": "geo",
                  "hovertemplate": "<b>%{hovertext}</b><br><br>Country=%{location}<br>Number_of_Attacks=%{z}<extra></extra>",
                  "hovertext": [
                    "Iraq",
                    "Pakistan",
                    "Afghanistan",
                    "India",
                    "Colombia",
                    "Philippines",
                    "Peru",
                    "El Salvador",
                    "United Kingdom",
                    "Turkey",
                    "Somalia",
                    "Nigeria",
                    "Thailand",
                    "Yemen",
                    "Spain",
                    "Sri Lanka",
                    "United States",
                    "Algeria",
                    "France",
                    "Egypt",
                    "Lebanon",
                    "Chile",
                    "Libya",
                    "West Bank and Gaza Strip",
                    "Syria",
                    "Russia",
                    "Israel",
                    "Guatemala",
                    "South Africa",
                    "Nicaragua",
                    "Ukraine",
                    "Bangladesh",
                    "Italy",
                    "Greece",
                    "Nepal",
                    "Sudan",
                    "Argentina",
                    "Democratic Republic of the Congo",
                    "Indonesia",
                    "Germany",
                    "Iran",
                    "Kenya",
                    "Burundi",
                    "Mali",
                    "Myanmar",
                    "West Germany (FRG)",
                    "Mexico",
                    "Angola",
                    "Japan",
                    "Uganda",
                    "Saudi Arabia",
                    "Mozambique",
                    "Cameroon",
                    "Honduras",
                    "Bolivia",
                    "Ireland",
                    "Venezuela",
                    "Central African Republic",
                    "Brazil",
                    "Cambodia",
                    "China",
                    "South Sudan",
                    "Ecuador",
                    "Georgia",
                    "Haiti",
                    "Bahrain",
                    "Yugoslavia",
                    "Kosovo",
                    "Ethiopia",
                    "Tajikistan",
                    "Bosnia-Herzegovina",
                    "Rwanda",
                    "Niger",
                    "Belgium",
                    "Namibia",
                    "Portugal",
                    "Sweden",
                    "Cyprus",
                    "Netherlands",
                    "Panama",
                    "Senegal",
                    "Macedonia",
                    "Austria",
                    "Australia",
                    "Paraguay",
                    "Jordan",
                    "Switzerland",
                    "Tunisia",
                    "Zimbabwe",
                    "Sierra Leone",
                    "Malaysia",
                    "Canada",
                    "Chad",
                    "Dominican Republic",
                    "Papua New Guinea",
                    "Rhodesia",
                    "Uruguay",
                    "Albania",
                    "Soviet Union",
                    "Kuwait",
                    "Ivory Coast",
                    "Costa Rica",
                    "Suriname",
                    "Zambia",
                    "Tanzania",
                    "Croatia",
                    "Guadeloupe",
                    "Bulgaria",
                    "Burkina Faso",
                    "Zaire",
                    "Taiwan",
                    "Azerbaijan",
                    "Togo",
                    "Hungary",
                    "Denmark",
                    "Poland",
                    "South Korea",
                    "East Germany (GDR)",
                    "Morocco",
                    "Jamaica",
                    "Republic of the Congo",
                    "Kyrgyzstan",
                    "Liberia",
                    "Macau",
                    "Czech Republic",
                    "New Caledonia",
                    "Cuba",
                    "Lesotho",
                    "Kazakhstan",
                    "Madagascar",
                    "Laos",
                    "Guyana",
                    "Hong Kong",
                    "Guinea",
                    "Armenia",
                    "Malta",
                    "Maldives",
                    "United Arab Emirates",
                    "Trinidad and Tobago",
                    "Djibouti",
                    "Uzbekistan",
                    "Moldova",
                    "Finland",
                    "New Zealand",
                    "Ghana",
                    "Norway",
                    "Mauritania",
                    "Slovak Republic",
                    "Fiji",
                    "Latvia",
                    "Swaziland",
                    "Estonia",
                    "Luxembourg",
                    "Belarus",
                    "Vietnam",
                    "Martinique",
                    "Serbia",
                    "Serbia-Montenegro",
                    "East Timor",
                    "Botswana",
                    "Eritrea",
                    "Czechoslovakia",
                    "Guinea-Bissau",
                    "Gabon",
                    "Lithuania",
                    "Benin",
                    "Belize",
                    "Qatar",
                    "Singapore",
                    "French Guiana",
                    "Romania",
                    "Bhutan",
                    "North Yemen",
                    "Slovenia",
                    "Brunei",
                    "Grenada",
                    "Bahamas",
                    "Montenegro",
                    "Western Sahara",
                    "Comoros",
                    "Malawi",
                    "People's Republic of the Congo",
                    "Iceland",
                    "Solomon Islands",
                    "Gambia",
                    "Dominica",
                    "French Polynesia",
                    "Barbados",
                    "Vanuatu",
                    "Turkmenistan",
                    "Seychelles",
                    "Mauritius",
                    "St. Kitts and Nevis",
                    "Equatorial Guinea",
                    "South Yemen",
                    "Vatican City",
                    "Falkland Islands",
                    "St. Lucia",
                    "North Korea",
                    "New Hebrides",
                    "International",
                    "Wallis and Futuna",
                    "South Vietnam",
                    "Andorra",
                    "Antigua and Barbuda"
                  ],
                  "locationmode": "country names",
                  "locations": [
                    "Iraq",
                    "Pakistan",
                    "Afghanistan",
                    "India",
                    "Colombia",
                    "Philippines",
                    "Peru",
                    "El Salvador",
                    "United Kingdom",
                    "Turkey",
                    "Somalia",
                    "Nigeria",
                    "Thailand",
                    "Yemen",
                    "Spain",
                    "Sri Lanka",
                    "United States",
                    "Algeria",
                    "France",
                    "Egypt",
                    "Lebanon",
                    "Chile",
                    "Libya",
                    "West Bank and Gaza Strip",
                    "Syria",
                    "Russia",
                    "Israel",
                    "Guatemala",
                    "South Africa",
                    "Nicaragua",
                    "Ukraine",
                    "Bangladesh",
                    "Italy",
                    "Greece",
                    "Nepal",
                    "Sudan",
                    "Argentina",
                    "Democratic Republic of the Congo",
                    "Indonesia",
                    "Germany",
                    "Iran",
                    "Kenya",
                    "Burundi",
                    "Mali",
                    "Myanmar",
                    "West Germany (FRG)",
                    "Mexico",
                    "Angola",
                    "Japan",
                    "Uganda",
                    "Saudi Arabia",
                    "Mozambique",
                    "Cameroon",
                    "Honduras",
                    "Bolivia",
                    "Ireland",
                    "Venezuela",
                    "Central African Republic",
                    "Brazil",
                    "Cambodia",
                    "China",
                    "South Sudan",
                    "Ecuador",
                    "Georgia",
                    "Haiti",
                    "Bahrain",
                    "Yugoslavia",
                    "Kosovo",
                    "Ethiopia",
                    "Tajikistan",
                    "Bosnia-Herzegovina",
                    "Rwanda",
                    "Niger",
                    "Belgium",
                    "Namibia",
                    "Portugal",
                    "Sweden",
                    "Cyprus",
                    "Netherlands",
                    "Panama",
                    "Senegal",
                    "Macedonia",
                    "Austria",
                    "Australia",
                    "Paraguay",
                    "Jordan",
                    "Switzerland",
                    "Tunisia",
                    "Zimbabwe",
                    "Sierra Leone",
                    "Malaysia",
                    "Canada",
                    "Chad",
                    "Dominican Republic",
                    "Papua New Guinea",
                    "Rhodesia",
                    "Uruguay",
                    "Albania",
                    "Soviet Union",
                    "Kuwait",
                    "Ivory Coast",
                    "Costa Rica",
                    "Suriname",
                    "Zambia",
                    "Tanzania",
                    "Croatia",
                    "Guadeloupe",
                    "Bulgaria",
                    "Burkina Faso",
                    "Zaire",
                    "Taiwan",
                    "Azerbaijan",
                    "Togo",
                    "Hungary",
                    "Denmark",
                    "Poland",
                    "South Korea",
                    "East Germany (GDR)",
                    "Morocco",
                    "Jamaica",
                    "Republic of the Congo",
                    "Kyrgyzstan",
                    "Liberia",
                    "Macau",
                    "Czech Republic",
                    "New Caledonia",
                    "Cuba",
                    "Lesotho",
                    "Kazakhstan",
                    "Madagascar",
                    "Laos",
                    "Guyana",
                    "Hong Kong",
                    "Guinea",
                    "Armenia",
                    "Malta",
                    "Maldives",
                    "United Arab Emirates",
                    "Trinidad and Tobago",
                    "Djibouti",
                    "Uzbekistan",
                    "Moldova",
                    "Finland",
                    "New Zealand",
                    "Ghana",
                    "Norway",
                    "Mauritania",
                    "Slovak Republic",
                    "Fiji",
                    "Latvia",
                    "Swaziland",
                    "Estonia",
                    "Luxembourg",
                    "Belarus",
                    "Vietnam",
                    "Martinique",
                    "Serbia",
                    "Serbia-Montenegro",
                    "East Timor",
                    "Botswana",
                    "Eritrea",
                    "Czechoslovakia",
                    "Guinea-Bissau",
                    "Gabon",
                    "Lithuania",
                    "Benin",
                    "Belize",
                    "Qatar",
                    "Singapore",
                    "French Guiana",
                    "Romania",
                    "Bhutan",
                    "North Yemen",
                    "Slovenia",
                    "Brunei",
                    "Grenada",
                    "Bahamas",
                    "Montenegro",
                    "Western Sahara",
                    "Comoros",
                    "Malawi",
                    "People's Republic of the Congo",
                    "Iceland",
                    "Solomon Islands",
                    "Gambia",
                    "Dominica",
                    "French Polynesia",
                    "Barbados",
                    "Vanuatu",
                    "Turkmenistan",
                    "Seychelles",
                    "Mauritius",
                    "St. Kitts and Nevis",
                    "Equatorial Guinea",
                    "South Yemen",
                    "Vatican City",
                    "Falkland Islands",
                    "St. Lucia",
                    "North Korea",
                    "New Hebrides",
                    "International",
                    "Wallis and Futuna",
                    "South Vietnam",
                    "Andorra",
                    "Antigua and Barbuda"
                  ],
                  "name": "",
                  "type": "choropleth",
                  "z": [
                    24636,
                    14368,
                    12731,
                    11960,
                    8306,
                    6908,
                    6096,
                    5320,
                    5235,
                    4292,
                    4142,
                    3907,
                    3849,
                    3347,
                    3249,
                    3022,
                    2836,
                    2743,
                    2693,
                    2479,
                    2478,
                    2365,
                    2249,
                    2227,
                    2201,
                    2194,
                    2183,
                    2050,
                    2016,
                    1970,
                    1709,
                    1648,
                    1565,
                    1275,
                    1215,
                    967,
                    815,
                    775,
                    761,
                    735,
                    684,
                    683,
                    613,
                    566,
                    546,
                    541,
                    524,
                    499,
                    402,
                    394,
                    371,
                    363,
                    332,
                    323,
                    314,
                    307,
                    293,
                    283,
                    273,
                    259,
                    252,
                    225,
                    220,
                    217,
                    213,
                    207,
                    203,
                    196,
                    190,
                    188,
                    159,
                    159,
                    154,
                    154,
                    151,
                    140,
                    132,
                    132,
                    130,
                    127,
                    118,
                    118,
                    115,
                    114,
                    114,
                    113,
                    111,
                    109,
                    101,
                    101,
                    99,
                    96,
                    91,
                    90,
                    89,
                    83,
                    82,
                    80,
                    78,
                    76,
                    74,
                    67,
                    66,
                    62,
                    59,
                    57,
                    56,
                    52,
                    52,
                    50,
                    50,
                    49,
                    48,
                    46,
                    41,
                    39,
                    38,
                    38,
                    36,
                    36,
                    36,
                    35,
                    34,
                    33,
                    32,
                    31,
                    30,
                    29,
                    27,
                    27,
                    27,
                    26,
                    26,
                    25,
                    24,
                    23,
                    22,
                    22,
                    22,
                    22,
                    21,
                    21,
                    20,
                    20,
                    19,
                    19,
                    18,
                    18,
                    17,
                    17,
                    16,
                    16,
                    16,
                    13,
                    12,
                    12,
                    12,
                    11,
                    10,
                    10,
                    10,
                    10,
                    9,
                    8,
                    8,
                    8,
                    8,
                    7,
                    7,
                    7,
                    6,
                    6,
                    6,
                    6,
                    6,
                    5,
                    5,
                    5,
                    5,
                    5,
                    5,
                    4,
                    4,
                    4,
                    3,
                    3,
                    3,
                    3,
                    2,
                    2,
                    2,
                    2,
                    2,
                    2,
                    2,
                    1,
                    1,
                    1,
                    1,
                    1,
                    1,
                    1,
                    1,
                    1,
                    1
                  ]
                }
              ],
              "layout": {
                "coloraxis": {
                  "cmax": 1000,
                  "cmin": 1,
                  "colorbar": {
                    "title": {
                      "text": "Number_of_Attacks"
                    }
                  },
                  "colorscale": [
                    [
                      0,
                      "#00224e"
                    ],
                    [
                      0.1111111111111111,
                      "#123570"
                    ],
                    [
                      0.2222222222222222,
                      "#3b496c"
                    ],
                    [
                      0.3333333333333333,
                      "#575d6d"
                    ],
                    [
                      0.4444444444444444,
                      "#707173"
                    ],
                    [
                      0.5555555555555556,
                      "#8a8678"
                    ],
                    [
                      0.6666666666666666,
                      "#a59c74"
                    ],
                    [
                      0.7777777777777778,
                      "#c3b369"
                    ],
                    [
                      0.8888888888888888,
                      "#e1cc55"
                    ],
                    [
                      1,
                      "#fee838"
                    ]
                  ],
                  "showscale": true
                },
                "geo": {
                  "center": {},
                  "domain": {
                    "x": [
                      0,
                      1
                    ],
                    "y": [
                      0,
                      1
                    ]
                  },
                  "scope": "south america"
                },
                "legend": {
                  "tracegroupgap": 0
                },
                "template": {
                  "data": {
                    "bar": [
                      {
                        "error_x": {
                          "color": "#2a3f5f"
                        },
                        "error_y": {
                          "color": "#2a3f5f"
                        },
                        "marker": {
                          "line": {
                            "color": "#E5ECF6",
                            "width": 0.5
                          },
                          "pattern": {
                            "fillmode": "overlay",
                            "size": 10,
                            "solidity": 0.2
                          }
                        },
                        "type": "bar"
                      }
                    ],
                    "barpolar": [
                      {
                        "marker": {
                          "line": {
                            "color": "#E5ECF6",
                            "width": 0.5
                          },
                          "pattern": {
                            "fillmode": "overlay",
                            "size": 10,
                            "solidity": 0.2
                          }
                        },
                        "type": "barpolar"
                      }
                    ],
                    "carpet": [
                      {
                        "aaxis": {
                          "endlinecolor": "#2a3f5f",
                          "gridcolor": "white",
                          "linecolor": "white",
                          "minorgridcolor": "white",
                          "startlinecolor": "#2a3f5f"
                        },
                        "baxis": {
                          "endlinecolor": "#2a3f5f",
                          "gridcolor": "white",
                          "linecolor": "white",
                          "minorgridcolor": "white",
                          "startlinecolor": "#2a3f5f"
                        },
                        "type": "carpet"
                      }
                    ],
                    "choropleth": [
                      {
                        "colorbar": {
                          "outlinewidth": 0,
                          "ticks": ""
                        },
                        "type": "choropleth"
                      }
                    ],
                    "contour": [
                      {
                        "colorbar": {
                          "outlinewidth": 0,
                          "ticks": ""
                        },
                        "colorscale": [
                          [
                            0,
                            "#0d0887"
                          ],
                          [
                            0.1111111111111111,
                            "#46039f"
                          ],
                          [
                            0.2222222222222222,
                            "#7201a8"
                          ],
                          [
                            0.3333333333333333,
                            "#9c179e"
                          ],
                          [
                            0.4444444444444444,
                            "#bd3786"
                          ],
                          [
                            0.5555555555555556,
                            "#d8576b"
                          ],
                          [
                            0.6666666666666666,
                            "#ed7953"
                          ],
                          [
                            0.7777777777777778,
                            "#fb9f3a"
                          ],
                          [
                            0.8888888888888888,
                            "#fdca26"
                          ],
                          [
                            1,
                            "#f0f921"
                          ]
                        ],
                        "type": "contour"
                      }
                    ],
                    "contourcarpet": [
                      {
                        "colorbar": {
                          "outlinewidth": 0,
                          "ticks": ""
                        },
                        "type": "contourcarpet"
                      }
                    ],
                    "heatmap": [
                      {
                        "colorbar": {
                          "outlinewidth": 0,
                          "ticks": ""
                        },
                        "colorscale": [
                          [
                            0,
                            "#0d0887"
                          ],
                          [
                            0.1111111111111111,
                            "#46039f"
                          ],
                          [
                            0.2222222222222222,
                            "#7201a8"
                          ],
                          [
                            0.3333333333333333,
                            "#9c179e"
                          ],
                          [
                            0.4444444444444444,
                            "#bd3786"
                          ],
                          [
                            0.5555555555555556,
                            "#d8576b"
                          ],
                          [
                            0.6666666666666666,
                            "#ed7953"
                          ],
                          [
                            0.7777777777777778,
                            "#fb9f3a"
                          ],
                          [
                            0.8888888888888888,
                            "#fdca26"
                          ],
                          [
                            1,
                            "#f0f921"
                          ]
                        ],
                        "type": "heatmap"
                      }
                    ],
                    "heatmapgl": [
                      {
                        "colorbar": {
                          "outlinewidth": 0,
                          "ticks": ""
                        },
                        "colorscale": [
                          [
                            0,
                            "#0d0887"
                          ],
                          [
                            0.1111111111111111,
                            "#46039f"
                          ],
                          [
                            0.2222222222222222,
                            "#7201a8"
                          ],
                          [
                            0.3333333333333333,
                            "#9c179e"
                          ],
                          [
                            0.4444444444444444,
                            "#bd3786"
                          ],
                          [
                            0.5555555555555556,
                            "#d8576b"
                          ],
                          [
                            0.6666666666666666,
                            "#ed7953"
                          ],
                          [
                            0.7777777777777778,
                            "#fb9f3a"
                          ],
                          [
                            0.8888888888888888,
                            "#fdca26"
                          ],
                          [
                            1,
                            "#f0f921"
                          ]
                        ],
                        "type": "heatmapgl"
                      }
                    ],
                    "histogram": [
                      {
                        "marker": {
                          "pattern": {
                            "fillmode": "overlay",
                            "size": 10,
                            "solidity": 0.2
                          }
                        },
                        "type": "histogram"
                      }
                    ],
                    "histogram2d": [
                      {
                        "colorbar": {
                          "outlinewidth": 0,
                          "ticks": ""
                        },
                        "colorscale": [
                          [
                            0,
                            "#0d0887"
                          ],
                          [
                            0.1111111111111111,
                            "#46039f"
                          ],
                          [
                            0.2222222222222222,
                            "#7201a8"
                          ],
                          [
                            0.3333333333333333,
                            "#9c179e"
                          ],
                          [
                            0.4444444444444444,
                            "#bd3786"
                          ],
                          [
                            0.5555555555555556,
                            "#d8576b"
                          ],
                          [
                            0.6666666666666666,
                            "#ed7953"
                          ],
                          [
                            0.7777777777777778,
                            "#fb9f3a"
                          ],
                          [
                            0.8888888888888888,
                            "#fdca26"
                          ],
                          [
                            1,
                            "#f0f921"
                          ]
                        ],
                        "type": "histogram2d"
                      }
                    ],
                    "histogram2dcontour": [
                      {
                        "colorbar": {
                          "outlinewidth": 0,
                          "ticks": ""
                        },
                        "colorscale": [
                          [
                            0,
                            "#0d0887"
                          ],
                          [
                            0.1111111111111111,
                            "#46039f"
                          ],
                          [
                            0.2222222222222222,
                            "#7201a8"
                          ],
                          [
                            0.3333333333333333,
                            "#9c179e"
                          ],
                          [
                            0.4444444444444444,
                            "#bd3786"
                          ],
                          [
                            0.5555555555555556,
                            "#d8576b"
                          ],
                          [
                            0.6666666666666666,
                            "#ed7953"
                          ],
                          [
                            0.7777777777777778,
                            "#fb9f3a"
                          ],
                          [
                            0.8888888888888888,
                            "#fdca26"
                          ],
                          [
                            1,
                            "#f0f921"
                          ]
                        ],
                        "type": "histogram2dcontour"
                      }
                    ],
                    "mesh3d": [
                      {
                        "colorbar": {
                          "outlinewidth": 0,
                          "ticks": ""
                        },
                        "type": "mesh3d"
                      }
                    ],
                    "parcoords": [
                      {
                        "line": {
                          "colorbar": {
                            "outlinewidth": 0,
                            "ticks": ""
                          }
                        },
                        "type": "parcoords"
                      }
                    ],
                    "pie": [
                      {
                        "automargin": true,
                        "type": "pie"
                      }
                    ],
                    "scatter": [
                      {
                        "fillpattern": {
                          "fillmode": "overlay",
                          "size": 10,
                          "solidity": 0.2
                        },
                        "type": "scatter"
                      }
                    ],
                    "scatter3d": [
                      {
                        "line": {
                          "colorbar": {
                            "outlinewidth": 0,
                            "ticks": ""
                          }
                        },
                        "marker": {
                          "colorbar": {
                            "outlinewidth": 0,
                            "ticks": ""
                          }
                        },
                        "type": "scatter3d"
                      }
                    ],
                    "scattercarpet": [
                      {
                        "marker": {
                          "colorbar": {
                            "outlinewidth": 0,
                            "ticks": ""
                          }
                        },
                        "type": "scattercarpet"
                      }
                    ],
                    "scattergeo": [
                      {
                        "marker": {
                          "colorbar": {
                            "outlinewidth": 0,
                            "ticks": ""
                          }
                        },
                        "type": "scattergeo"
                      }
                    ],
                    "scattergl": [
                      {
                        "marker": {
                          "colorbar": {
                            "outlinewidth": 0,
                            "ticks": ""
                          }
                        },
                        "type": "scattergl"
                      }
                    ],
                    "scattermapbox": [
                      {
                        "marker": {
                          "colorbar": {
                            "outlinewidth": 0,
                            "ticks": ""
                          }
                        },
                        "type": "scattermapbox"
                      }
                    ],
                    "scatterpolar": [
                      {
                        "marker": {
                          "colorbar": {
                            "outlinewidth": 0,
                            "ticks": ""
                          }
                        },
                        "type": "scatterpolar"
                      }
                    ],
                    "scatterpolargl": [
                      {
                        "marker": {
                          "colorbar": {
                            "outlinewidth": 0,
                            "ticks": ""
                          }
                        },
                        "type": "scatterpolargl"
                      }
                    ],
                    "scatterternary": [
                      {
                        "marker": {
                          "colorbar": {
                            "outlinewidth": 0,
                            "ticks": ""
                          }
                        },
                        "type": "scatterternary"
                      }
                    ],
                    "surface": [
                      {
                        "colorbar": {
                          "outlinewidth": 0,
                          "ticks": ""
                        },
                        "colorscale": [
                          [
                            0,
                            "#0d0887"
                          ],
                          [
                            0.1111111111111111,
                            "#46039f"
                          ],
                          [
                            0.2222222222222222,
                            "#7201a8"
                          ],
                          [
                            0.3333333333333333,
                            "#9c179e"
                          ],
                          [
                            0.4444444444444444,
                            "#bd3786"
                          ],
                          [
                            0.5555555555555556,
                            "#d8576b"
                          ],
                          [
                            0.6666666666666666,
                            "#ed7953"
                          ],
                          [
                            0.7777777777777778,
                            "#fb9f3a"
                          ],
                          [
                            0.8888888888888888,
                            "#fdca26"
                          ],
                          [
                            1,
                            "#f0f921"
                          ]
                        ],
                        "type": "surface"
                      }
                    ],
                    "table": [
                      {
                        "cells": {
                          "fill": {
                            "color": "#EBF0F8"
                          },
                          "line": {
                            "color": "white"
                          }
                        },
                        "header": {
                          "fill": {
                            "color": "#C8D4E3"
                          },
                          "line": {
                            "color": "white"
                          }
                        },
                        "type": "table"
                      }
                    ]
                  },
                  "layout": {
                    "annotationdefaults": {
                      "arrowcolor": "#2a3f5f",
                      "arrowhead": 0,
                      "arrowwidth": 1
                    },
                    "autotypenumbers": "strict",
                    "coloraxis": {
                      "colorbar": {
                        "outlinewidth": 0,
                        "ticks": ""
                      }
                    },
                    "colorscale": {
                      "diverging": [
                        [
                          0,
                          "#8e0152"
                        ],
                        [
                          0.1,
                          "#c51b7d"
                        ],
                        [
                          0.2,
                          "#de77ae"
                        ],
                        [
                          0.3,
                          "#f1b6da"
                        ],
                        [
                          0.4,
                          "#fde0ef"
                        ],
                        [
                          0.5,
                          "#f7f7f7"
                        ],
                        [
                          0.6,
                          "#e6f5d0"
                        ],
                        [
                          0.7,
                          "#b8e186"
                        ],
                        [
                          0.8,
                          "#7fbc41"
                        ],
                        [
                          0.9,
                          "#4d9221"
                        ],
                        [
                          1,
                          "#276419"
                        ]
                      ],
                      "sequential": [
                        [
                          0,
                          "#0d0887"
                        ],
                        [
                          0.1111111111111111,
                          "#46039f"
                        ],
                        [
                          0.2222222222222222,
                          "#7201a8"
                        ],
                        [
                          0.3333333333333333,
                          "#9c179e"
                        ],
                        [
                          0.4444444444444444,
                          "#bd3786"
                        ],
                        [
                          0.5555555555555556,
                          "#d8576b"
                        ],
                        [
                          0.6666666666666666,
                          "#ed7953"
                        ],
                        [
                          0.7777777777777778,
                          "#fb9f3a"
                        ],
                        [
                          0.8888888888888888,
                          "#fdca26"
                        ],
                        [
                          1,
                          "#f0f921"
                        ]
                      ],
                      "sequentialminus": [
                        [
                          0,
                          "#0d0887"
                        ],
                        [
                          0.1111111111111111,
                          "#46039f"
                        ],
                        [
                          0.2222222222222222,
                          "#7201a8"
                        ],
                        [
                          0.3333333333333333,
                          "#9c179e"
                        ],
                        [
                          0.4444444444444444,
                          "#bd3786"
                        ],
                        [
                          0.5555555555555556,
                          "#d8576b"
                        ],
                        [
                          0.6666666666666666,
                          "#ed7953"
                        ],
                        [
                          0.7777777777777778,
                          "#fb9f3a"
                        ],
                        [
                          0.8888888888888888,
                          "#fdca26"
                        ],
                        [
                          1,
                          "#f0f921"
                        ]
                      ]
                    },
                    "colorway": [
                      "#636efa",
                      "#EF553B",
                      "#00cc96",
                      "#ab63fa",
                      "#FFA15A",
                      "#19d3f3",
                      "#FF6692",
                      "#B6E880",
                      "#FF97FF",
                      "#FECB52"
                    ],
                    "font": {
                      "color": "#2a3f5f"
                    },
                    "geo": {
                      "bgcolor": "white",
                      "lakecolor": "white",
                      "landcolor": "#E5ECF6",
                      "showlakes": true,
                      "showland": true,
                      "subunitcolor": "white"
                    },
                    "hoverlabel": {
                      "align": "left"
                    },
                    "hovermode": "closest",
                    "mapbox": {
                      "style": "light"
                    },
                    "paper_bgcolor": "white",
                    "plot_bgcolor": "#E5ECF6",
                    "polar": {
                      "angularaxis": {
                        "gridcolor": "white",
                        "linecolor": "white",
                        "ticks": ""
                      },
                      "bgcolor": "#E5ECF6",
                      "radialaxis": {
                        "gridcolor": "white",
                        "linecolor": "white",
                        "ticks": ""
                      }
                    },
                    "scene": {
                      "xaxis": {
                        "backgroundcolor": "#E5ECF6",
                        "gridcolor": "white",
                        "gridwidth": 2,
                        "linecolor": "white",
                        "showbackground": true,
                        "ticks": "",
                        "zerolinecolor": "white"
                      },
                      "yaxis": {
                        "backgroundcolor": "#E5ECF6",
                        "gridcolor": "white",
                        "gridwidth": 2,
                        "linecolor": "white",
                        "showbackground": true,
                        "ticks": "",
                        "zerolinecolor": "white"
                      },
                      "zaxis": {
                        "backgroundcolor": "#E5ECF6",
                        "gridcolor": "white",
                        "gridwidth": 2,
                        "linecolor": "white",
                        "showbackground": true,
                        "ticks": "",
                        "zerolinecolor": "white"
                      }
                    },
                    "shapedefaults": {
                      "line": {
                        "color": "#2a3f5f"
                      }
                    },
                    "ternary": {
                      "aaxis": {
                        "gridcolor": "white",
                        "linecolor": "white",
                        "ticks": ""
                      },
                      "baxis": {
                        "gridcolor": "white",
                        "linecolor": "white",
                        "ticks": ""
                      },
                      "bgcolor": "#E5ECF6",
                      "caxis": {
                        "gridcolor": "white",
                        "linecolor": "white",
                        "ticks": ""
                      }
                    },
                    "title": {
                      "x": 0.05
                    },
                    "xaxis": {
                      "automargin": true,
                      "gridcolor": "white",
                      "linecolor": "white",
                      "ticks": "",
                      "title": {
                        "standoff": 15
                      },
                      "zerolinecolor": "white",
                      "zerolinewidth": 2
                    },
                    "yaxis": {
                      "automargin": true,
                      "gridcolor": "white",
                      "linecolor": "white",
                      "ticks": "",
                      "title": {
                        "standoff": 15
                      },
                      "zerolinecolor": "white",
                      "zerolinewidth": 2
                    }
                  }
                },
                "title": {
                  "text": "Number of Terrorist Attacks in South America"
                }
              }
            }
          },
          "metadata": {},
          "output_type": "display_data"
        }
      ],
      "source": [
        "geo=pd.DataFrame({'Country': df['Country'].value_counts().index,\n",
        "                   'Number_of_Attacks': df['Country'].value_counts().values})\n",
        "\n",
        "fig = px.choropleth(geo, locations=\"Country\", \n",
        "                    locationmode=\"country names\", color=\"Number_of_Attacks\", \n",
        "                    hover_name=\"Country\", range_color=[1, 1000], \n",
        "                    color_continuous_scale='cividis', scope ='south america',\n",
        "                    title='Number of Terrorist Attacks in South America')\n",
        "fig.update(layout_coloraxis_showscale=True)\n",
        "fig.show()"
      ]
    },
    {
      "cell_type": "markdown",
      "metadata": {
        "id": "1cbfrP9R51F5"
      },
      "source": [
        "In the South America Western boarder is most Terrorist Attacked Country like Colombia,Peru,Chile and Argentina got less attacked by Terrorist and The Most Terrorist Attcked Country is Colombia.  "
      ]
    },
    {
      "cell_type": "markdown",
      "metadata": {
        "id": "O3gZtOx0ozXF"
      },
      "source": [
        "## **Conclusion**"
      ]
    },
    {
      "cell_type": "markdown",
      "metadata": {
        "id": "nc8Lasmqo9-5"
      },
      "source": [
        "\n",
        "\n",
        "*  Iraq – the country has faced staggaring 24636 number of such attacks between 1970 to 2017 which accounted for 13.61% of terrorism attacks in the world.\n",
        "*  Attacks were more during 2014 and then in 2015. When compared to attacks from 1970 onwards, the last 6 years scored a maximum. But from 2014 onwards count started decreasing.\n",
        "\n",
        "\n",
        "*  Iraq dominates all the countries and it has the highest number of attacks and then Pakistan, Afghanistan, and India follow it.\n",
        "*  Middle East and North Africa and South Asia are the two regions who got more terror attacks since 1970\n",
        "\n",
        "\n",
        "*  For most of the attacks, The target is Private Citizens & property and the next is on Military leads.\n",
        "*  Most of the attacks were through either Bombing or Explosion.\n",
        "\n",
        "\n",
        "*  'Islamic State of Iraq and the Levant (ISIL)' were on a killing sprea where they murdured 31,058 personal since 1970, Most on compared to other groups. Taliban is again on second place with 29,269 kills.\n",
        "*  'Islamic State of Iraq & the Levant (ISIL)' and 'Taliban' are two most active Terorrist groups in the last 5 years.\n",
        "\n",
        "\n",
        "*  Srinagar which is in Jammu and Kashmir has been the center of the dispute and terror attacks in india.\n",
        "*  Seems like Terrorist do like 'Explosives' very much like this is the most used Weapon category across the world terror groups."
      ]
    }
  ],
  "metadata": {
    "colab": {
      "provenance": []
    },
    "kernelspec": {
      "display_name": "base",
      "language": "python",
      "name": "python3"
    },
    "language_info": {
      "codemirror_mode": {
        "name": "ipython",
        "version": 3
      },
      "file_extension": ".py",
      "mimetype": "text/x-python",
      "name": "python",
      "nbconvert_exporter": "python",
      "pygments_lexer": "ipython3",
      "version": "3.9.13"
    },
    "vscode": {
      "interpreter": {
        "hash": "44cb3ae9a0407f157374b61e2329058310f1cd5a9a64105a403ccb4169b28b1f"
      }
    }
  },
  "nbformat": 4,
  "nbformat_minor": 0
}
